{
 "cells": [
  {
   "cell_type": "markdown",
   "id": "dfcef9b9-e7ce-406e-a71c-10c1a251e175",
   "metadata": {},
   "source": [
    "# Tara for IHOP"
   ]
  },
  {
   "cell_type": "code",
   "execution_count": 26,
   "id": "3e2c7ea1-e51f-4372-9449-94a3ce722270",
   "metadata": {},
   "outputs": [],
   "source": [
    "# imports\n",
    "from importlib import reload\n",
    "import numpy as np\n",
    "import pandas\n",
    "import datetime\n",
    "\n",
    "from matplotlib import pyplot as plt\n",
    "from cartopy.mpl.gridliner import LONGITUDE_FORMATTER, LATITUDE_FORMATTER\n",
    "import cartopy.crs as ccrs\n",
    "import cartopy\n",
    "\n",
    "import seaborn as sns\n",
    "\n",
    "from oceancolor.tara import io\n",
    "from oceancolor.tara import spectra\n",
    "from oceancolor.hydrolight import loisel23\n",
    "from oceancolor.water import io as water_io\n",
    "from oceancolor.utils import spectra as spec_utils\n",
    "\n",
    "from sklearn import decomposition\n",
    "\n",
    "from wpca import WPCA"
   ]
  },
  {
   "cell_type": "code",
   "execution_count": 20,
   "id": "589f1cde-8ce6-4bd3-9e17-11f787a09b5e",
   "metadata": {},
   "outputs": [],
   "source": [
    "%matplotlib ipympl"
   ]
  },
  {
   "cell_type": "code",
   "execution_count": 37,
   "id": "db1c7133-a08f-4dbd-b6c0-860bed6faaf3",
   "metadata": {},
   "outputs": [],
   "source": [
    "def plot_a(wv, a, clr=None):\n",
    "    fig = plt.figure(figsize=(6,6))\n",
    "    plt.clf()\n",
    "    ax = plt.gca()\n",
    "    ax.plot(wv, a, color=clr)\n",
    "    #\n",
    "    ax.set_xlabel('Wavelength (nm)')\n",
    "    ax.set_ylabel(r'a (m$^{-1}$)')\n",
    "    plt.show()"
   ]
  },
  {
   "cell_type": "markdown",
   "id": "85fc3b0c-a18a-4f63-b904-739117c014ef",
   "metadata": {},
   "source": [
    "# Load L23 data (for wavelengths)"
   ]
  },
  {
   "cell_type": "code",
   "execution_count": 2,
   "id": "393d1960-14ee-4e24-9faf-0b6e9233b996",
   "metadata": {},
   "outputs": [],
   "source": [
    "l23_ds = loisel23.load_ds(4,0)"
   ]
  },
  {
   "cell_type": "code",
   "execution_count": 5,
   "id": "d47ded5d-a178-40a0-9734-f932be3b7dcd",
   "metadata": {},
   "outputs": [
    {
     "data": {
      "text/html": [
       "<div><svg style=\"position: absolute; width: 0; height: 0; overflow: hidden\">\n",
       "<defs>\n",
       "<symbol id=\"icon-database\" viewBox=\"0 0 32 32\">\n",
       "<path d=\"M16 0c-8.837 0-16 2.239-16 5v4c0 2.761 7.163 5 16 5s16-2.239 16-5v-4c0-2.761-7.163-5-16-5z\"></path>\n",
       "<path d=\"M16 17c-8.837 0-16-2.239-16-5v6c0 2.761 7.163 5 16 5s16-2.239 16-5v-6c0 2.761-7.163 5-16 5z\"></path>\n",
       "<path d=\"M16 26c-8.837 0-16-2.239-16-5v6c0 2.761 7.163 5 16 5s16-2.239 16-5v-6c0 2.761-7.163 5-16 5z\"></path>\n",
       "</symbol>\n",
       "<symbol id=\"icon-file-text2\" viewBox=\"0 0 32 32\">\n",
       "<path d=\"M28.681 7.159c-0.694-0.947-1.662-2.053-2.724-3.116s-2.169-2.030-3.116-2.724c-1.612-1.182-2.393-1.319-2.841-1.319h-15.5c-1.378 0-2.5 1.121-2.5 2.5v27c0 1.378 1.122 2.5 2.5 2.5h23c1.378 0 2.5-1.122 2.5-2.5v-19.5c0-0.448-0.137-1.23-1.319-2.841zM24.543 5.457c0.959 0.959 1.712 1.825 2.268 2.543h-4.811v-4.811c0.718 0.556 1.584 1.309 2.543 2.268zM28 29.5c0 0.271-0.229 0.5-0.5 0.5h-23c-0.271 0-0.5-0.229-0.5-0.5v-27c0-0.271 0.229-0.5 0.5-0.5 0 0 15.499-0 15.5 0v7c0 0.552 0.448 1 1 1h7v19.5z\"></path>\n",
       "<path d=\"M23 26h-14c-0.552 0-1-0.448-1-1s0.448-1 1-1h14c0.552 0 1 0.448 1 1s-0.448 1-1 1z\"></path>\n",
       "<path d=\"M23 22h-14c-0.552 0-1-0.448-1-1s0.448-1 1-1h14c0.552 0 1 0.448 1 1s-0.448 1-1 1z\"></path>\n",
       "<path d=\"M23 18h-14c-0.552 0-1-0.448-1-1s0.448-1 1-1h14c0.552 0 1 0.448 1 1s-0.448 1-1 1z\"></path>\n",
       "</symbol>\n",
       "</defs>\n",
       "</svg>\n",
       "<style>/* CSS stylesheet for displaying xarray objects in jupyterlab.\n",
       " *\n",
       " */\n",
       "\n",
       ":root {\n",
       "  --xr-font-color0: var(--jp-content-font-color0, rgba(0, 0, 0, 1));\n",
       "  --xr-font-color2: var(--jp-content-font-color2, rgba(0, 0, 0, 0.54));\n",
       "  --xr-font-color3: var(--jp-content-font-color3, rgba(0, 0, 0, 0.38));\n",
       "  --xr-border-color: var(--jp-border-color2, #e0e0e0);\n",
       "  --xr-disabled-color: var(--jp-layout-color3, #bdbdbd);\n",
       "  --xr-background-color: var(--jp-layout-color0, white);\n",
       "  --xr-background-color-row-even: var(--jp-layout-color1, white);\n",
       "  --xr-background-color-row-odd: var(--jp-layout-color2, #eeeeee);\n",
       "}\n",
       "\n",
       "html[theme=dark],\n",
       "body[data-theme=dark],\n",
       "body.vscode-dark {\n",
       "  --xr-font-color0: rgba(255, 255, 255, 1);\n",
       "  --xr-font-color2: rgba(255, 255, 255, 0.54);\n",
       "  --xr-font-color3: rgba(255, 255, 255, 0.38);\n",
       "  --xr-border-color: #1F1F1F;\n",
       "  --xr-disabled-color: #515151;\n",
       "  --xr-background-color: #111111;\n",
       "  --xr-background-color-row-even: #111111;\n",
       "  --xr-background-color-row-odd: #313131;\n",
       "}\n",
       "\n",
       ".xr-wrap {\n",
       "  display: block !important;\n",
       "  min-width: 300px;\n",
       "  max-width: 700px;\n",
       "}\n",
       "\n",
       ".xr-text-repr-fallback {\n",
       "  /* fallback to plain text repr when CSS is not injected (untrusted notebook) */\n",
       "  display: none;\n",
       "}\n",
       "\n",
       ".xr-header {\n",
       "  padding-top: 6px;\n",
       "  padding-bottom: 6px;\n",
       "  margin-bottom: 4px;\n",
       "  border-bottom: solid 1px var(--xr-border-color);\n",
       "}\n",
       "\n",
       ".xr-header > div,\n",
       ".xr-header > ul {\n",
       "  display: inline;\n",
       "  margin-top: 0;\n",
       "  margin-bottom: 0;\n",
       "}\n",
       "\n",
       ".xr-obj-type,\n",
       ".xr-array-name {\n",
       "  margin-left: 2px;\n",
       "  margin-right: 10px;\n",
       "}\n",
       "\n",
       ".xr-obj-type {\n",
       "  color: var(--xr-font-color2);\n",
       "}\n",
       "\n",
       ".xr-sections {\n",
       "  padding-left: 0 !important;\n",
       "  display: grid;\n",
       "  grid-template-columns: 150px auto auto 1fr 20px 20px;\n",
       "}\n",
       "\n",
       ".xr-section-item {\n",
       "  display: contents;\n",
       "}\n",
       "\n",
       ".xr-section-item input {\n",
       "  display: none;\n",
       "}\n",
       "\n",
       ".xr-section-item input + label {\n",
       "  color: var(--xr-disabled-color);\n",
       "}\n",
       "\n",
       ".xr-section-item input:enabled + label {\n",
       "  cursor: pointer;\n",
       "  color: var(--xr-font-color2);\n",
       "}\n",
       "\n",
       ".xr-section-item input:enabled + label:hover {\n",
       "  color: var(--xr-font-color0);\n",
       "}\n",
       "\n",
       ".xr-section-summary {\n",
       "  grid-column: 1;\n",
       "  color: var(--xr-font-color2);\n",
       "  font-weight: 500;\n",
       "}\n",
       "\n",
       ".xr-section-summary > span {\n",
       "  display: inline-block;\n",
       "  padding-left: 0.5em;\n",
       "}\n",
       "\n",
       ".xr-section-summary-in:disabled + label {\n",
       "  color: var(--xr-font-color2);\n",
       "}\n",
       "\n",
       ".xr-section-summary-in + label:before {\n",
       "  display: inline-block;\n",
       "  content: '►';\n",
       "  font-size: 11px;\n",
       "  width: 15px;\n",
       "  text-align: center;\n",
       "}\n",
       "\n",
       ".xr-section-summary-in:disabled + label:before {\n",
       "  color: var(--xr-disabled-color);\n",
       "}\n",
       "\n",
       ".xr-section-summary-in:checked + label:before {\n",
       "  content: '▼';\n",
       "}\n",
       "\n",
       ".xr-section-summary-in:checked + label > span {\n",
       "  display: none;\n",
       "}\n",
       "\n",
       ".xr-section-summary,\n",
       ".xr-section-inline-details {\n",
       "  padding-top: 4px;\n",
       "  padding-bottom: 4px;\n",
       "}\n",
       "\n",
       ".xr-section-inline-details {\n",
       "  grid-column: 2 / -1;\n",
       "}\n",
       "\n",
       ".xr-section-details {\n",
       "  display: none;\n",
       "  grid-column: 1 / -1;\n",
       "  margin-bottom: 5px;\n",
       "}\n",
       "\n",
       ".xr-section-summary-in:checked ~ .xr-section-details {\n",
       "  display: contents;\n",
       "}\n",
       "\n",
       ".xr-array-wrap {\n",
       "  grid-column: 1 / -1;\n",
       "  display: grid;\n",
       "  grid-template-columns: 20px auto;\n",
       "}\n",
       "\n",
       ".xr-array-wrap > label {\n",
       "  grid-column: 1;\n",
       "  vertical-align: top;\n",
       "}\n",
       "\n",
       ".xr-preview {\n",
       "  color: var(--xr-font-color3);\n",
       "}\n",
       "\n",
       ".xr-array-preview,\n",
       ".xr-array-data {\n",
       "  padding: 0 5px !important;\n",
       "  grid-column: 2;\n",
       "}\n",
       "\n",
       ".xr-array-data,\n",
       ".xr-array-in:checked ~ .xr-array-preview {\n",
       "  display: none;\n",
       "}\n",
       "\n",
       ".xr-array-in:checked ~ .xr-array-data,\n",
       ".xr-array-preview {\n",
       "  display: inline-block;\n",
       "}\n",
       "\n",
       ".xr-dim-list {\n",
       "  display: inline-block !important;\n",
       "  list-style: none;\n",
       "  padding: 0 !important;\n",
       "  margin: 0;\n",
       "}\n",
       "\n",
       ".xr-dim-list li {\n",
       "  display: inline-block;\n",
       "  padding: 0;\n",
       "  margin: 0;\n",
       "}\n",
       "\n",
       ".xr-dim-list:before {\n",
       "  content: '(';\n",
       "}\n",
       "\n",
       ".xr-dim-list:after {\n",
       "  content: ')';\n",
       "}\n",
       "\n",
       ".xr-dim-list li:not(:last-child):after {\n",
       "  content: ',';\n",
       "  padding-right: 5px;\n",
       "}\n",
       "\n",
       ".xr-has-index {\n",
       "  font-weight: bold;\n",
       "}\n",
       "\n",
       ".xr-var-list,\n",
       ".xr-var-item {\n",
       "  display: contents;\n",
       "}\n",
       "\n",
       ".xr-var-item > div,\n",
       ".xr-var-item label,\n",
       ".xr-var-item > .xr-var-name span {\n",
       "  background-color: var(--xr-background-color-row-even);\n",
       "  margin-bottom: 0;\n",
       "}\n",
       "\n",
       ".xr-var-item > .xr-var-name:hover span {\n",
       "  padding-right: 5px;\n",
       "}\n",
       "\n",
       ".xr-var-list > li:nth-child(odd) > div,\n",
       ".xr-var-list > li:nth-child(odd) > label,\n",
       ".xr-var-list > li:nth-child(odd) > .xr-var-name span {\n",
       "  background-color: var(--xr-background-color-row-odd);\n",
       "}\n",
       "\n",
       ".xr-var-name {\n",
       "  grid-column: 1;\n",
       "}\n",
       "\n",
       ".xr-var-dims {\n",
       "  grid-column: 2;\n",
       "}\n",
       "\n",
       ".xr-var-dtype {\n",
       "  grid-column: 3;\n",
       "  text-align: right;\n",
       "  color: var(--xr-font-color2);\n",
       "}\n",
       "\n",
       ".xr-var-preview {\n",
       "  grid-column: 4;\n",
       "}\n",
       "\n",
       ".xr-index-preview {\n",
       "  grid-column: 2 / 5;\n",
       "  color: var(--xr-font-color2);\n",
       "}\n",
       "\n",
       ".xr-var-name,\n",
       ".xr-var-dims,\n",
       ".xr-var-dtype,\n",
       ".xr-preview,\n",
       ".xr-attrs dt {\n",
       "  white-space: nowrap;\n",
       "  overflow: hidden;\n",
       "  text-overflow: ellipsis;\n",
       "  padding-right: 10px;\n",
       "}\n",
       "\n",
       ".xr-var-name:hover,\n",
       ".xr-var-dims:hover,\n",
       ".xr-var-dtype:hover,\n",
       ".xr-attrs dt:hover {\n",
       "  overflow: visible;\n",
       "  width: auto;\n",
       "  z-index: 1;\n",
       "}\n",
       "\n",
       ".xr-var-attrs,\n",
       ".xr-var-data,\n",
       ".xr-index-data {\n",
       "  display: none;\n",
       "  background-color: var(--xr-background-color) !important;\n",
       "  padding-bottom: 5px !important;\n",
       "}\n",
       "\n",
       ".xr-var-attrs-in:checked ~ .xr-var-attrs,\n",
       ".xr-var-data-in:checked ~ .xr-var-data,\n",
       ".xr-index-data-in:checked ~ .xr-index-data {\n",
       "  display: block;\n",
       "}\n",
       "\n",
       ".xr-var-data > table {\n",
       "  float: right;\n",
       "}\n",
       "\n",
       ".xr-var-name span,\n",
       ".xr-var-data,\n",
       ".xr-index-name div,\n",
       ".xr-index-data,\n",
       ".xr-attrs {\n",
       "  padding-left: 25px !important;\n",
       "}\n",
       "\n",
       ".xr-attrs,\n",
       ".xr-var-attrs,\n",
       ".xr-var-data,\n",
       ".xr-index-data {\n",
       "  grid-column: 1 / -1;\n",
       "}\n",
       "\n",
       "dl.xr-attrs {\n",
       "  padding: 0;\n",
       "  margin: 0;\n",
       "  display: grid;\n",
       "  grid-template-columns: 125px auto;\n",
       "}\n",
       "\n",
       ".xr-attrs dt,\n",
       ".xr-attrs dd {\n",
       "  padding: 0;\n",
       "  margin: 0;\n",
       "  float: left;\n",
       "  padding-right: 10px;\n",
       "  width: auto;\n",
       "}\n",
       "\n",
       ".xr-attrs dt {\n",
       "  font-weight: normal;\n",
       "  grid-column: 1;\n",
       "}\n",
       "\n",
       ".xr-attrs dt:hover span {\n",
       "  display: inline-block;\n",
       "  background: var(--xr-background-color);\n",
       "  padding-right: 10px;\n",
       "}\n",
       "\n",
       ".xr-attrs dd {\n",
       "  grid-column: 2;\n",
       "  white-space: pre-wrap;\n",
       "  word-break: break-all;\n",
       "}\n",
       "\n",
       ".xr-icon-database,\n",
       ".xr-icon-file-text2,\n",
       ".xr-no-icon {\n",
       "  display: inline-block;\n",
       "  vertical-align: middle;\n",
       "  width: 1em;\n",
       "  height: 1.5em !important;\n",
       "  stroke-width: 0;\n",
       "  stroke: currentColor;\n",
       "  fill: currentColor;\n",
       "}\n",
       "</style><pre class='xr-text-repr-fallback'>&lt;xarray.DataArray &#x27;Lambda&#x27; (Lambda: 81)&gt;\n",
       "array([350., 355., 360., 365., 370., 375., 380., 385., 390., 395., 400., 405.,\n",
       "       410., 415., 420., 425., 430., 435., 440., 445., 450., 455., 460., 465.,\n",
       "       470., 475., 480., 485., 490., 495., 500., 505., 510., 515., 520., 525.,\n",
       "       530., 535., 540., 545., 550., 555., 560., 565., 570., 575., 580., 585.,\n",
       "       590., 595., 600., 605., 610., 615., 620., 625., 630., 635., 640., 645.,\n",
       "       650., 655., 660., 665., 670., 675., 680., 685., 690., 695., 700., 705.,\n",
       "       710., 715., 720., 725., 730., 735., 740., 745., 750.], dtype=float32)\n",
       "Coordinates:\n",
       "  * Lambda   (Lambda) float32 350.0 355.0 360.0 365.0 ... 740.0 745.0 750.0</pre><div class='xr-wrap' style='display:none'><div class='xr-header'><div class='xr-obj-type'>xarray.DataArray</div><div class='xr-array-name'>'Lambda'</div><ul class='xr-dim-list'><li><span class='xr-has-index'>Lambda</span>: 81</li></ul></div><ul class='xr-sections'><li class='xr-section-item'><div class='xr-array-wrap'><input id='section-09ec5425-7e75-4b32-b1fa-7545942e2536' class='xr-array-in' type='checkbox' checked><label for='section-09ec5425-7e75-4b32-b1fa-7545942e2536' title='Show/hide data repr'><svg class='icon xr-icon-database'><use xlink:href='#icon-database'></use></svg></label><div class='xr-array-preview xr-preview'><span>350.0 355.0 360.0 365.0 370.0 375.0 ... 730.0 735.0 740.0 745.0 750.0</span></div><div class='xr-array-data'><pre>array([350., 355., 360., 365., 370., 375., 380., 385., 390., 395., 400., 405.,\n",
       "       410., 415., 420., 425., 430., 435., 440., 445., 450., 455., 460., 465.,\n",
       "       470., 475., 480., 485., 490., 495., 500., 505., 510., 515., 520., 525.,\n",
       "       530., 535., 540., 545., 550., 555., 560., 565., 570., 575., 580., 585.,\n",
       "       590., 595., 600., 605., 610., 615., 620., 625., 630., 635., 640., 645.,\n",
       "       650., 655., 660., 665., 670., 675., 680., 685., 690., 695., 700., 705.,\n",
       "       710., 715., 720., 725., 730., 735., 740., 745., 750.], dtype=float32)</pre></div></div></li><li class='xr-section-item'><input id='section-2cce4283-15cb-4f6d-8549-a21398bfda72' class='xr-section-summary-in' type='checkbox'  checked><label for='section-2cce4283-15cb-4f6d-8549-a21398bfda72' class='xr-section-summary' >Coordinates: <span>(1)</span></label><div class='xr-section-inline-details'></div><div class='xr-section-details'><ul class='xr-var-list'><li class='xr-var-item'><div class='xr-var-name'><span class='xr-has-index'>Lambda</span></div><div class='xr-var-dims'>(Lambda)</div><div class='xr-var-dtype'>float32</div><div class='xr-var-preview xr-preview'>350.0 355.0 360.0 ... 745.0 750.0</div><input id='attrs-28998949-c8ac-4894-9719-4168af723d45' class='xr-var-attrs-in' type='checkbox' disabled><label for='attrs-28998949-c8ac-4894-9719-4168af723d45' title='Show/Hide attributes'><svg class='icon xr-icon-file-text2'><use xlink:href='#icon-file-text2'></use></svg></label><input id='data-2294917b-1441-4b97-8d02-47d3279ac823' class='xr-var-data-in' type='checkbox'><label for='data-2294917b-1441-4b97-8d02-47d3279ac823' title='Show/Hide data repr'><svg class='icon xr-icon-database'><use xlink:href='#icon-database'></use></svg></label><div class='xr-var-attrs'><dl class='xr-attrs'></dl></div><div class='xr-var-data'><pre>array([350., 355., 360., 365., 370., 375., 380., 385., 390., 395., 400., 405.,\n",
       "       410., 415., 420., 425., 430., 435., 440., 445., 450., 455., 460., 465.,\n",
       "       470., 475., 480., 485., 490., 495., 500., 505., 510., 515., 520., 525.,\n",
       "       530., 535., 540., 545., 550., 555., 560., 565., 570., 575., 580., 585.,\n",
       "       590., 595., 600., 605., 610., 615., 620., 625., 630., 635., 640., 645.,\n",
       "       650., 655., 660., 665., 670., 675., 680., 685., 690., 695., 700., 705.,\n",
       "       710., 715., 720., 725., 730., 735., 740., 745., 750.], dtype=float32)</pre></div></li></ul></div></li><li class='xr-section-item'><input id='section-fa65567c-40f5-4ca7-897f-372db9a5167f' class='xr-section-summary-in' type='checkbox'  ><label for='section-fa65567c-40f5-4ca7-897f-372db9a5167f' class='xr-section-summary' >Indexes: <span>(1)</span></label><div class='xr-section-inline-details'></div><div class='xr-section-details'><ul class='xr-var-list'><li class='xr-var-item'><div class='xr-index-name'><div>Lambda</div></div><div class='xr-index-preview'>PandasIndex</div><div></div><input id='index-97301450-4061-409c-87ca-dd7604096a58' class='xr-index-data-in' type='checkbox'/><label for='index-97301450-4061-409c-87ca-dd7604096a58' title='Show/Hide index repr'><svg class='icon xr-icon-database'><use xlink:href='#icon-database'></use></svg></label><div class='xr-index-data'><pre>PandasIndex(Index([350.0, 355.0, 360.0, 365.0, 370.0, 375.0, 380.0, 385.0, 390.0, 395.0,\n",
       "       400.0, 405.0, 410.0, 415.0, 420.0, 425.0, 430.0, 435.0, 440.0, 445.0,\n",
       "       450.0, 455.0, 460.0, 465.0, 470.0, 475.0, 480.0, 485.0, 490.0, 495.0,\n",
       "       500.0, 505.0, 510.0, 515.0, 520.0, 525.0, 530.0, 535.0, 540.0, 545.0,\n",
       "       550.0, 555.0, 560.0, 565.0, 570.0, 575.0, 580.0, 585.0, 590.0, 595.0,\n",
       "       600.0, 605.0, 610.0, 615.0, 620.0, 625.0, 630.0, 635.0, 640.0, 645.0,\n",
       "       650.0, 655.0, 660.0, 665.0, 670.0, 675.0, 680.0, 685.0, 690.0, 695.0,\n",
       "       700.0, 705.0, 710.0, 715.0, 720.0, 725.0, 730.0, 735.0, 740.0, 745.0,\n",
       "       750.0],\n",
       "      dtype=&#x27;float32&#x27;, name=&#x27;Lambda&#x27;))</pre></div></li></ul></div></li><li class='xr-section-item'><input id='section-fc52db5b-be13-42c1-91ac-89ee36c659d9' class='xr-section-summary-in' type='checkbox' disabled ><label for='section-fc52db5b-be13-42c1-91ac-89ee36c659d9' class='xr-section-summary'  title='Expand/collapse section'>Attributes: <span>(0)</span></label><div class='xr-section-inline-details'></div><div class='xr-section-details'><dl class='xr-attrs'></dl></div></li></ul></div></div>"
      ],
      "text/plain": [
       "<xarray.DataArray 'Lambda' (Lambda: 81)>\n",
       "array([350., 355., 360., 365., 370., 375., 380., 385., 390., 395., 400., 405.,\n",
       "       410., 415., 420., 425., 430., 435., 440., 445., 450., 455., 460., 465.,\n",
       "       470., 475., 480., 485., 490., 495., 500., 505., 510., 515., 520., 525.,\n",
       "       530., 535., 540., 545., 550., 555., 560., 565., 570., 575., 580., 585.,\n",
       "       590., 595., 600., 605., 610., 615., 620., 625., 630., 635., 640., 645.,\n",
       "       650., 655., 660., 665., 670., 675., 680., 685., 690., 695., 700., 705.,\n",
       "       710., 715., 720., 725., 730., 735., 740., 745., 750.], dtype=float32)\n",
       "Coordinates:\n",
       "  * Lambda   (Lambda) float32 350.0 355.0 360.0 365.0 ... 740.0 745.0 750.0"
      ]
     },
     "execution_count": 5,
     "metadata": {},
     "output_type": "execute_result"
    }
   ],
   "source": [
    "l23_ds.Lambda"
   ]
  },
  {
   "cell_type": "markdown",
   "id": "e7c4aa36-0b6e-4efe-92b2-0aff31dc1630",
   "metadata": {},
   "source": [
    "## Cut to >400nm"
   ]
  },
  {
   "cell_type": "code",
   "execution_count": 8,
   "id": "232e41f2-bda8-4de3-ad22-c3ff9dcfba7d",
   "metadata": {},
   "outputs": [],
   "source": [
    "cut = l23_ds.Lambda > 400.\n",
    "wv_grid = l23_ds.Lambda.data[cut]"
   ]
  },
  {
   "cell_type": "markdown",
   "id": "6cae227d-3b1e-41c4-b805-8646b3369efa",
   "metadata": {},
   "source": [
    "# Load Tara Table"
   ]
  },
  {
   "cell_type": "code",
   "execution_count": 3,
   "id": "3c805591-527e-4abc-a724-4c561e87a8da",
   "metadata": {},
   "outputs": [],
   "source": [
    "tara_db = io.load_tara_db()"
   ]
  },
  {
   "cell_type": "markdown",
   "id": "b5b3da5a-c548-4be1-ae08-96c6d8d9482f",
   "metadata": {},
   "source": [
    "# Rebin the Spectra"
   ]
  },
  {
   "cell_type": "code",
   "execution_count": 14,
   "id": "ea83cfea-82f4-4897-8848-30e8e112b649",
   "metadata": {},
   "outputs": [],
   "source": [
    "wv_nm, all_a_p, all_a_p_sig = spectra.spectra_from_table(tara_db)"
   ]
  },
  {
   "cell_type": "code",
   "execution_count": 15,
   "id": "929492d3-23a9-4a2b-afd6-7e5e77428943",
   "metadata": {},
   "outputs": [
    {
     "name": "stderr",
     "output_type": "stream",
     "text": [
      "/home/xavier/Projects/Oceanography/python/ocean-color/oceancolor/tara/spectra.py:250: RuntimeWarning: invalid value encountered in divide\n",
      "  isum = np.nansum(values[gd]*mask[gd], axis=0) / np.sum(mask[gd],axis=0)\n",
      "/home/xavier/Projects/Oceanography/python/ocean-color/oceancolor/tara/spectra.py:251: RuntimeWarning: invalid value encountered in divide\n",
      "  esum = np.nansum(err_vals[gd]*mask[gd], axis=0) / np.sum(mask[gd],axis=0)\n"
     ]
    }
   ],
   "source": [
    "reload(spectra)\n",
    "#wv_grid = l23_ds.Lambda\n",
    "rwv_nm, r_ap, r_sig = spectra.rebin_to_grid(wv_nm, all_a_p, all_a_p_sig, wv_grid)"
   ]
  },
  {
   "cell_type": "markdown",
   "id": "75fef4e0-7ad8-4634-95c6-df547a9bd41b",
   "metadata": {},
   "source": [
    "# Add Water"
   ]
  },
  {
   "cell_type": "markdown",
   "id": "882e268d-97e3-441c-a5ea-5cc91ef49240",
   "metadata": {},
   "source": [
    "## Load"
   ]
  },
  {
   "cell_type": "code",
   "execution_count": 13,
   "id": "ced47cf1-bbfe-426c-8bdc-cc600376544d",
   "metadata": {},
   "outputs": [
    {
     "data": {
      "text/html": [
       "<div>\n",
       "<style scoped>\n",
       "    .dataframe tbody tr th:only-of-type {\n",
       "        vertical-align: middle;\n",
       "    }\n",
       "\n",
       "    .dataframe tbody tr th {\n",
       "        vertical-align: top;\n",
       "    }\n",
       "\n",
       "    .dataframe thead th {\n",
       "        text-align: right;\n",
       "    }\n",
       "</style>\n",
       "<table border=\"1\" class=\"dataframe\">\n",
       "  <thead>\n",
       "    <tr style=\"text-align: right;\">\n",
       "      <th></th>\n",
       "      <th>wavelength</th>\n",
       "      <th>aw</th>\n",
       "      <th>bw</th>\n",
       "    </tr>\n",
       "  </thead>\n",
       "  <tbody>\n",
       "    <tr>\n",
       "      <th>0</th>\n",
       "      <td>200.0</td>\n",
       "      <td>3.070</td>\n",
       "      <td>0.1510</td>\n",
       "    </tr>\n",
       "    <tr>\n",
       "      <th>1</th>\n",
       "      <td>201.0</td>\n",
       "      <td>2.962</td>\n",
       "      <td>0.1478</td>\n",
       "    </tr>\n",
       "    <tr>\n",
       "      <th>2</th>\n",
       "      <td>202.0</td>\n",
       "      <td>2.854</td>\n",
       "      <td>0.1446</td>\n",
       "    </tr>\n",
       "    <tr>\n",
       "      <th>3</th>\n",
       "      <td>203.0</td>\n",
       "      <td>2.746</td>\n",
       "      <td>0.1414</td>\n",
       "    </tr>\n",
       "    <tr>\n",
       "      <th>4</th>\n",
       "      <td>204.0</td>\n",
       "      <td>2.638</td>\n",
       "      <td>0.1382</td>\n",
       "    </tr>\n",
       "  </tbody>\n",
       "</table>\n",
       "</div>"
      ],
      "text/plain": [
       "   wavelength     aw      bw\n",
       "0       200.0  3.070  0.1510\n",
       "1       201.0  2.962  0.1478\n",
       "2       202.0  2.854  0.1446\n",
       "3       203.0  2.746  0.1414\n",
       "4       204.0  2.638  0.1382"
      ]
     },
     "execution_count": 13,
     "metadata": {},
     "output_type": "execute_result"
    }
   ],
   "source": [
    "df_water = water_io.load_rsr_gsfc()\n",
    "df_water.head()"
   ]
  },
  {
   "cell_type": "markdown",
   "id": "123ad348-a80e-49d6-96ca-f76dc6500c1f",
   "metadata": {},
   "source": [
    "## Rebin to our wavelengths"
   ]
  },
  {
   "cell_type": "code",
   "execution_count": 29,
   "id": "dbf55b31-b7f3-44be-a328-675877dd1fae",
   "metadata": {},
   "outputs": [],
   "source": [
    "reload(spec_utils)\n",
    "a_w, _ =  spec_utils.rebin(df_water.wavelength.values, \n",
    "                        df_water.aw.values, np.zeros_like(df_water.aw),\n",
    "                        wv_grid)"
   ]
  },
  {
   "cell_type": "markdown",
   "id": "8124ff55-d352-4835-a242-b1d9704f73fe",
   "metadata": {},
   "source": [
    "## Check"
   ]
  },
  {
   "cell_type": "code",
   "execution_count": 38,
   "id": "82d060e0-42f5-45b6-ac83-30933e90cbd2",
   "metadata": {},
   "outputs": [
    {
     "data": {
      "application/vnd.jupyter.widget-view+json": {
       "model_id": "a582201badb44dc69433b1ce84898266",
       "version_major": 2,
       "version_minor": 0
      },
      "image/png": "[encoded data removed]",
      "text/html": [
       "\n",
       "            <div style=\"display: inline-block;\">\n",
       "                <div class=\"jupyter-widgets widget-label\" style=\"text-align: center;\">\n",
       "                    Figure\n",
       "                </div>\n",
       "                <img src='data:image/png;base64,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' width=600.0/>\n",
       "            </div>\n",
       "        "
      ],
      "text/plain": [
       "Canvas(toolbar=Toolbar(toolitems=[('Home', 'Reset original view', 'home', 'home'), ('Back', 'Back to previous …"
      ]
     },
     "metadata": {},
     "output_type": "display_data"
    }
   ],
   "source": [
    "plot_a(wv_grid, a_w, clr='g')"
   ]
  },
  {
   "cell_type": "markdown",
   "id": "c7253542-b7ad-4401-989f-733d41adaffd",
   "metadata": {},
   "source": [
    "# View"
   ]
  },
  {
   "cell_type": "code",
   "execution_count": 16,
   "id": "7d8231ee-f771-4657-b539-cf5b9f642d89",
   "metadata": {},
   "outputs": [
    {
     "data": {
      "text/plain": [
       "(302779, 69)"
      ]
     },
     "execution_count": 16,
     "metadata": {},
     "output_type": "execute_result"
    }
   ],
   "source": [
    "r_ap.shape"
   ]
  },
  {
   "cell_type": "markdown",
   "id": "0fc0fd9e-1eec-4518-a9d5-cd5e0db9eee8",
   "metadata": {},
   "source": [
    "## "
   ]
  },
  {
   "cell_type": "code",
   "execution_count": 39,
   "id": "ad6fd3cc-bf43-4dbc-9c8f-8d947d4682df",
   "metadata": {},
   "outputs": [
    {
     "data": {
      "application/vnd.jupyter.widget-view+json": {
       "model_id": "77591be600e24aebb532a8307c56dfdf",
       "version_major": 2,
       "version_minor": 0
      },
      "image/png": "[encoded data removed]",
      "text/html": [
       "\n",
       "            <div style=\"display: inline-block;\">\n",
       "                <div class=\"jupyter-widgets widget-label\" style=\"text-align: center;\">\n",
       "                    Figure\n",
       "                </div>\n",
       "                <img src='data:image/png;base64,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' width=600.0/>\n",
       "            </div>\n",
       "        "
      ],
      "text/plain": [
       "Canvas(toolbar=Toolbar(toolitems=[('Home', 'Reset original view', 'home', 'home'), ('Back', 'Back to previous …"
      ]
     },
     "metadata": {},
     "output_type": "display_data"
    }
   ],
   "source": [
    "plot_a(rwv_nm, r_ap[100000,:])#, 'o')"
   ]
  },
  {
   "cell_type": "markdown",
   "id": "07df7c8f-e77f-44c9-b8d0-23c0e94a59b5",
   "metadata": {},
   "source": [
    "## Now water"
   ]
  },
  {
   "cell_type": "code",
   "execution_count": 40,
   "id": "1a6c2197-db59-4887-8422-fa800f096139",
   "metadata": {},
   "outputs": [
    {
     "ename": "ValueError",
     "evalue": "operands could not be broadcast together with shapes (69,) (70,) ",
     "output_type": "error",
     "traceback": [
      "\u001b[0;31m---------------------------------------------------------------------------\u001b[0m",
      "\u001b[0;31mValueError\u001b[0m                                Traceback (most recent call last)",
      "Cell \u001b[0;32mIn[40], line 1\u001b[0m\n\u001b[0;32m----> 1\u001b[0m plot_a(rwv_nm, \u001b[43mr_ap\u001b[49m\u001b[43m[\u001b[49m\u001b[38;5;241;43m100000\u001b[39;49m\u001b[43m,\u001b[49m\u001b[43m:\u001b[49m\u001b[43m]\u001b[49m\u001b[38;5;241;43m+\u001b[39;49m\u001b[43ma_w\u001b[49m)\u001b[38;5;66;03m#, 'o')\u001b[39;00m\n",
      "\u001b[0;31mValueError\u001b[0m: operands could not be broadcast together with shapes (69,) (70,) "
     ]
    }
   ],
   "source": [
    "plot_a(rwv_nm, r_ap[100000,:]+a_w)#, 'o')"
   ]
  },
  {
   "cell_type": "code",
   "execution_count": null,
   "id": "38224108-f5a0-494a-a1da-f3e437828fb2",
   "metadata": {},
   "outputs": [],
   "source": []
  }
 ],
 "metadata": {
  "kernelspec": {
   "display_name": "Python 3 (ipykernel)",
   "language": "python",
   "name": "python3"
  },
  "language_info": {
   "codemirror_mode": {
    "name": "ipython",
    "version": 3
   },
   "file_extension": ".py",
   "mimetype": "text/x-python",
   "name": "python",
   "nbconvert_exporter": "python",
   "pygments_lexer": "ipython3",
   "version": "3.10.10"
  }
 },
 "nbformat": 4,
 "nbformat_minor": 5
}
