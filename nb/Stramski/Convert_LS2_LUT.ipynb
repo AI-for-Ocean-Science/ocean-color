{
 "cells": [
  {
   "cell_type": "markdown",
   "id": "5ebe98e7-51b3-4936-9135-d5bb5f4c4c67",
   "metadata": {},
   "source": [
    "# Convert LS2 LUT table"
   ]
  },
  {
   "cell_type": "code",
   "execution_count": 28,
   "id": "ce57c2bd-d6d6-4be7-84df-ed12bf45a9d0",
   "metadata": {
    "tags": []
   },
   "outputs": [],
   "source": [
    "# imports \n",
    "import os\n",
    "import numpy as np\n",
    "\n",
    "from scipy.io import loadmat"
   ]
  },
  {
   "cell_type": "markdown",
   "id": "fe48c935-ed91-4a31-877c-786996893fb2",
   "metadata": {},
   "source": [
    "# LUT"
   ]
  },
  {
   "cell_type": "code",
   "execution_count": 3,
   "id": "23d12f0f-af5f-4192-b0d7-5f3b0eb48a90",
   "metadata": {
    "tags": []
   },
   "outputs": [],
   "source": [
    "lut_file = os.path.join('/tank/xavier/Oceanography/MATLAB/LS2_Distribution', \n",
    "                        'LS2_LUT.mat')"
   ]
  },
  {
   "cell_type": "code",
   "execution_count": 6,
   "id": "4bd3f00a-ab1d-4eba-8033-fac1b8f93888",
   "metadata": {
    "tags": []
   },
   "outputs": [],
   "source": [
    "f_lut = loadmat(lut_file)"
   ]
  },
  {
   "cell_type": "markdown",
   "id": "49c2f395-adab-476c-a317-b85ba85f52b3",
   "metadata": {
    "tags": []
   },
   "source": [
    "## Inspect"
   ]
  },
  {
   "cell_type": "code",
   "execution_count": 16,
   "id": "f0d65242-cc7d-4b76-9718-f1cd547cb61f",
   "metadata": {
    "tags": []
   },
   "outputs": [
    {
     "data": {
      "text/plain": [
       "dict_keys(['__header__', '__version__', '__globals__', 'LS2_LUT'])"
      ]
     },
     "execution_count": 16,
     "metadata": {},
     "output_type": "execute_result"
    }
   ],
   "source": [
    "f_lut.keys()"
   ]
  },
  {
   "cell_type": "code",
   "execution_count": 20,
   "id": "3cacb8d9-97c4-4d5c-8837-458fca60db5a",
   "metadata": {
    "tags": []
   },
   "outputs": [
    {
     "data": {
      "text/plain": [
       "dtype([('a', 'O'), ('bb', 'O'), ('eta', 'O'), ('muw', 'O'), ('kappa', 'O')])"
      ]
     },
     "execution_count": 20,
     "metadata": {},
     "output_type": "execute_result"
    }
   ],
   "source": [
    "LUT = f_lut['LS2_LUT']\n",
    "LUT.dtype"
   ]
  },
  {
   "cell_type": "markdown",
   "id": "1b96b279-10ed-46a0-9829-80ba98edbcc8",
   "metadata": {},
   "source": [
    "### Shapes"
   ]
  },
  {
   "cell_type": "code",
   "execution_count": 27,
   "id": "80bfd55d-37b3-4b21-b57a-0d6027452c59",
   "metadata": {
    "tags": []
   },
   "outputs": [
    {
     "name": "stdout",
     "output_type": "stream",
     "text": [
      "a: (21, 8, 4)\n",
      "bb: (21, 8, 3)\n",
      "eta: (21, 1)\n",
      "muw: (8, 1)\n",
      "kappa: (101, 7)\n"
     ]
    }
   ],
   "source": [
    "for key in ['a', 'bb', 'eta', 'muw', 'kappa']:\n",
    "    print(f\"{key}: {LUT[key][0][0].shape}\")"
   ]
  },
  {
   "cell_type": "markdown",
   "id": "9ee6fc85-65cc-480e-bc19-4933aa3a0d6f",
   "metadata": {},
   "source": [
    "# Save as npy file"
   ]
  },
  {
   "cell_type": "code",
   "execution_count": 29,
   "id": "d1aec29c-ba17-43a8-9391-89cb5029994d",
   "metadata": {
    "tags": []
   },
   "outputs": [],
   "source": [
    "LUT_dict = {}\n",
    "for key in ['a', 'bb', 'eta', 'muw', 'kappa']:\n",
    "    LUT_dict[key] = LUT[key][0][0]"
   ]
  },
  {
   "cell_type": "code",
   "execution_count": 31,
   "id": "78be9ae2-7b4e-40e0-bca1-9cbec1584eb2",
   "metadata": {
    "tags": []
   },
   "outputs": [],
   "source": [
    "np.savez('LS2_LUT', LUT_dict)"
   ]
  },
  {
   "cell_type": "code",
   "execution_count": null,
   "id": "8001f767-af65-432d-86ef-dff82cf017a8",
   "metadata": {},
   "outputs": [],
   "source": []
  }
 ],
 "metadata": {
  "kernelspec": {
   "display_name": "Python 3 (ipykernel)",
   "language": "python",
   "name": "python3"
  },
  "language_info": {
   "codemirror_mode": {
    "name": "ipython",
    "version": 3
   },
   "file_extension": ".py",
   "mimetype": "text/x-python",
   "name": "python",
   "nbconvert_exporter": "python",
   "pygments_lexer": "ipython3",
   "version": "3.10.11"
  }
 },
 "nbformat": 4,
 "nbformat_minor": 5
}
