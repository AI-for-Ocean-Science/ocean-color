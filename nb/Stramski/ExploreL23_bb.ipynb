{
 "cells": [
  {
   "cell_type": "markdown",
   "id": "3c0aeda1-7d4d-425b-ab4c-ee42a4cdb65d",
   "metadata": {},
   "source": [
    "# Explore $b_b$ in Loisel 2023 "
   ]
  },
  {
   "cell_type": "code",
   "execution_count": 1,
   "id": "d550aeac-0f56-415d-b2cb-c154daaceca4",
   "metadata": {
    "tags": []
   },
   "outputs": [],
   "source": [
    "# imports\n",
    "import os\n",
    "import numpy as np\n",
    "\n",
    "import seaborn as sns\n",
    "from sklearn import decomposition\n",
    "\n",
    "from matplotlib import pyplot as plt\n",
    "\n",
    "import xarray"
   ]
  },
  {
   "cell_type": "markdown",
   "id": "3a63f542-4e21-4a8c-9047-1ef2b05b9680",
   "metadata": {},
   "source": [
    "# Info"
   ]
  },
  {
   "cell_type": "markdown",
   "id": "db922e9f-8ccd-4a9b-b08a-c3601c0d16b4",
   "metadata": {},
   "source": [
    "## X=1,2,4:  Nothing, Raman, Raman+Flourescence\n",
    "\n",
    "## YY = Sun zenith angle\n",
    "\n",
    "## 3320 different IOP combinations"
   ]
  },
  {
   "cell_type": "markdown",
   "id": "b8f966a3-366a-4513-a93c-5e807081c609",
   "metadata": {},
   "source": [
    "# Load "
   ]
  },
  {
   "cell_type": "code",
   "execution_count": 2,
   "id": "185dd2d6-1473-4003-a704-693bfe572fb0",
   "metadata": {
    "tags": []
   },
   "outputs": [],
   "source": [
    "l23_path = os.path.join(os.getenv('OS_COLOR'), 'data', 'Loisel2023')"
   ]
  },
  {
   "cell_type": "markdown",
   "id": "7914e66c-2b38-45fa-b2af-03d4a6509a58",
   "metadata": {},
   "source": [
    "## Variables"
   ]
  },
  {
   "cell_type": "code",
   "execution_count": 3,
   "id": "4927e230-78e9-4136-9f39-e2e6f0b6d1cd",
   "metadata": {
    "tags": []
   },
   "outputs": [],
   "source": [
    "variable_file = os.path.join(l23_path, 'Hydrolight400.nc')"
   ]
  },
  {
   "cell_type": "code",
   "execution_count": 4,
   "id": "49862af5-3425-4edf-81cb-c254a4ae4085",
   "metadata": {
    "tags": []
   },
   "outputs": [
    {
     "data": {
      "text/html": [
       "<div><svg style=\"position: absolute; width: 0; height: 0; overflow: hidden\">\n",
       "<defs>\n",
       "<symbol id=\"icon-database\" viewBox=\"0 0 32 32\">\n",
       "<path d=\"M16 0c-8.837 0-16 2.239-16 5v4c0 2.761 7.163 5 16 5s16-2.239 16-5v-4c0-2.761-7.163-5-16-5z\"></path>\n",
       "<path d=\"M16 17c-8.837 0-16-2.239-16-5v6c0 2.761 7.163 5 16 5s16-2.239 16-5v-6c0 2.761-7.163 5-16 5z\"></path>\n",
       "<path d=\"M16 26c-8.837 0-16-2.239-16-5v6c0 2.761 7.163 5 16 5s16-2.239 16-5v-6c0 2.761-7.163 5-16 5z\"></path>\n",
       "</symbol>\n",
       "<symbol id=\"icon-file-text2\" viewBox=\"0 0 32 32\">\n",
       "<path d=\"M28.681 7.159c-0.694-0.947-1.662-2.053-2.724-3.116s-2.169-2.030-3.116-2.724c-1.612-1.182-2.393-1.319-2.841-1.319h-15.5c-1.378 0-2.5 1.121-2.5 2.5v27c0 1.378 1.122 2.5 2.5 2.5h23c1.378 0 2.5-1.122 2.5-2.5v-19.5c0-0.448-0.137-1.23-1.319-2.841zM24.543 5.457c0.959 0.959 1.712 1.825 2.268 2.543h-4.811v-4.811c0.718 0.556 1.584 1.309 2.543 2.268zM28 29.5c0 0.271-0.229 0.5-0.5 0.5h-23c-0.271 0-0.5-0.229-0.5-0.5v-27c0-0.271 0.229-0.5 0.5-0.5 0 0 15.499-0 15.5 0v7c0 0.552 0.448 1 1 1h7v19.5z\"></path>\n",
       "<path d=\"M23 26h-14c-0.552 0-1-0.448-1-1s0.448-1 1-1h14c0.552 0 1 0.448 1 1s-0.448 1-1 1z\"></path>\n",
       "<path d=\"M23 22h-14c-0.552 0-1-0.448-1-1s0.448-1 1-1h14c0.552 0 1 0.448 1 1s-0.448 1-1 1z\"></path>\n",
       "<path d=\"M23 18h-14c-0.552 0-1-0.448-1-1s0.448-1 1-1h14c0.552 0 1 0.448 1 1s-0.448 1-1 1z\"></path>\n",
       "</symbol>\n",
       "</defs>\n",
       "</svg>\n",
       "<style>/* CSS stylesheet for displaying xarray objects in jupyterlab.\n",
       " *\n",
       " */\n",
       "\n",
       ":root {\n",
       "  --xr-font-color0: var(--jp-content-font-color0, rgba(0, 0, 0, 1));\n",
       "  --xr-font-color2: var(--jp-content-font-color2, rgba(0, 0, 0, 0.54));\n",
       "  --xr-font-color3: var(--jp-content-font-color3, rgba(0, 0, 0, 0.38));\n",
       "  --xr-border-color: var(--jp-border-color2, #e0e0e0);\n",
       "  --xr-disabled-color: var(--jp-layout-color3, #bdbdbd);\n",
       "  --xr-background-color: var(--jp-layout-color0, white);\n",
       "  --xr-background-color-row-even: var(--jp-layout-color1, white);\n",
       "  --xr-background-color-row-odd: var(--jp-layout-color2, #eeeeee);\n",
       "}\n",
       "\n",
       "html[theme=dark],\n",
       "body[data-theme=dark],\n",
       "body.vscode-dark {\n",
       "  --xr-font-color0: rgba(255, 255, 255, 1);\n",
       "  --xr-font-color2: rgba(255, 255, 255, 0.54);\n",
       "  --xr-font-color3: rgba(255, 255, 255, 0.38);\n",
       "  --xr-border-color: #1F1F1F;\n",
       "  --xr-disabled-color: #515151;\n",
       "  --xr-background-color: #111111;\n",
       "  --xr-background-color-row-even: #111111;\n",
       "  --xr-background-color-row-odd: #313131;\n",
       "}\n",
       "\n",
       ".xr-wrap {\n",
       "  display: block !important;\n",
       "  min-width: 300px;\n",
       "  max-width: 700px;\n",
       "}\n",
       "\n",
       ".xr-text-repr-fallback {\n",
       "  /* fallback to plain text repr when CSS is not injected (untrusted notebook) */\n",
       "  display: none;\n",
       "}\n",
       "\n",
       ".xr-header {\n",
       "  padding-top: 6px;\n",
       "  padding-bottom: 6px;\n",
       "  margin-bottom: 4px;\n",
       "  border-bottom: solid 1px var(--xr-border-color);\n",
       "}\n",
       "\n",
       ".xr-header > div,\n",
       ".xr-header > ul {\n",
       "  display: inline;\n",
       "  margin-top: 0;\n",
       "  margin-bottom: 0;\n",
       "}\n",
       "\n",
       ".xr-obj-type,\n",
       ".xr-array-name {\n",
       "  margin-left: 2px;\n",
       "  margin-right: 10px;\n",
       "}\n",
       "\n",
       ".xr-obj-type {\n",
       "  color: var(--xr-font-color2);\n",
       "}\n",
       "\n",
       ".xr-sections {\n",
       "  padding-left: 0 !important;\n",
       "  display: grid;\n",
       "  grid-template-columns: 150px auto auto 1fr 20px 20px;\n",
       "}\n",
       "\n",
       ".xr-section-item {\n",
       "  display: contents;\n",
       "}\n",
       "\n",
       ".xr-section-item input {\n",
       "  display: none;\n",
       "}\n",
       "\n",
       ".xr-section-item input + label {\n",
       "  color: var(--xr-disabled-color);\n",
       "}\n",
       "\n",
       ".xr-section-item input:enabled + label {\n",
       "  cursor: pointer;\n",
       "  color: var(--xr-font-color2);\n",
       "}\n",
       "\n",
       ".xr-section-item input:enabled + label:hover {\n",
       "  color: var(--xr-font-color0);\n",
       "}\n",
       "\n",
       ".xr-section-summary {\n",
       "  grid-column: 1;\n",
       "  color: var(--xr-font-color2);\n",
       "  font-weight: 500;\n",
       "}\n",
       "\n",
       ".xr-section-summary > span {\n",
       "  display: inline-block;\n",
       "  padding-left: 0.5em;\n",
       "}\n",
       "\n",
       ".xr-section-summary-in:disabled + label {\n",
       "  color: var(--xr-font-color2);\n",
       "}\n",
       "\n",
       ".xr-section-summary-in + label:before {\n",
       "  display: inline-block;\n",
       "  content: '►';\n",
       "  font-size: 11px;\n",
       "  width: 15px;\n",
       "  text-align: center;\n",
       "}\n",
       "\n",
       ".xr-section-summary-in:disabled + label:before {\n",
       "  color: var(--xr-disabled-color);\n",
       "}\n",
       "\n",
       ".xr-section-summary-in:checked + label:before {\n",
       "  content: '▼';\n",
       "}\n",
       "\n",
       ".xr-section-summary-in:checked + label > span {\n",
       "  display: none;\n",
       "}\n",
       "\n",
       ".xr-section-summary,\n",
       ".xr-section-inline-details {\n",
       "  padding-top: 4px;\n",
       "  padding-bottom: 4px;\n",
       "}\n",
       "\n",
       ".xr-section-inline-details {\n",
       "  grid-column: 2 / -1;\n",
       "}\n",
       "\n",
       ".xr-section-details {\n",
       "  display: none;\n",
       "  grid-column: 1 / -1;\n",
       "  margin-bottom: 5px;\n",
       "}\n",
       "\n",
       ".xr-section-summary-in:checked ~ .xr-section-details {\n",
       "  display: contents;\n",
       "}\n",
       "\n",
       ".xr-array-wrap {\n",
       "  grid-column: 1 / -1;\n",
       "  display: grid;\n",
       "  grid-template-columns: 20px auto;\n",
       "}\n",
       "\n",
       ".xr-array-wrap > label {\n",
       "  grid-column: 1;\n",
       "  vertical-align: top;\n",
       "}\n",
       "\n",
       ".xr-preview {\n",
       "  color: var(--xr-font-color3);\n",
       "}\n",
       "\n",
       ".xr-array-preview,\n",
       ".xr-array-data {\n",
       "  padding: 0 5px !important;\n",
       "  grid-column: 2;\n",
       "}\n",
       "\n",
       ".xr-array-data,\n",
       ".xr-array-in:checked ~ .xr-array-preview {\n",
       "  display: none;\n",
       "}\n",
       "\n",
       ".xr-array-in:checked ~ .xr-array-data,\n",
       ".xr-array-preview {\n",
       "  display: inline-block;\n",
       "}\n",
       "\n",
       ".xr-dim-list {\n",
       "  display: inline-block !important;\n",
       "  list-style: none;\n",
       "  padding: 0 !important;\n",
       "  margin: 0;\n",
       "}\n",
       "\n",
       ".xr-dim-list li {\n",
       "  display: inline-block;\n",
       "  padding: 0;\n",
       "  margin: 0;\n",
       "}\n",
       "\n",
       ".xr-dim-list:before {\n",
       "  content: '(';\n",
       "}\n",
       "\n",
       ".xr-dim-list:after {\n",
       "  content: ')';\n",
       "}\n",
       "\n",
       ".xr-dim-list li:not(:last-child):after {\n",
       "  content: ',';\n",
       "  padding-right: 5px;\n",
       "}\n",
       "\n",
       ".xr-has-index {\n",
       "  font-weight: bold;\n",
       "}\n",
       "\n",
       ".xr-var-list,\n",
       ".xr-var-item {\n",
       "  display: contents;\n",
       "}\n",
       "\n",
       ".xr-var-item > div,\n",
       ".xr-var-item label,\n",
       ".xr-var-item > .xr-var-name span {\n",
       "  background-color: var(--xr-background-color-row-even);\n",
       "  margin-bottom: 0;\n",
       "}\n",
       "\n",
       ".xr-var-item > .xr-var-name:hover span {\n",
       "  padding-right: 5px;\n",
       "}\n",
       "\n",
       ".xr-var-list > li:nth-child(odd) > div,\n",
       ".xr-var-list > li:nth-child(odd) > label,\n",
       ".xr-var-list > li:nth-child(odd) > .xr-var-name span {\n",
       "  background-color: var(--xr-background-color-row-odd);\n",
       "}\n",
       "\n",
       ".xr-var-name {\n",
       "  grid-column: 1;\n",
       "}\n",
       "\n",
       ".xr-var-dims {\n",
       "  grid-column: 2;\n",
       "}\n",
       "\n",
       ".xr-var-dtype {\n",
       "  grid-column: 3;\n",
       "  text-align: right;\n",
       "  color: var(--xr-font-color2);\n",
       "}\n",
       "\n",
       ".xr-var-preview {\n",
       "  grid-column: 4;\n",
       "}\n",
       "\n",
       ".xr-index-preview {\n",
       "  grid-column: 2 / 5;\n",
       "  color: var(--xr-font-color2);\n",
       "}\n",
       "\n",
       ".xr-var-name,\n",
       ".xr-var-dims,\n",
       ".xr-var-dtype,\n",
       ".xr-preview,\n",
       ".xr-attrs dt {\n",
       "  white-space: nowrap;\n",
       "  overflow: hidden;\n",
       "  text-overflow: ellipsis;\n",
       "  padding-right: 10px;\n",
       "}\n",
       "\n",
       ".xr-var-name:hover,\n",
       ".xr-var-dims:hover,\n",
       ".xr-var-dtype:hover,\n",
       ".xr-attrs dt:hover {\n",
       "  overflow: visible;\n",
       "  width: auto;\n",
       "  z-index: 1;\n",
       "}\n",
       "\n",
       ".xr-var-attrs,\n",
       ".xr-var-data,\n",
       ".xr-index-data {\n",
       "  display: none;\n",
       "  background-color: var(--xr-background-color) !important;\n",
       "  padding-bottom: 5px !important;\n",
       "}\n",
       "\n",
       ".xr-var-attrs-in:checked ~ .xr-var-attrs,\n",
       ".xr-var-data-in:checked ~ .xr-var-data,\n",
       ".xr-index-data-in:checked ~ .xr-index-data {\n",
       "  display: block;\n",
       "}\n",
       "\n",
       ".xr-var-data > table {\n",
       "  float: right;\n",
       "}\n",
       "\n",
       ".xr-var-name span,\n",
       ".xr-var-data,\n",
       ".xr-index-name div,\n",
       ".xr-index-data,\n",
       ".xr-attrs {\n",
       "  padding-left: 25px !important;\n",
       "}\n",
       "\n",
       ".xr-attrs,\n",
       ".xr-var-attrs,\n",
       ".xr-var-data,\n",
       ".xr-index-data {\n",
       "  grid-column: 1 / -1;\n",
       "}\n",
       "\n",
       "dl.xr-attrs {\n",
       "  padding: 0;\n",
       "  margin: 0;\n",
       "  display: grid;\n",
       "  grid-template-columns: 125px auto;\n",
       "}\n",
       "\n",
       ".xr-attrs dt,\n",
       ".xr-attrs dd {\n",
       "  padding: 0;\n",
       "  margin: 0;\n",
       "  float: left;\n",
       "  padding-right: 10px;\n",
       "  width: auto;\n",
       "}\n",
       "\n",
       ".xr-attrs dt {\n",
       "  font-weight: normal;\n",
       "  grid-column: 1;\n",
       "}\n",
       "\n",
       ".xr-attrs dt:hover span {\n",
       "  display: inline-block;\n",
       "  background: var(--xr-background-color);\n",
       "  padding-right: 10px;\n",
       "}\n",
       "\n",
       ".xr-attrs dd {\n",
       "  grid-column: 2;\n",
       "  white-space: pre-wrap;\n",
       "  word-break: break-all;\n",
       "}\n",
       "\n",
       ".xr-icon-database,\n",
       ".xr-icon-file-text2,\n",
       ".xr-no-icon {\n",
       "  display: inline-block;\n",
       "  vertical-align: middle;\n",
       "  width: 1em;\n",
       "  height: 1.5em !important;\n",
       "  stroke-width: 0;\n",
       "  stroke: currentColor;\n",
       "  fill: currentColor;\n",
       "}\n",
       "</style><pre class='xr-text-repr-fallback'>&lt;xarray.Dataset&gt;\n",
       "Dimensions:  (Lambda: 81, IOP_Scenario: 3320)\n",
       "Coordinates:\n",
       "  * Lambda   (Lambda) float32 350.0 355.0 360.0 365.0 ... 740.0 745.0 750.0\n",
       "Dimensions without coordinates: IOP_Scenario\n",
       "Data variables: (12/17)\n",
       "    Rrs      (IOP_Scenario, Lambda) float32 0.01176 0.01201 ... 3.041e-05\n",
       "    Ed_0+    (IOP_Scenario, Lambda) float32 0.7753 0.7314 0.7207 ... 1.237 1.222\n",
       "    Lw       (IOP_Scenario, Lambda) float32 0.009118 0.008785 ... 3.716e-05\n",
       "    Lu_0+    (IOP_Scenario, Lambda) float32 0.04075 0.03903 ... 0.06316 0.0624\n",
       "    a        (IOP_Scenario, Lambda) float32 0.03096 0.02925 ... 2.83 2.85\n",
       "    anw      (IOP_Scenario, Lambda) float32 0.02386 0.02245 ... 0.0005 0.0004\n",
       "    ...       ...\n",
       "    bph      (IOP_Scenario, Lambda) float32 0.04521 0.04454 ... 0.1013 0.1008\n",
       "    bd       (IOP_Scenario, Lambda) float32 0.03323 0.03239 ... 0.03532 0.03513\n",
       "    bb       (IOP_Scenario, Lambda) float32 0.006968 0.006587 ... 0.001876\n",
       "    bbnw     (IOP_Scenario, Lambda) float32 0.00105 0.001028 ... 0.001641\n",
       "    bbph     (IOP_Scenario, Lambda) float32 0.0004521 0.0004454 ... 0.001008\n",
       "    bbd      (IOP_Scenario, Lambda) float32 0.0005982 0.000583 ... 0.0006324</pre><div class='xr-wrap' style='display:none'><div class='xr-header'><div class='xr-obj-type'>xarray.Dataset</div></div><ul class='xr-sections'><li class='xr-section-item'><input id='section-f35b3fb9-a866-40ce-80b1-ff499d33fe24' class='xr-section-summary-in' type='checkbox' disabled ><label for='section-f35b3fb9-a866-40ce-80b1-ff499d33fe24' class='xr-section-summary'  title='Expand/collapse section'>Dimensions:</label><div class='xr-section-inline-details'><ul class='xr-dim-list'><li><span class='xr-has-index'>Lambda</span>: 81</li><li><span>IOP_Scenario</span>: 3320</li></ul></div><div class='xr-section-details'></div></li><li class='xr-section-item'><input id='section-8ae9fc6d-781b-4e05-a5ab-627875c91bcf' class='xr-section-summary-in' type='checkbox'  checked><label for='section-8ae9fc6d-781b-4e05-a5ab-627875c91bcf' class='xr-section-summary' >Coordinates: <span>(1)</span></label><div class='xr-section-inline-details'></div><div class='xr-section-details'><ul class='xr-var-list'><li class='xr-var-item'><div class='xr-var-name'><span class='xr-has-index'>Lambda</span></div><div class='xr-var-dims'>(Lambda)</div><div class='xr-var-dtype'>float32</div><div class='xr-var-preview xr-preview'>350.0 355.0 360.0 ... 745.0 750.0</div><input id='attrs-bafd31d9-8e19-4795-ad86-ac522669385c' class='xr-var-attrs-in' type='checkbox' disabled><label for='attrs-bafd31d9-8e19-4795-ad86-ac522669385c' title='Show/Hide attributes'><svg class='icon xr-icon-file-text2'><use xlink:href='#icon-file-text2'></use></svg></label><input id='data-6ed534c2-38b3-48e8-a566-ac72e6f661a3' class='xr-var-data-in' type='checkbox'><label for='data-6ed534c2-38b3-48e8-a566-ac72e6f661a3' title='Show/Hide data repr'><svg class='icon xr-icon-database'><use xlink:href='#icon-database'></use></svg></label><div class='xr-var-attrs'><dl class='xr-attrs'></dl></div><div class='xr-var-data'><pre>array([350., 355., 360., 365., 370., 375., 380., 385., 390., 395., 400., 405.,\n",
       "       410., 415., 420., 425., 430., 435., 440., 445., 450., 455., 460., 465.,\n",
       "       470., 475., 480., 485., 490., 495., 500., 505., 510., 515., 520., 525.,\n",
       "       530., 535., 540., 545., 550., 555., 560., 565., 570., 575., 580., 585.,\n",
       "       590., 595., 600., 605., 610., 615., 620., 625., 630., 635., 640., 645.,\n",
       "       650., 655., 660., 665., 670., 675., 680., 685., 690., 695., 700., 705.,\n",
       "       710., 715., 720., 725., 730., 735., 740., 745., 750.], dtype=float32)</pre></div></li></ul></div></li><li class='xr-section-item'><input id='section-326385b0-7105-44bf-abfd-116e019c0f78' class='xr-section-summary-in' type='checkbox'  ><label for='section-326385b0-7105-44bf-abfd-116e019c0f78' class='xr-section-summary' >Data variables: <span>(17)</span></label><div class='xr-section-inline-details'></div><div class='xr-section-details'><ul class='xr-var-list'><li class='xr-var-item'><div class='xr-var-name'><span>Rrs</span></div><div class='xr-var-dims'>(IOP_Scenario, Lambda)</div><div class='xr-var-dtype'>float32</div><div class='xr-var-preview xr-preview'>0.01176 0.01201 ... 3.041e-05</div><input id='attrs-b5394dca-137f-438e-9b0b-c8d171f33496' class='xr-var-attrs-in' type='checkbox' disabled><label for='attrs-b5394dca-137f-438e-9b0b-c8d171f33496' title='Show/Hide attributes'><svg class='icon xr-icon-file-text2'><use xlink:href='#icon-file-text2'></use></svg></label><input id='data-aaf69abd-8b9a-425e-b531-581ef0c5dd5a' class='xr-var-data-in' type='checkbox'><label for='data-aaf69abd-8b9a-425e-b531-581ef0c5dd5a' title='Show/Hide data repr'><svg class='icon xr-icon-database'><use xlink:href='#icon-database'></use></svg></label><div class='xr-var-attrs'><dl class='xr-attrs'></dl></div><div class='xr-var-data'><pre>array([[1.1761e-02, 1.2011e-02, 1.2205e-02, ..., 1.2980e-05, 1.2384e-05,\n",
       "        1.2053e-05],\n",
       "       [1.4810e-02, 1.5098e-02, 1.5242e-02, ..., 1.5533e-05, 1.4874e-05,\n",
       "        1.4502e-05],\n",
       "       [8.8532e-03, 8.9676e-03, 9.0611e-03, ..., 1.2654e-05, 1.2082e-05,\n",
       "        1.1772e-05],\n",
       "       ...,\n",
       "       [8.0910e-03, 8.2310e-03, 8.3191e-03, ..., 1.5196e-05, 1.4555e-05,\n",
       "        1.4201e-05],\n",
       "       [4.9206e-03, 5.0833e-03, 5.2079e-03, ..., 1.7808e-05, 1.7126e-05,\n",
       "        1.6741e-05],\n",
       "       [4.9708e-03, 5.1451e-03, 5.2934e-03, ..., 3.1913e-05, 3.0930e-05,\n",
       "        3.0408e-05]], dtype=float32)</pre></div></li><li class='xr-var-item'><div class='xr-var-name'><span>Ed_0+</span></div><div class='xr-var-dims'>(IOP_Scenario, Lambda)</div><div class='xr-var-dtype'>float32</div><div class='xr-var-preview xr-preview'>0.7753 0.7314 ... 1.237 1.222</div><input id='attrs-8675e9fa-ebc8-4480-8ff6-d497171d5cc6' class='xr-var-attrs-in' type='checkbox' disabled><label for='attrs-8675e9fa-ebc8-4480-8ff6-d497171d5cc6' title='Show/Hide attributes'><svg class='icon xr-icon-file-text2'><use xlink:href='#icon-file-text2'></use></svg></label><input id='data-d6690230-0e97-4c12-bf55-f86b5af3c59c' class='xr-var-data-in' type='checkbox'><label for='data-d6690230-0e97-4c12-bf55-f86b5af3c59c' title='Show/Hide data repr'><svg class='icon xr-icon-database'><use xlink:href='#icon-database'></use></svg></label><div class='xr-var-attrs'><dl class='xr-attrs'></dl></div><div class='xr-var-data'><pre>array([[0.77525, 0.7314 , 0.72075, ..., 1.2052 , 1.2373 , 1.222  ],\n",
       "       [0.77525, 0.7314 , 0.72075, ..., 1.2052 , 1.2373 , 1.222  ],\n",
       "       [0.77525, 0.7314 , 0.72075, ..., 1.2052 , 1.2373 , 1.222  ],\n",
       "       ...,\n",
       "       [0.77525, 0.7314 , 0.72075, ..., 1.2052 , 1.2373 , 1.222  ],\n",
       "       [0.77525, 0.7314 , 0.72075, ..., 1.2052 , 1.2373 , 1.222  ],\n",
       "       [0.77525, 0.7314 , 0.72075, ..., 1.2052 , 1.2373 , 1.222  ]],\n",
       "      dtype=float32)</pre></div></li><li class='xr-var-item'><div class='xr-var-name'><span>Lw</span></div><div class='xr-var-dims'>(IOP_Scenario, Lambda)</div><div class='xr-var-dtype'>float32</div><div class='xr-var-preview xr-preview'>0.009118 0.008785 ... 3.716e-05</div><input id='attrs-68461511-e84f-47b2-b915-c2fb4cea6cb7' class='xr-var-attrs-in' type='checkbox' disabled><label for='attrs-68461511-e84f-47b2-b915-c2fb4cea6cb7' title='Show/Hide attributes'><svg class='icon xr-icon-file-text2'><use xlink:href='#icon-file-text2'></use></svg></label><input id='data-e037bc10-e3f1-4b2f-9d2f-8316e8f2af98' class='xr-var-data-in' type='checkbox'><label for='data-e037bc10-e3f1-4b2f-9d2f-8316e8f2af98' title='Show/Hide data repr'><svg class='icon xr-icon-database'><use xlink:href='#icon-database'></use></svg></label><div class='xr-var-attrs'><dl class='xr-attrs'></dl></div><div class='xr-var-data'><pre>array([[9.1181e-03, 8.7847e-03, 8.7967e-03, ..., 1.5643e-05, 1.5323e-05,\n",
       "        1.4729e-05],\n",
       "       [1.1482e-02, 1.1043e-02, 1.0986e-02, ..., 1.8720e-05, 1.8404e-05,\n",
       "        1.7721e-05],\n",
       "       [6.8635e-03, 6.5589e-03, 6.5308e-03, ..., 1.5250e-05, 1.4950e-05,\n",
       "        1.4385e-05],\n",
       "       ...,\n",
       "       [6.2726e-03, 6.0202e-03, 5.9960e-03, ..., 1.8314e-05, 1.8009e-05,\n",
       "        1.7353e-05],\n",
       "       [3.8147e-03, 3.7180e-03, 3.7536e-03, ..., 2.1461e-05, 2.1190e-05,\n",
       "        2.0457e-05],\n",
       "       [3.8536e-03, 3.7631e-03, 3.8152e-03, ..., 3.8461e-05, 3.8270e-05,\n",
       "        3.7158e-05]], dtype=float32)</pre></div></li><li class='xr-var-item'><div class='xr-var-name'><span>Lu_0+</span></div><div class='xr-var-dims'>(IOP_Scenario, Lambda)</div><div class='xr-var-dtype'>float32</div><div class='xr-var-preview xr-preview'>0.04075 0.03903 ... 0.06316 0.0624</div><input id='attrs-4de02798-09a4-4c4e-9b4b-33a51cab7a09' class='xr-var-attrs-in' type='checkbox' disabled><label for='attrs-4de02798-09a4-4c4e-9b4b-33a51cab7a09' title='Show/Hide attributes'><svg class='icon xr-icon-file-text2'><use xlink:href='#icon-file-text2'></use></svg></label><input id='data-7760014e-918c-459e-9ef4-ff10167c619d' class='xr-var-data-in' type='checkbox'><label for='data-7760014e-918c-459e-9ef4-ff10167c619d' title='Show/Hide data repr'><svg class='icon xr-icon-database'><use xlink:href='#icon-database'></use></svg></label><div class='xr-var-attrs'><dl class='xr-attrs'></dl></div><div class='xr-var-data'><pre>array([[0.040746, 0.03903 , 0.039024, ..., 0.061465, 0.063132, 0.062377],\n",
       "       [0.043109, 0.041288, 0.041213, ..., 0.061468, 0.063135, 0.06238 ],\n",
       "       [0.038491, 0.036804, 0.036758, ..., 0.061465, 0.063131, 0.062376],\n",
       "       ...,\n",
       "       [0.0379  , 0.036265, 0.036223, ..., 0.061468, 0.063134, 0.062379],\n",
       "       [0.035442, 0.033963, 0.033981, ..., 0.061471, 0.063138, 0.062383],\n",
       "       [0.035481, 0.034008, 0.034042, ..., 0.061488, 0.063155, 0.062399]],\n",
       "      dtype=float32)</pre></div></li><li class='xr-var-item'><div class='xr-var-name'><span>a</span></div><div class='xr-var-dims'>(IOP_Scenario, Lambda)</div><div class='xr-var-dtype'>float32</div><div class='xr-var-preview xr-preview'>0.03096 0.02925 ... 2.83 2.85</div><input id='attrs-54329f8e-21ea-46f1-9c53-8d1a047fb466' class='xr-var-attrs-in' type='checkbox' disabled><label for='attrs-54329f8e-21ea-46f1-9c53-8d1a047fb466' title='Show/Hide attributes'><svg class='icon xr-icon-file-text2'><use xlink:href='#icon-file-text2'></use></svg></label><input id='data-4a71fd5e-69ba-4927-a3aa-df4f649f3897' class='xr-var-data-in' type='checkbox'><label for='data-4a71fd5e-69ba-4927-a3aa-df4f649f3897' title='Show/Hide data repr'><svg class='icon xr-icon-database'><use xlink:href='#icon-database'></use></svg></label><div class='xr-var-attrs'><dl class='xr-attrs'></dl></div><div class='xr-var-data'><pre>array([[0.030964, 0.029248, 0.027677, ..., 2.7802  , 2.8302  , 2.8501  ],\n",
       "       [0.025285, 0.023972, 0.022902, ..., 2.7802  , 2.8301  , 2.8501  ],\n",
       "       [0.04089 , 0.038973, 0.037108, ..., 2.7806  , 2.8306  , 2.8505  ],\n",
       "       ...,\n",
       "       [0.047876, 0.045435, 0.043277, ..., 2.7808  , 2.8307  , 2.8507  ],\n",
       "       [0.082732, 0.077215, 0.072439, ..., 2.7813  , 2.8312  , 2.8511  ],\n",
       "       [0.092933, 0.086927, 0.081584, ..., 2.7806  , 2.8305  , 2.8504  ]],\n",
       "      dtype=float32)</pre></div></li><li class='xr-var-item'><div class='xr-var-name'><span>anw</span></div><div class='xr-var-dims'>(IOP_Scenario, Lambda)</div><div class='xr-var-dtype'>float32</div><div class='xr-var-preview xr-preview'>0.02386 0.02245 ... 0.0005 0.0004</div><input id='attrs-ce6c3ea0-943c-4955-8910-af5fb3800e4c' class='xr-var-attrs-in' type='checkbox' disabled><label for='attrs-ce6c3ea0-943c-4955-8910-af5fb3800e4c' title='Show/Hide attributes'><svg class='icon xr-icon-file-text2'><use xlink:href='#icon-file-text2'></use></svg></label><input id='data-cc1eb514-4109-43e4-b7e8-c87bacdfb712' class='xr-var-data-in' type='checkbox'><label for='data-cc1eb514-4109-43e4-b7e8-c87bacdfb712' title='Show/Hide data repr'><svg class='icon xr-icon-database'><use xlink:href='#icon-database'></use></svg></label><div class='xr-var-attrs'><dl class='xr-attrs'></dl></div><div class='xr-var-data'><pre>array([[2.3864e-02, 2.2448e-02, 2.1077e-02, ..., 2.0000e-04, 2.0000e-04,\n",
       "        1.0000e-04],\n",
       "       [1.8185e-02, 1.7172e-02, 1.6302e-02, ..., 2.0000e-04, 1.0000e-04,\n",
       "        1.0000e-04],\n",
       "       [3.3790e-02, 3.2173e-02, 3.0508e-02, ..., 6.0000e-04, 6.0000e-04,\n",
       "        5.0000e-04],\n",
       "       ...,\n",
       "       [4.0776e-02, 3.8635e-02, 3.6677e-02, ..., 8.0000e-04, 7.0000e-04,\n",
       "        7.0000e-04],\n",
       "       [7.5632e-02, 7.0415e-02, 6.5839e-02, ..., 1.3000e-03, 1.2000e-03,\n",
       "        1.1000e-03],\n",
       "       [8.5833e-02, 8.0127e-02, 7.4984e-02, ..., 6.0000e-04, 5.0000e-04,\n",
       "        4.0000e-04]], dtype=float32)</pre></div></li><li class='xr-var-item'><div class='xr-var-name'><span>aph</span></div><div class='xr-var-dims'>(IOP_Scenario, Lambda)</div><div class='xr-var-dtype'>float32</div><div class='xr-var-preview xr-preview'>0.003565 0.003373 ... 6.3e-05 0.0</div><input id='attrs-752916ee-f204-4794-8f3d-10d81b86772c' class='xr-var-attrs-in' type='checkbox' disabled><label for='attrs-752916ee-f204-4794-8f3d-10d81b86772c' title='Show/Hide attributes'><svg class='icon xr-icon-file-text2'><use xlink:href='#icon-file-text2'></use></svg></label><input id='data-6fbdbf42-969d-43b3-94c1-cac10f3ac541' class='xr-var-data-in' type='checkbox'><label for='data-6fbdbf42-969d-43b3-94c1-cac10f3ac541' title='Show/Hide data repr'><svg class='icon xr-icon-database'><use xlink:href='#icon-database'></use></svg></label><div class='xr-var-attrs'><dl class='xr-attrs'></dl></div><div class='xr-var-data'><pre>array([[3.5650e-03, 3.3730e-03, 3.1520e-03, ..., 0.0000e+00, 0.0000e+00,\n",
       "        3.0000e-06],\n",
       "       [4.5050e-03, 4.3060e-03, 4.2030e-03, ..., 4.9000e-05, 0.0000e+00,\n",
       "        7.0000e-06],\n",
       "       [2.9210e-03, 2.8300e-03, 2.6170e-03, ..., 2.2000e-05, 8.0000e-06,\n",
       "        0.0000e+00],\n",
       "       ...,\n",
       "       [6.6210e-03, 6.1550e-03, 5.7870e-03, ..., 7.1000e-05, 2.3000e-05,\n",
       "        0.0000e+00],\n",
       "       [1.1896e-02, 1.1369e-02, 1.1097e-02, ..., 1.3100e-04, 0.0000e+00,\n",
       "        1.8000e-05],\n",
       "       [1.8095e-02, 1.6820e-02, 1.5814e-02, ..., 1.9300e-04, 6.3000e-05,\n",
       "        0.0000e+00]], dtype=float32)</pre></div></li><li class='xr-var-item'><div class='xr-var-name'><span>ag</span></div><div class='xr-var-dims'>(IOP_Scenario, Lambda)</div><div class='xr-var-dtype'>float32</div><div class='xr-var-preview xr-preview'>0.01736 0.01634 ... 0.000263</div><input id='attrs-e3a226f3-f364-4635-8faf-44f51d2f8f2c' class='xr-var-attrs-in' type='checkbox' disabled><label for='attrs-e3a226f3-f364-4635-8faf-44f51d2f8f2c' title='Show/Hide attributes'><svg class='icon xr-icon-file-text2'><use xlink:href='#icon-file-text2'></use></svg></label><input id='data-2b99dd5e-4d2e-417a-9ff8-0058517bce68' class='xr-var-data-in' type='checkbox'><label for='data-2b99dd5e-4d2e-417a-9ff8-0058517bce68' title='Show/Hide data repr'><svg class='icon xr-icon-database'><use xlink:href='#icon-database'></use></svg></label><div class='xr-var-attrs'><dl class='xr-attrs'></dl></div><div class='xr-var-data'><pre>array([[1.7364e-02, 1.6337e-02, 1.5371e-02, ..., 1.5000e-04, 1.4100e-04,\n",
       "        1.3200e-04],\n",
       "       [9.4000e-03, 8.8360e-03, 8.3050e-03, ..., 7.5000e-05, 7.0000e-05,\n",
       "        6.6000e-05],\n",
       "       [2.0642e-02, 1.9607e-02, 1.8623e-02, ..., 3.7300e-04, 3.5400e-04,\n",
       "        3.3600e-04],\n",
       "       ...,\n",
       "       [2.9269e-02, 2.7774e-02, 2.6356e-02, ..., 4.9100e-04, 4.6600e-04,\n",
       "        4.4200e-04],\n",
       "       [4.4948e-02, 4.0913e-02, 3.7241e-02, ..., 2.9000e-05, 2.7000e-05,\n",
       "        2.4000e-05],\n",
       "       [1.9491e-02, 1.8470e-02, 1.7502e-02, ..., 2.9300e-04, 2.7800e-04,\n",
       "        2.6300e-04]], dtype=float32)</pre></div></li><li class='xr-var-item'><div class='xr-var-name'><span>ad</span></div><div class='xr-var-dims'>(IOP_Scenario, Lambda)</div><div class='xr-var-dtype'>float32</div><div class='xr-var-preview xr-preview'>0.002935 0.002738 ... 0.000137</div><input id='attrs-dbbd35d8-c6c9-40cd-ae98-6faaa208b32e' class='xr-var-attrs-in' type='checkbox' disabled><label for='attrs-dbbd35d8-c6c9-40cd-ae98-6faaa208b32e' title='Show/Hide attributes'><svg class='icon xr-icon-file-text2'><use xlink:href='#icon-file-text2'></use></svg></label><input id='data-959ce34b-146b-4eb8-94de-8054d204d652' class='xr-var-data-in' type='checkbox'><label for='data-959ce34b-146b-4eb8-94de-8054d204d652' title='Show/Hide data repr'><svg class='icon xr-icon-database'><use xlink:href='#icon-database'></use></svg></label><div class='xr-var-attrs'><dl class='xr-attrs'></dl></div><div class='xr-var-data'><pre>array([[2.9350e-03, 2.7380e-03, 2.5540e-03, ..., 1.3000e-05, 1.2000e-05,\n",
       "        1.1000e-05],\n",
       "       [4.2800e-03, 4.0300e-03, 3.7940e-03, ..., 3.9000e-05, 3.7000e-05,\n",
       "        3.5000e-05],\n",
       "       [1.0227e-02, 9.7360e-03, 9.2680e-03, ..., 2.2000e-04, 2.1000e-04,\n",
       "        2.0000e-04],\n",
       "       ...,\n",
       "       [4.8860e-03, 4.7060e-03, 4.5340e-03, ..., 2.6400e-04, 2.5500e-04,\n",
       "        2.4500e-04],\n",
       "       [1.8788e-02, 1.8133e-02, 1.7501e-02, ..., 1.1810e-03, 1.1390e-03,\n",
       "        1.1000e-03],\n",
       "       [4.8247e-02, 4.4837e-02, 4.1668e-02, ..., 1.5900e-04, 1.4700e-04,\n",
       "        1.3700e-04]], dtype=float32)</pre></div></li><li class='xr-var-item'><div class='xr-var-name'><span>b</span></div><div class='xr-var-dims'>(IOP_Scenario, Lambda)</div><div class='xr-var-dtype'>float32</div><div class='xr-var-preview xr-preview'>0.09028 0.08804 ... 0.1371 0.1364</div><input id='attrs-c1158e23-b5e7-42be-8eb5-683195dc0e8b' class='xr-var-attrs-in' type='checkbox' disabled><label for='attrs-c1158e23-b5e7-42be-8eb5-683195dc0e8b' title='Show/Hide attributes'><svg class='icon xr-icon-file-text2'><use xlink:href='#icon-file-text2'></use></svg></label><input id='data-32c9d89d-bb5a-4298-a53b-ad61b2686e42' class='xr-var-data-in' type='checkbox'><label for='data-32c9d89d-bb5a-4298-a53b-ad61b2686e42' title='Show/Hide data repr'><svg class='icon xr-icon-database'><use xlink:href='#icon-database'></use></svg></label><div class='xr-var-attrs'><dl class='xr-attrs'></dl></div><div class='xr-var-data'><pre>array([[0.090283, 0.088042, 0.085944, ..., 0.027875, 0.027598, 0.027321],\n",
       "       [0.12516 , 0.12222 , 0.11932 , ..., 0.040239, 0.039892, 0.039495],\n",
       "       [0.077736, 0.076067, 0.074603, ..., 0.031212, 0.030991, 0.030766],\n",
       "       ...,\n",
       "       [0.10375 , 0.10162 , 0.099512, ..., 0.036246, 0.035956, 0.035647],\n",
       "       [0.095831, 0.094175, 0.092362, ..., 0.042922, 0.04273 , 0.042393],\n",
       "       [0.23755 , 0.23547 , 0.23324 , ..., 0.13768 , 0.13709 , 0.13644 ]],\n",
       "      dtype=float32)</pre></div></li><li class='xr-var-item'><div class='xr-var-name'><span>bnw</span></div><div class='xr-var-dims'>(IOP_Scenario, Lambda)</div><div class='xr-var-dtype'>float32</div><div class='xr-var-preview xr-preview'>0.07845 0.07692 ... 0.1366 0.136</div><input id='attrs-2378159c-c479-4f68-983d-4a2aaf649b0c' class='xr-var-attrs-in' type='checkbox' disabled><label for='attrs-2378159c-c479-4f68-983d-4a2aaf649b0c' title='Show/Hide attributes'><svg class='icon xr-icon-file-text2'><use xlink:href='#icon-file-text2'></use></svg></label><input id='data-aa92ff11-727c-486e-a8fe-4df7064bcb6b' class='xr-var-data-in' type='checkbox'><label for='data-aa92ff11-727c-486e-a8fe-4df7064bcb6b' title='Show/Hide data repr'><svg class='icon xr-icon-database'><use xlink:href='#icon-database'></use></svg></label><div class='xr-var-attrs'><dl class='xr-attrs'></dl></div><div class='xr-var-data'><pre>array([[0.078448  , 0.076924  , 0.075489  , ..., 0.02737661, 0.02711329,\n",
       "        0.0268495 ],\n",
       "       [0.113325  , 0.111102  , 0.108865  , ..., 0.03974061, 0.03940729,\n",
       "        0.0390235 ],\n",
       "       [0.065901  , 0.064949  , 0.064148  , ..., 0.03071361, 0.03050629,\n",
       "        0.0302945 ],\n",
       "       ...,\n",
       "       [0.091915  , 0.090502  , 0.089057  , ..., 0.03574761, 0.03547129,\n",
       "        0.0351755 ],\n",
       "       [0.083996  , 0.083057  , 0.081907  , ..., 0.04242361, 0.04224529,\n",
       "        0.0419215 ],\n",
       "       [0.225715  , 0.224352  , 0.222785  , ..., 0.13718161, 0.1366053 ,\n",
       "        0.1359685 ]], dtype=float32)</pre></div></li><li class='xr-var-item'><div class='xr-var-name'><span>bph</span></div><div class='xr-var-dims'>(IOP_Scenario, Lambda)</div><div class='xr-var-dtype'>float32</div><div class='xr-var-preview xr-preview'>0.04521 0.04454 ... 0.1013 0.1008</div><input id='attrs-a013724e-9d02-4118-8876-87232907f68b' class='xr-var-attrs-in' type='checkbox' disabled><label for='attrs-a013724e-9d02-4118-8876-87232907f68b' title='Show/Hide attributes'><svg class='icon xr-icon-file-text2'><use xlink:href='#icon-file-text2'></use></svg></label><input id='data-240c517e-35a2-4d58-9c4a-8d7cd424937a' class='xr-var-data-in' type='checkbox'><label for='data-240c517e-35a2-4d58-9c4a-8d7cd424937a' title='Show/Hide data repr'><svg class='icon xr-icon-database'><use xlink:href='#icon-database'></use></svg></label><div class='xr-var-attrs'><dl class='xr-attrs'></dl></div><div class='xr-var-data'><pre>array([[0.045214, 0.044536, 0.043914, ..., 0.018856, 0.018695, 0.018534],\n",
       "       [0.060512, 0.059535, 0.058498, ..., 0.024744, 0.024579, 0.024362],\n",
       "       [0.060603, 0.059747, 0.059039, ..., 0.028697, 0.028507, 0.028313],\n",
       "       ...,\n",
       "       [0.048808, 0.048155, 0.047441, ..., 0.018813, 0.018678, 0.018522],\n",
       "       [0.015974, 0.016059, 0.015903, ..., 0.011877, 0.011917, 0.01181 ],\n",
       "       [0.16081 , 0.16018 , 0.15934 , ..., 0.10167 , 0.10128 , 0.10084 ]],\n",
       "      dtype=float32)</pre></div></li><li class='xr-var-item'><div class='xr-var-name'><span>bd</span></div><div class='xr-var-dims'>(IOP_Scenario, Lambda)</div><div class='xr-var-dtype'>float32</div><div class='xr-var-preview xr-preview'>0.03323 0.03239 ... 0.03532 0.03513</div><input id='attrs-45cae169-2180-4dc7-8c38-7cf5868094e7' class='xr-var-attrs-in' type='checkbox' disabled><label for='attrs-45cae169-2180-4dc7-8c38-7cf5868094e7' title='Show/Hide attributes'><svg class='icon xr-icon-file-text2'><use xlink:href='#icon-file-text2'></use></svg></label><input id='data-cee5ad68-5c41-441b-86cc-4c0070eedfad' class='xr-var-data-in' type='checkbox'><label for='data-cee5ad68-5c41-441b-86cc-4c0070eedfad' title='Show/Hide data repr'><svg class='icon xr-icon-database'><use xlink:href='#icon-database'></use></svg></label><div class='xr-var-attrs'><dl class='xr-attrs'></dl></div><div class='xr-var-data'><pre>array([[0.033234, 0.032388, 0.031575, ..., 0.008521, 0.008418, 0.008316],\n",
       "       [0.052816, 0.051571, 0.050372, ..., 0.014997, 0.014828, 0.014662],\n",
       "       [0.005298, 0.005202, 0.005109, ..., 0.002017, 0.001999, 0.001982],\n",
       "       ...,\n",
       "       [0.043105, 0.042348, 0.041616, ..., 0.016935, 0.016793, 0.016654],\n",
       "       [0.068022, 0.066998, 0.066004, ..., 0.030547, 0.030328, 0.030112],\n",
       "       [0.064904, 0.064167, 0.063449, ..., 0.035516, 0.035324, 0.035134]],\n",
       "      dtype=float32)</pre></div></li><li class='xr-var-item'><div class='xr-var-name'><span>bb</span></div><div class='xr-var-dims'>(IOP_Scenario, Lambda)</div><div class='xr-var-dtype'>float32</div><div class='xr-var-preview xr-preview'>0.006968 0.006587 ... 0.001876</div><input id='attrs-538c9814-7333-4071-bf26-0bdc6598692b' class='xr-var-attrs-in' type='checkbox' disabled><label for='attrs-538c9814-7333-4071-bf26-0bdc6598692b' title='Show/Hide attributes'><svg class='icon xr-icon-file-text2'><use xlink:href='#icon-file-text2'></use></svg></label><input id='data-c90139cf-6496-41ff-bde3-c27547d7373e' class='xr-var-data-in' type='checkbox'><label for='data-c90139cf-6496-41ff-bde3-c27547d7373e' title='Show/Hide data repr'><svg class='icon xr-icon-database'><use xlink:href='#icon-database'></use></svg></label><div class='xr-var-attrs'><dl class='xr-attrs'></dl></div><div class='xr-var-data'><pre>array([[0.0069677 , 0.0065869 , 0.0062344 , ..., 0.00059112, 0.00058081,\n",
       "        0.00057076],\n",
       "       [0.0074731 , 0.0070821 , 0.0067186 , ..., 0.00076657, 0.00075503,\n",
       "        0.00074327],\n",
       "       [0.0066187 , 0.0062496 , 0.0059093 , ..., 0.00057246, 0.00056339,\n",
       "        0.00055454],\n",
       "       ...,\n",
       "       [0.0071813 , 0.0068023 , 0.0064504 , ..., 0.00074214, 0.00073139,\n",
       "        0.00072073],\n",
       "       [0.0073014 , 0.0069251 , 0.006574  , ..., 0.0009178 , 0.00090741,\n",
       "        0.00089585],\n",
       "       [0.0086936 , 0.0083153 , 0.0079624 , ..., 0.0019051 , 0.001891  ,\n",
       "        0.0018765 ]], dtype=float32)</pre></div></li><li class='xr-var-item'><div class='xr-var-name'><span>bbnw</span></div><div class='xr-var-dims'>(IOP_Scenario, Lambda)</div><div class='xr-var-dtype'>float32</div><div class='xr-var-preview xr-preview'>0.00105 0.001028 ... 0.001641</div><input id='attrs-d3a16f50-189f-4e70-bbc3-b9635a95c4a1' class='xr-var-attrs-in' type='checkbox' disabled><label for='attrs-d3a16f50-189f-4e70-bbc3-b9635a95c4a1' title='Show/Hide attributes'><svg class='icon xr-icon-file-text2'><use xlink:href='#icon-file-text2'></use></svg></label><input id='data-0a9920da-be4c-4de7-b610-3693d09c3f02' class='xr-var-data-in' type='checkbox'><label for='data-0a9920da-be4c-4de7-b610-3693d09c3f02' title='Show/Hide data repr'><svg class='icon xr-icon-database'><use xlink:href='#icon-database'></use></svg></label><div class='xr-var-attrs'><dl class='xr-attrs'></dl></div><div class='xr-var-data'><pre>array([[0.0010504 , 0.0010284 , 0.0010075 , ..., 0.00034194, 0.00033847,\n",
       "        0.00033503],\n",
       "       [0.0015558 , 0.0015236 , 0.0014917 , ..., 0.00051739, 0.00051269,\n",
       "        0.00050754],\n",
       "       [0.0007014 , 0.0006911 , 0.0006824 , ..., 0.00032328, 0.00032105,\n",
       "        0.00031881],\n",
       "       ...,\n",
       "       [0.001264  , 0.0012438 , 0.0012235 , ..., 0.00049296, 0.00048905,\n",
       "        0.000485  ],\n",
       "       [0.0013841 , 0.0013666 , 0.0013471 , ..., 0.00066862, 0.00066507,\n",
       "        0.00066012],\n",
       "       [0.0027763 , 0.0027568 , 0.0027355 , ..., 0.00165592, 0.00164866,\n",
       "        0.00164077]], dtype=float32)</pre></div></li><li class='xr-var-item'><div class='xr-var-name'><span>bbph</span></div><div class='xr-var-dims'>(IOP_Scenario, Lambda)</div><div class='xr-var-dtype'>float32</div><div class='xr-var-preview xr-preview'>0.0004521 0.0004454 ... 0.001008</div><input id='attrs-e8e7f7be-a654-420e-aa17-0a8a5a4fa8f4' class='xr-var-attrs-in' type='checkbox' disabled><label for='attrs-e8e7f7be-a654-420e-aa17-0a8a5a4fa8f4' title='Show/Hide attributes'><svg class='icon xr-icon-file-text2'><use xlink:href='#icon-file-text2'></use></svg></label><input id='data-ee79f3b5-6da7-428c-94cd-c297d256a3b7' class='xr-var-data-in' type='checkbox'><label for='data-ee79f3b5-6da7-428c-94cd-c297d256a3b7' title='Show/Hide data repr'><svg class='icon xr-icon-database'><use xlink:href='#icon-database'></use></svg></label><div class='xr-var-attrs'><dl class='xr-attrs'></dl></div><div class='xr-var-data'><pre>array([[0.00045214, 0.00044536, 0.00043914, ..., 0.00018856, 0.00018695,\n",
       "        0.00018534],\n",
       "       [0.00060512, 0.00059535, 0.00058498, ..., 0.00024744, 0.00024579,\n",
       "        0.00024362],\n",
       "       [0.00060603, 0.00059747, 0.00059039, ..., 0.00028697, 0.00028507,\n",
       "        0.00028313],\n",
       "       ...,\n",
       "       [0.00048808, 0.00048155, 0.00047441, ..., 0.00018813, 0.00018678,\n",
       "        0.00018522],\n",
       "       [0.00015974, 0.00016059, 0.00015903, ..., 0.00011877, 0.00011917,\n",
       "        0.0001181 ],\n",
       "       [0.0016081 , 0.0016018 , 0.0015934 , ..., 0.0010167 , 0.0010128 ,\n",
       "        0.0010084 ]], dtype=float32)</pre></div></li><li class='xr-var-item'><div class='xr-var-name'><span>bbd</span></div><div class='xr-var-dims'>(IOP_Scenario, Lambda)</div><div class='xr-var-dtype'>float32</div><div class='xr-var-preview xr-preview'>0.0005982 0.000583 ... 0.0006324</div><input id='attrs-56adeea4-a280-40da-9f58-31ed268e4d52' class='xr-var-attrs-in' type='checkbox' disabled><label for='attrs-56adeea4-a280-40da-9f58-31ed268e4d52' title='Show/Hide attributes'><svg class='icon xr-icon-file-text2'><use xlink:href='#icon-file-text2'></use></svg></label><input id='data-cd5b16df-1003-499a-846d-c2a37fced17f' class='xr-var-data-in' type='checkbox'><label for='data-cd5b16df-1003-499a-846d-c2a37fced17f' title='Show/Hide data repr'><svg class='icon xr-icon-database'><use xlink:href='#icon-database'></use></svg></label><div class='xr-var-attrs'><dl class='xr-attrs'></dl></div><div class='xr-var-data'><pre>array([[5.9821e-04, 5.8298e-04, 5.6835e-04, ..., 1.5338e-04, 1.5152e-04,\n",
       "        1.4969e-04],\n",
       "       [9.5069e-04, 9.2828e-04, 9.0670e-04, ..., 2.6995e-04, 2.6690e-04,\n",
       "        2.6392e-04],\n",
       "       [9.5364e-05, 9.3636e-05, 9.1962e-05, ..., 3.6306e-05, 3.5982e-05,\n",
       "        3.5676e-05],\n",
       "       ...,\n",
       "       [7.7589e-04, 7.6226e-04, 7.4909e-04, ..., 3.0483e-04, 3.0227e-04,\n",
       "        2.9977e-04],\n",
       "       [1.2244e-03, 1.2060e-03, 1.1881e-03, ..., 5.4985e-04, 5.4590e-04,\n",
       "        5.4202e-04],\n",
       "       [1.1683e-03, 1.1550e-03, 1.1421e-03, ..., 6.3929e-04, 6.3583e-04,\n",
       "        6.3241e-04]], dtype=float32)</pre></div></li></ul></div></li><li class='xr-section-item'><input id='section-8c424a35-571c-47a5-a96c-034044fdc83f' class='xr-section-summary-in' type='checkbox'  ><label for='section-8c424a35-571c-47a5-a96c-034044fdc83f' class='xr-section-summary' >Indexes: <span>(1)</span></label><div class='xr-section-inline-details'></div><div class='xr-section-details'><ul class='xr-var-list'><li class='xr-var-item'><div class='xr-index-name'><div>Lambda</div></div><div class='xr-index-preview'>PandasIndex</div><div></div><input id='index-af56cd61-b6a9-4cb1-81f8-829977a769b5' class='xr-index-data-in' type='checkbox'/><label for='index-af56cd61-b6a9-4cb1-81f8-829977a769b5' title='Show/Hide index repr'><svg class='icon xr-icon-database'><use xlink:href='#icon-database'></use></svg></label><div class='xr-index-data'><pre>PandasIndex(Index([350.0, 355.0, 360.0, 365.0, 370.0, 375.0, 380.0, 385.0, 390.0, 395.0,\n",
       "       400.0, 405.0, 410.0, 415.0, 420.0, 425.0, 430.0, 435.0, 440.0, 445.0,\n",
       "       450.0, 455.0, 460.0, 465.0, 470.0, 475.0, 480.0, 485.0, 490.0, 495.0,\n",
       "       500.0, 505.0, 510.0, 515.0, 520.0, 525.0, 530.0, 535.0, 540.0, 545.0,\n",
       "       550.0, 555.0, 560.0, 565.0, 570.0, 575.0, 580.0, 585.0, 590.0, 595.0,\n",
       "       600.0, 605.0, 610.0, 615.0, 620.0, 625.0, 630.0, 635.0, 640.0, 645.0,\n",
       "       650.0, 655.0, 660.0, 665.0, 670.0, 675.0, 680.0, 685.0, 690.0, 695.0,\n",
       "       700.0, 705.0, 710.0, 715.0, 720.0, 725.0, 730.0, 735.0, 740.0, 745.0,\n",
       "       750.0],\n",
       "      dtype=&#x27;float32&#x27;, name=&#x27;Lambda&#x27;))</pre></div></li></ul></div></li><li class='xr-section-item'><input id='section-f7df4c1e-527a-4cb4-b147-f5bde5bed1e2' class='xr-section-summary-in' type='checkbox' disabled ><label for='section-f7df4c1e-527a-4cb4-b147-f5bde5bed1e2' class='xr-section-summary'  title='Expand/collapse section'>Attributes: <span>(0)</span></label><div class='xr-section-inline-details'></div><div class='xr-section-details'><dl class='xr-attrs'></dl></div></li></ul></div></div>"
      ],
      "text/plain": [
       "<xarray.Dataset>\n",
       "Dimensions:  (Lambda: 81, IOP_Scenario: 3320)\n",
       "Coordinates:\n",
       "  * Lambda   (Lambda) float32 350.0 355.0 360.0 365.0 ... 740.0 745.0 750.0\n",
       "Dimensions without coordinates: IOP_Scenario\n",
       "Data variables: (12/17)\n",
       "    Rrs      (IOP_Scenario, Lambda) float32 0.01176 0.01201 ... 3.041e-05\n",
       "    Ed_0+    (IOP_Scenario, Lambda) float32 0.7753 0.7314 0.7207 ... 1.237 1.222\n",
       "    Lw       (IOP_Scenario, Lambda) float32 0.009118 0.008785 ... 3.716e-05\n",
       "    Lu_0+    (IOP_Scenario, Lambda) float32 0.04075 0.03903 ... 0.06316 0.0624\n",
       "    a        (IOP_Scenario, Lambda) float32 0.03096 0.02925 ... 2.83 2.85\n",
       "    anw      (IOP_Scenario, Lambda) float32 0.02386 0.02245 ... 0.0005 0.0004\n",
       "    ...       ...\n",
       "    bph      (IOP_Scenario, Lambda) float32 0.04521 0.04454 ... 0.1013 0.1008\n",
       "    bd       (IOP_Scenario, Lambda) float32 0.03323 0.03239 ... 0.03532 0.03513\n",
       "    bb       (IOP_Scenario, Lambda) float32 0.006968 0.006587 ... 0.001876\n",
       "    bbnw     (IOP_Scenario, Lambda) float32 0.00105 0.001028 ... 0.001641\n",
       "    bbph     (IOP_Scenario, Lambda) float32 0.0004521 0.0004454 ... 0.001008\n",
       "    bbd      (IOP_Scenario, Lambda) float32 0.0005982 0.000583 ... 0.0006324"
      ]
     },
     "execution_count": 4,
     "metadata": {},
     "output_type": "execute_result"
    }
   ],
   "source": [
    "var = xarray.load_dataset(variable_file)\n",
    "var"
   ]
  },
  {
   "cell_type": "code",
   "execution_count": 5,
   "id": "6c491dee-b529-4f7a-b591-1eba5a5a9deb",
   "metadata": {
    "tags": []
   },
   "outputs": [
    {
     "data": {
      "text/plain": [
       "(3320, 81)"
      ]
     },
     "execution_count": 5,
     "metadata": {},
     "output_type": "execute_result"
    }
   ],
   "source": [
    "var.bb.shape"
   ]
  },
  {
   "cell_type": "code",
   "execution_count": 6,
   "id": "f6e356bf-583d-45b1-ab8b-27149a0e5aa7",
   "metadata": {
    "tags": []
   },
   "outputs": [],
   "source": [
    "D = var.bb.shape[1]"
   ]
  },
  {
   "cell_type": "markdown",
   "id": "9a7d3ae7-2995-4235-905a-9c07ac4cf703",
   "metadata": {},
   "source": [
    "# Plot a few"
   ]
  },
  {
   "cell_type": "code",
   "execution_count": 9,
   "id": "b5e121c7-034a-4af9-ad02-9b9eedf20290",
   "metadata": {
    "tags": []
   },
   "outputs": [
    {
     "data": {
      "image/png": "[encoded data removed]",
      "text/plain": [
       "<Figure size 640x480 with 1 Axes>"
      ]
     },
     "metadata": {},
     "output_type": "display_data"
    }
   ],
   "source": [
    "waves = var.Lambda.data < 3620.\n",
    "plt.clf()\n",
    "ax = plt.gca()\n",
    "#sns.lineplot(x=var.Lambda[waves], y=var.a.data[200,waves], ax=ax)\n",
    "sns.lineplot(x=var.Lambda[waves], y=var.bb.data[200,waves], ax=ax, label='100')\n",
    "sns.lineplot(x=var.Lambda[waves], y=var.bb.data[1000,waves], ax=ax, label='1000')\n",
    "sns.lineplot(x=var.Lambda[waves], y=var.bb.data[2000,waves], ax=ax, label='2000')\n",
    "\n",
    "ax.set_xlabel('Lambda (nm)')\n",
    "ax.set_ylabel(r'$b_b(\\lambda)$')\n",
    "\n",
    "ax.legend()\n",
    "\n",
    "plt.savefig('varying_bb.png', dpi=300)\n",
    "\n",
    "plt.show()"
   ]
  },
  {
   "cell_type": "markdown",
   "id": "918047c3-0417-4ca2-b5f9-40ebf21ecad2",
   "metadata": {},
   "source": [
    "## PCA me"
   ]
  },
  {
   "cell_type": "markdown",
   "id": "1cd9523d-a182-4d5c-b4f3-fa75808a158b",
   "metadata": {},
   "source": [
    "## Mean $b_b$"
   ]
  },
  {
   "cell_type": "code",
   "execution_count": 10,
   "id": "9cc49f99-af30-4ff9-b6c5-135d5b0a0917",
   "metadata": {
    "tags": []
   },
   "outputs": [],
   "source": [
    "mean_spec = np.mean(var.bb.data, axis=0)"
   ]
  },
  {
   "cell_type": "code",
   "execution_count": 11,
   "id": "b51f02e0-4252-4520-8fda-0d8993359ce5",
   "metadata": {
    "tags": []
   },
   "outputs": [
    {
     "data": {
      "image/png": "[encoded data removed]",
      "text/plain": [
       "<Figure size 640x480 with 1 Axes>"
      ]
     },
     "metadata": {},
     "output_type": "display_data"
    }
   ],
   "source": [
    "plt.clf()\n",
    "ax = plt.gca()\n",
    "ax.plot(var.Lambda, mean_spec)\n",
    "#\n",
    "plt.show()"
   ]
  },
  {
   "cell_type": "markdown",
   "id": "0a5c698f-fb20-4544-8b78-bd3df7089eb3",
   "metadata": {},
   "source": [
    "## Full fits"
   ]
  },
  {
   "cell_type": "code",
   "execution_count": 12,
   "id": "875df036-318f-4919-b723-9ee3faa338cf",
   "metadata": {
    "tags": []
   },
   "outputs": [],
   "source": [
    "pca_fit_cut = decomposition.PCA(n_components=np.sum(waves)).fit(var.bb.data[:,waves])"
   ]
  },
  {
   "cell_type": "code",
   "execution_count": 13,
   "id": "5bf7b404-6f76-4515-8cc4-ae7bef804373",
   "metadata": {
    "tags": []
   },
   "outputs": [],
   "source": [
    "pca_fit = decomposition.PCA(n_components=D).fit(var.bb.data)"
   ]
  },
  {
   "cell_type": "markdown",
   "id": "cff213c8-f384-48f5-bd62-9abf560351a3",
   "metadata": {},
   "source": [
    "### Variance"
   ]
  },
  {
   "cell_type": "code",
   "execution_count": 14,
   "id": "2f00111b-ec6e-438f-89c7-94a98104adb1",
   "metadata": {
    "tags": []
   },
   "outputs": [
    {
     "data": {
      "image/png": "[encoded data removed]",
      "text/plain": [
       "<Figure size 640x480 with 1 Axes>"
      ]
     },
     "metadata": {},
     "output_type": "display_data"
    }
   ],
   "source": [
    "plt.clf()\n",
    "ax = plt.gca()\n",
    "ax.plot(np.cumsum(pca_fit.explained_variance_ratio_), label='All Lambda')\n",
    "ax.plot(np.cumsum(pca_fit_cut.explained_variance_ratio_), label='Lower Lambda')\n",
    "# Label\n",
    "ax.set_ylabel('Cumulative variance explained')\n",
    "ax.set_xlabel('Number of components')\n",
    "#\n",
    "ax.set_xlim(0,10.)\n",
    "#\n",
    "ax.legend()\n",
    "#\n",
    "plt.show()"
   ]
  },
  {
   "cell_type": "markdown",
   "id": "a676115a-f4b3-4d0d-9941-71fd9d58e3d7",
   "metadata": {},
   "source": [
    "# Reduced fits"
   ]
  },
  {
   "cell_type": "code",
   "execution_count": 15,
   "id": "3d08b9b8-4e65-4982-98cd-13618030a359",
   "metadata": {
    "tags": []
   },
   "outputs": [],
   "source": [
    "pca_fit3 = decomposition.PCA(n_components=3).fit(var.bb.data)"
   ]
  },
  {
   "cell_type": "code",
   "execution_count": 16,
   "id": "c4889efe-95a0-4d00-b9ad-a72f7f3ab1d0",
   "metadata": {
    "tags": []
   },
   "outputs": [
    {
     "data": {
      "text/plain": [
       "array([9.8703897e-01, 1.2405830e-02, 3.7599413e-04], dtype=float32)"
      ]
     },
     "execution_count": 16,
     "metadata": {},
     "output_type": "execute_result"
    }
   ],
   "source": [
    "pca_fit3.explained_variance_ratio_"
   ]
  },
  {
   "cell_type": "code",
   "execution_count": 34,
   "id": "d2da5ac4-cb95-4c97-ae49-9d84d02e8d58",
   "metadata": {
    "tags": []
   },
   "outputs": [
    {
     "data": {
      "text/plain": [
       "(81,)"
      ]
     },
     "execution_count": 34,
     "metadata": {},
     "output_type": "execute_result"
    }
   ],
   "source": [
    "pca_fit3.mean_.shape"
   ]
  },
  {
   "cell_type": "markdown",
   "id": "0f38985e-b163-42fa-83f4-00610b89c210",
   "metadata": {},
   "source": [
    "## Eigenvectors"
   ]
  },
  {
   "cell_type": "code",
   "execution_count": 17,
   "id": "e0f9418f-0440-4fa6-b6e2-16f9692b65a4",
   "metadata": {
    "tags": []
   },
   "outputs": [],
   "source": [
    "M3 = pca_fit3.components_"
   ]
  },
  {
   "cell_type": "code",
   "execution_count": 33,
   "id": "89dd563f-a3df-4c31-ada4-73b48a89ffba",
   "metadata": {
    "tags": []
   },
   "outputs": [
    {
     "data": {
      "text/plain": [
       "(3, 81)"
      ]
     },
     "execution_count": 33,
     "metadata": {},
     "output_type": "execute_result"
    }
   ],
   "source": [
    "M3.shape"
   ]
  },
  {
   "cell_type": "code",
   "execution_count": 18,
   "id": "2e34eb41-1322-46ca-828a-b06b3ae60121",
   "metadata": {
    "tags": []
   },
   "outputs": [
    {
     "data": {
      "image/png": "[encoded data removed]",
      "text/plain": [
       "<Figure size 640x480 with 1 Axes>"
      ]
     },
     "metadata": {},
     "output_type": "display_data"
    }
   ],
   "source": [
    "plt.clf()\n",
    "ax = plt.gca()\n",
    "ax.plot(var.Lambda,M3[0], label=r'$\\xi_0$')\n",
    "ax.plot(var.Lambda,M3[1], label=r'$\\xi_1$')\n",
    "ax.plot(var.Lambda,M3[2], label=r'$\\xi_2$')\n",
    "#\n",
    "ax.set_xlabel('Wavelength')\n",
    "ax.set_ylabel('Flux')\n",
    "#\n",
    "ax.legend()\n",
    "#\n",
    "plt.show()"
   ]
  },
  {
   "cell_type": "markdown",
   "id": "b05c386d-db7b-4173-a2cb-bb9004db7d21",
   "metadata": {},
   "source": [
    "## Explore the coefficients"
   ]
  },
  {
   "cell_type": "code",
   "execution_count": 19,
   "id": "767d44bc-5315-4a60-a045-3a30b5b06451",
   "metadata": {
    "tags": []
   },
   "outputs": [],
   "source": [
    "pca_projected3 = pca_fit3.fit_transform(var.bb.data)"
   ]
  },
  {
   "cell_type": "code",
   "execution_count": 20,
   "id": "4b8cded7-0db5-4acb-9067-d45811b3383a",
   "metadata": {
    "tags": []
   },
   "outputs": [
    {
     "data": {
      "image/png": "[encoded data removed]",
      "text/plain": [
       "<Figure size 640x480 with 1 Axes>"
      ]
     },
     "metadata": {},
     "output_type": "display_data"
    }
   ],
   "source": [
    "plt.clf()\n",
    "ax=plt.gca()\n",
    "ax.scatter(pca_projected3[:,0], pca_projected3[:,1], alpha=0.5, s=1)\n",
    "#\n",
    "plt.show()"
   ]
  },
  {
   "cell_type": "markdown",
   "id": "9391e9ff-8e60-400c-8cb0-bc3b3ad5afb1",
   "metadata": {},
   "source": [
    "## Reconstruct"
   ]
  },
  {
   "cell_type": "code",
   "execution_count": 21,
   "id": "0cd9421e-b99b-4b57-a5aa-a81932b2b1ec",
   "metadata": {
    "tags": []
   },
   "outputs": [
    {
     "data": {
      "text/plain": [
       "array([[ 0.01184292,  0.00025728, -0.00012045]], dtype=float32)"
      ]
     },
     "execution_count": 21,
     "metadata": {},
     "output_type": "execute_result"
    }
   ],
   "source": [
    "ytmp = pca_fit3.transform(var.bb.data[10:11,:])\n",
    "ytmp"
   ]
  },
  {
   "cell_type": "code",
   "execution_count": 22,
   "id": "5b061f77-e434-49d7-b874-44b9442f9b4f",
   "metadata": {
    "tags": []
   },
   "outputs": [
    {
     "data": {
      "text/plain": [
       "(1, 81)"
      ]
     },
     "execution_count": 22,
     "metadata": {},
     "output_type": "execute_result"
    }
   ],
   "source": [
    "bb_recont = np.dot(ytmp, M3) + mean_spec\n",
    "bb_recont.shape"
   ]
  },
  {
   "cell_type": "code",
   "execution_count": 23,
   "id": "65013575-920e-4008-b227-923383e06a45",
   "metadata": {
    "tags": []
   },
   "outputs": [],
   "source": [
    "Y3 = pca_fit3.transform(var.bb.data)"
   ]
  },
  {
   "cell_type": "code",
   "execution_count": 24,
   "id": "fc8e5937-140b-4ccd-bcb0-9992e65ccd36",
   "metadata": {
    "tags": []
   },
   "outputs": [],
   "source": [
    "bb_recon3 = np.dot(Y3, M3) + mean_spec"
   ]
  },
  {
   "cell_type": "code",
   "execution_count": 25,
   "id": "fed231c6-841f-4988-8051-e6439ed894a4",
   "metadata": {
    "tags": []
   },
   "outputs": [
    {
     "data": {
      "image/png": "[encoded data removed]",
      "text/plain": [
       "<Figure size 640x480 with 1 Axes>"
      ]
     },
     "metadata": {},
     "output_type": "display_data"
    }
   ],
   "source": [
    "idx = 0\n",
    "plt.clf()\n",
    "ax = plt.gca()\n",
    "#\n",
    "ax.plot(var.Lambda, var.bb.data[idx] - bb_recon3[idx])#, label='Real')\n",
    "#ax.plot(var.Lambda, a_recon3[idx], label='Model')\n",
    "#\n",
    "#\n",
    "ax.set_xlabel('Wavelength (nm)')\n",
    "ax.set_ylabel(r'$\\Delta \\, b - b_{\\rm PCA}$')\n",
    "plt.show()"
   ]
  },
  {
   "cell_type": "markdown",
   "id": "616d14a0-044b-41d3-ae38-74e54492b1ac",
   "metadata": {},
   "source": [
    "## RMS"
   ]
  },
  {
   "cell_type": "code",
   "execution_count": 26,
   "id": "ecbf2243-b065-48d9-860d-d06f88a7d135",
   "metadata": {
    "tags": []
   },
   "outputs": [
    {
     "data": {
      "text/plain": [
       "1.4611004e-05"
      ]
     },
     "execution_count": 26,
     "metadata": {},
     "output_type": "execute_result"
    }
   ],
   "source": [
    "rms = np.sqrt(np.mean((var.bb.data - bb_recon3)**2))\n",
    "rms"
   ]
  },
  {
   "cell_type": "code",
   "execution_count": 27,
   "id": "ddab8213-609b-4147-aac1-56b942fa68f8",
   "metadata": {
    "tags": []
   },
   "outputs": [
    {
     "data": {
      "text/plain": [
       "0.00034163933"
      ]
     },
     "execution_count": 27,
     "metadata": {},
     "output_type": "execute_result"
    }
   ],
   "source": [
    "all_rms = np.sqrt(np.mean((var.bb.data - bb_recon3)**2, axis=1))\n",
    "np.max(all_rms)"
   ]
  },
  {
   "cell_type": "code",
   "execution_count": 28,
   "id": "5179b838-a98b-4b5c-aea0-40b693050e01",
   "metadata": {
    "tags": []
   },
   "outputs": [],
   "source": [
    "imax = np.argmax(all_rms)"
   ]
  },
  {
   "cell_type": "code",
   "execution_count": 29,
   "id": "daa9004e-c1e6-46a2-8875-03ea7df51a1d",
   "metadata": {
    "tags": []
   },
   "outputs": [
    {
     "data": {
      "image/png": "[encoded data removed]",
      "text/plain": [
       "<Figure size 640x480 with 1 Axes>"
      ]
     },
     "metadata": {},
     "output_type": "display_data"
    }
   ],
   "source": [
    "idx = imax\n",
    "plt.clf()\n",
    "ax = plt.gca()\n",
    "#\n",
    "ax.plot(var.Lambda, var.bb.data[idx], label='Real')\n",
    "ax.plot(var.Lambda, bb_recon3[idx], label='Model')\n",
    "#\n",
    "#\n",
    "ax.set_xlabel('Wavelength (nm)')\n",
    "ax.set_ylabel('b')\n",
    "#\n",
    "ax.legend()\n",
    "plt.show()"
   ]
  },
  {
   "cell_type": "code",
   "execution_count": 30,
   "id": "cc294720-476f-4275-bed8-e06c98c6653a",
   "metadata": {
    "tags": []
   },
   "outputs": [
    {
     "data": {
      "text/plain": [
       "2949"
      ]
     },
     "execution_count": 30,
     "metadata": {},
     "output_type": "execute_result"
    }
   ],
   "source": [
    "imax"
   ]
  },
  {
   "cell_type": "markdown",
   "id": "1ec848e9-3072-4572-a9fe-40077007a971",
   "metadata": {},
   "source": [
    "## Properties of the \"outlier\""
   ]
  },
  {
   "cell_type": "code",
   "execution_count": 31,
   "id": "f800a6f5-c9af-4349-83ad-98df720420cd",
   "metadata": {
    "tags": []
   },
   "outputs": [
    {
     "name": "stdout",
     "output_type": "stream",
     "text": [
      "a = 2.0689001083374023\n",
      "anw = 2.061800003051758\n",
      "aph = 0.36484000086784363\n",
      "ag = 1.2704999446868896\n",
      "b = 0.8513699769973755\n",
      "bb = 0.021028999239206314\n",
      "bbph = 0.0\n",
      "bbd = 0.015111999586224556\n"
     ]
    }
   ],
   "source": [
    "for property in ['a', 'anw', 'aph', 'ag', 'b', 'bb', 'bbph', 'bbd']:\n",
    "    print(f'{property} = {var[property].data[imax,0]}')"
   ]
  },
  {
   "cell_type": "code",
   "execution_count": 32,
   "id": "c430c042-9519-4b1b-b722-5c7d33581455",
   "metadata": {
    "tags": []
   },
   "outputs": [
    {
     "data": {
      "text/html": [
       "<div><svg style=\"position: absolute; width: 0; height: 0; overflow: hidden\">\n",
       "<defs>\n",
       "<symbol id=\"icon-database\" viewBox=\"0 0 32 32\">\n",
       "<path d=\"M16 0c-8.837 0-16 2.239-16 5v4c0 2.761 7.163 5 16 5s16-2.239 16-5v-4c0-2.761-7.163-5-16-5z\"></path>\n",
       "<path d=\"M16 17c-8.837 0-16-2.239-16-5v6c0 2.761 7.163 5 16 5s16-2.239 16-5v-6c0 2.761-7.163 5-16 5z\"></path>\n",
       "<path d=\"M16 26c-8.837 0-16-2.239-16-5v6c0 2.761 7.163 5 16 5s16-2.239 16-5v-6c0 2.761-7.163 5-16 5z\"></path>\n",
       "</symbol>\n",
       "<symbol id=\"icon-file-text2\" viewBox=\"0 0 32 32\">\n",
       "<path d=\"M28.681 7.159c-0.694-0.947-1.662-2.053-2.724-3.116s-2.169-2.030-3.116-2.724c-1.612-1.182-2.393-1.319-2.841-1.319h-15.5c-1.378 0-2.5 1.121-2.5 2.5v27c0 1.378 1.122 2.5 2.5 2.5h23c1.378 0 2.5-1.122 2.5-2.5v-19.5c0-0.448-0.137-1.23-1.319-2.841zM24.543 5.457c0.959 0.959 1.712 1.825 2.268 2.543h-4.811v-4.811c0.718 0.556 1.584 1.309 2.543 2.268zM28 29.5c0 0.271-0.229 0.5-0.5 0.5h-23c-0.271 0-0.5-0.229-0.5-0.5v-27c0-0.271 0.229-0.5 0.5-0.5 0 0 15.499-0 15.5 0v7c0 0.552 0.448 1 1 1h7v19.5z\"></path>\n",
       "<path d=\"M23 26h-14c-0.552 0-1-0.448-1-1s0.448-1 1-1h14c0.552 0 1 0.448 1 1s-0.448 1-1 1z\"></path>\n",
       "<path d=\"M23 22h-14c-0.552 0-1-0.448-1-1s0.448-1 1-1h14c0.552 0 1 0.448 1 1s-0.448 1-1 1z\"></path>\n",
       "<path d=\"M23 18h-14c-0.552 0-1-0.448-1-1s0.448-1 1-1h14c0.552 0 1 0.448 1 1s-0.448 1-1 1z\"></path>\n",
       "</symbol>\n",
       "</defs>\n",
       "</svg>\n",
       "<style>/* CSS stylesheet for displaying xarray objects in jupyterlab.\n",
       " *\n",
       " */\n",
       "\n",
       ":root {\n",
       "  --xr-font-color0: var(--jp-content-font-color0, rgba(0, 0, 0, 1));\n",
       "  --xr-font-color2: var(--jp-content-font-color2, rgba(0, 0, 0, 0.54));\n",
       "  --xr-font-color3: var(--jp-content-font-color3, rgba(0, 0, 0, 0.38));\n",
       "  --xr-border-color: var(--jp-border-color2, #e0e0e0);\n",
       "  --xr-disabled-color: var(--jp-layout-color3, #bdbdbd);\n",
       "  --xr-background-color: var(--jp-layout-color0, white);\n",
       "  --xr-background-color-row-even: var(--jp-layout-color1, white);\n",
       "  --xr-background-color-row-odd: var(--jp-layout-color2, #eeeeee);\n",
       "}\n",
       "\n",
       "html[theme=dark],\n",
       "body[data-theme=dark],\n",
       "body.vscode-dark {\n",
       "  --xr-font-color0: rgba(255, 255, 255, 1);\n",
       "  --xr-font-color2: rgba(255, 255, 255, 0.54);\n",
       "  --xr-font-color3: rgba(255, 255, 255, 0.38);\n",
       "  --xr-border-color: #1F1F1F;\n",
       "  --xr-disabled-color: #515151;\n",
       "  --xr-background-color: #111111;\n",
       "  --xr-background-color-row-even: #111111;\n",
       "  --xr-background-color-row-odd: #313131;\n",
       "}\n",
       "\n",
       ".xr-wrap {\n",
       "  display: block !important;\n",
       "  min-width: 300px;\n",
       "  max-width: 700px;\n",
       "}\n",
       "\n",
       ".xr-text-repr-fallback {\n",
       "  /* fallback to plain text repr when CSS is not injected (untrusted notebook) */\n",
       "  display: none;\n",
       "}\n",
       "\n",
       ".xr-header {\n",
       "  padding-top: 6px;\n",
       "  padding-bottom: 6px;\n",
       "  margin-bottom: 4px;\n",
       "  border-bottom: solid 1px var(--xr-border-color);\n",
       "}\n",
       "\n",
       ".xr-header > div,\n",
       ".xr-header > ul {\n",
       "  display: inline;\n",
       "  margin-top: 0;\n",
       "  margin-bottom: 0;\n",
       "}\n",
       "\n",
       ".xr-obj-type,\n",
       ".xr-array-name {\n",
       "  margin-left: 2px;\n",
       "  margin-right: 10px;\n",
       "}\n",
       "\n",
       ".xr-obj-type {\n",
       "  color: var(--xr-font-color2);\n",
       "}\n",
       "\n",
       ".xr-sections {\n",
       "  padding-left: 0 !important;\n",
       "  display: grid;\n",
       "  grid-template-columns: 150px auto auto 1fr 20px 20px;\n",
       "}\n",
       "\n",
       ".xr-section-item {\n",
       "  display: contents;\n",
       "}\n",
       "\n",
       ".xr-section-item input {\n",
       "  display: none;\n",
       "}\n",
       "\n",
       ".xr-section-item input + label {\n",
       "  color: var(--xr-disabled-color);\n",
       "}\n",
       "\n",
       ".xr-section-item input:enabled + label {\n",
       "  cursor: pointer;\n",
       "  color: var(--xr-font-color2);\n",
       "}\n",
       "\n",
       ".xr-section-item input:enabled + label:hover {\n",
       "  color: var(--xr-font-color0);\n",
       "}\n",
       "\n",
       ".xr-section-summary {\n",
       "  grid-column: 1;\n",
       "  color: var(--xr-font-color2);\n",
       "  font-weight: 500;\n",
       "}\n",
       "\n",
       ".xr-section-summary > span {\n",
       "  display: inline-block;\n",
       "  padding-left: 0.5em;\n",
       "}\n",
       "\n",
       ".xr-section-summary-in:disabled + label {\n",
       "  color: var(--xr-font-color2);\n",
       "}\n",
       "\n",
       ".xr-section-summary-in + label:before {\n",
       "  display: inline-block;\n",
       "  content: '►';\n",
       "  font-size: 11px;\n",
       "  width: 15px;\n",
       "  text-align: center;\n",
       "}\n",
       "\n",
       ".xr-section-summary-in:disabled + label:before {\n",
       "  color: var(--xr-disabled-color);\n",
       "}\n",
       "\n",
       ".xr-section-summary-in:checked + label:before {\n",
       "  content: '▼';\n",
       "}\n",
       "\n",
       ".xr-section-summary-in:checked + label > span {\n",
       "  display: none;\n",
       "}\n",
       "\n",
       ".xr-section-summary,\n",
       ".xr-section-inline-details {\n",
       "  padding-top: 4px;\n",
       "  padding-bottom: 4px;\n",
       "}\n",
       "\n",
       ".xr-section-inline-details {\n",
       "  grid-column: 2 / -1;\n",
       "}\n",
       "\n",
       ".xr-section-details {\n",
       "  display: none;\n",
       "  grid-column: 1 / -1;\n",
       "  margin-bottom: 5px;\n",
       "}\n",
       "\n",
       ".xr-section-summary-in:checked ~ .xr-section-details {\n",
       "  display: contents;\n",
       "}\n",
       "\n",
       ".xr-array-wrap {\n",
       "  grid-column: 1 / -1;\n",
       "  display: grid;\n",
       "  grid-template-columns: 20px auto;\n",
       "}\n",
       "\n",
       ".xr-array-wrap > label {\n",
       "  grid-column: 1;\n",
       "  vertical-align: top;\n",
       "}\n",
       "\n",
       ".xr-preview {\n",
       "  color: var(--xr-font-color3);\n",
       "}\n",
       "\n",
       ".xr-array-preview,\n",
       ".xr-array-data {\n",
       "  padding: 0 5px !important;\n",
       "  grid-column: 2;\n",
       "}\n",
       "\n",
       ".xr-array-data,\n",
       ".xr-array-in:checked ~ .xr-array-preview {\n",
       "  display: none;\n",
       "}\n",
       "\n",
       ".xr-array-in:checked ~ .xr-array-data,\n",
       ".xr-array-preview {\n",
       "  display: inline-block;\n",
       "}\n",
       "\n",
       ".xr-dim-list {\n",
       "  display: inline-block !important;\n",
       "  list-style: none;\n",
       "  padding: 0 !important;\n",
       "  margin: 0;\n",
       "}\n",
       "\n",
       ".xr-dim-list li {\n",
       "  display: inline-block;\n",
       "  padding: 0;\n",
       "  margin: 0;\n",
       "}\n",
       "\n",
       ".xr-dim-list:before {\n",
       "  content: '(';\n",
       "}\n",
       "\n",
       ".xr-dim-list:after {\n",
       "  content: ')';\n",
       "}\n",
       "\n",
       ".xr-dim-list li:not(:last-child):after {\n",
       "  content: ',';\n",
       "  padding-right: 5px;\n",
       "}\n",
       "\n",
       ".xr-has-index {\n",
       "  font-weight: bold;\n",
       "}\n",
       "\n",
       ".xr-var-list,\n",
       ".xr-var-item {\n",
       "  display: contents;\n",
       "}\n",
       "\n",
       ".xr-var-item > div,\n",
       ".xr-var-item label,\n",
       ".xr-var-item > .xr-var-name span {\n",
       "  background-color: var(--xr-background-color-row-even);\n",
       "  margin-bottom: 0;\n",
       "}\n",
       "\n",
       ".xr-var-item > .xr-var-name:hover span {\n",
       "  padding-right: 5px;\n",
       "}\n",
       "\n",
       ".xr-var-list > li:nth-child(odd) > div,\n",
       ".xr-var-list > li:nth-child(odd) > label,\n",
       ".xr-var-list > li:nth-child(odd) > .xr-var-name span {\n",
       "  background-color: var(--xr-background-color-row-odd);\n",
       "}\n",
       "\n",
       ".xr-var-name {\n",
       "  grid-column: 1;\n",
       "}\n",
       "\n",
       ".xr-var-dims {\n",
       "  grid-column: 2;\n",
       "}\n",
       "\n",
       ".xr-var-dtype {\n",
       "  grid-column: 3;\n",
       "  text-align: right;\n",
       "  color: var(--xr-font-color2);\n",
       "}\n",
       "\n",
       ".xr-var-preview {\n",
       "  grid-column: 4;\n",
       "}\n",
       "\n",
       ".xr-index-preview {\n",
       "  grid-column: 2 / 5;\n",
       "  color: var(--xr-font-color2);\n",
       "}\n",
       "\n",
       ".xr-var-name,\n",
       ".xr-var-dims,\n",
       ".xr-var-dtype,\n",
       ".xr-preview,\n",
       ".xr-attrs dt {\n",
       "  white-space: nowrap;\n",
       "  overflow: hidden;\n",
       "  text-overflow: ellipsis;\n",
       "  padding-right: 10px;\n",
       "}\n",
       "\n",
       ".xr-var-name:hover,\n",
       ".xr-var-dims:hover,\n",
       ".xr-var-dtype:hover,\n",
       ".xr-attrs dt:hover {\n",
       "  overflow: visible;\n",
       "  width: auto;\n",
       "  z-index: 1;\n",
       "}\n",
       "\n",
       ".xr-var-attrs,\n",
       ".xr-var-data,\n",
       ".xr-index-data {\n",
       "  display: none;\n",
       "  background-color: var(--xr-background-color) !important;\n",
       "  padding-bottom: 5px !important;\n",
       "}\n",
       "\n",
       ".xr-var-attrs-in:checked ~ .xr-var-attrs,\n",
       ".xr-var-data-in:checked ~ .xr-var-data,\n",
       ".xr-index-data-in:checked ~ .xr-index-data {\n",
       "  display: block;\n",
       "}\n",
       "\n",
       ".xr-var-data > table {\n",
       "  float: right;\n",
       "}\n",
       "\n",
       ".xr-var-name span,\n",
       ".xr-var-data,\n",
       ".xr-index-name div,\n",
       ".xr-index-data,\n",
       ".xr-attrs {\n",
       "  padding-left: 25px !important;\n",
       "}\n",
       "\n",
       ".xr-attrs,\n",
       ".xr-var-attrs,\n",
       ".xr-var-data,\n",
       ".xr-index-data {\n",
       "  grid-column: 1 / -1;\n",
       "}\n",
       "\n",
       "dl.xr-attrs {\n",
       "  padding: 0;\n",
       "  margin: 0;\n",
       "  display: grid;\n",
       "  grid-template-columns: 125px auto;\n",
       "}\n",
       "\n",
       ".xr-attrs dt,\n",
       ".xr-attrs dd {\n",
       "  padding: 0;\n",
       "  margin: 0;\n",
       "  float: left;\n",
       "  padding-right: 10px;\n",
       "  width: auto;\n",
       "}\n",
       "\n",
       ".xr-attrs dt {\n",
       "  font-weight: normal;\n",
       "  grid-column: 1;\n",
       "}\n",
       "\n",
       ".xr-attrs dt:hover span {\n",
       "  display: inline-block;\n",
       "  background: var(--xr-background-color);\n",
       "  padding-right: 10px;\n",
       "}\n",
       "\n",
       ".xr-attrs dd {\n",
       "  grid-column: 2;\n",
       "  white-space: pre-wrap;\n",
       "  word-break: break-all;\n",
       "}\n",
       "\n",
       ".xr-icon-database,\n",
       ".xr-icon-file-text2,\n",
       ".xr-no-icon {\n",
       "  display: inline-block;\n",
       "  vertical-align: middle;\n",
       "  width: 1em;\n",
       "  height: 1.5em !important;\n",
       "  stroke-width: 0;\n",
       "  stroke: currentColor;\n",
       "  fill: currentColor;\n",
       "}\n",
       "</style><pre class='xr-text-repr-fallback'>&lt;xarray.DataArray &#x27;b&#x27; ()&gt;\n",
       "array(0.98834997)\n",
       "Coordinates:\n",
       "    Lambda   float32 350.0</pre><div class='xr-wrap' style='display:none'><div class='xr-header'><div class='xr-obj-type'>xarray.DataArray</div><div class='xr-array-name'>'b'</div></div><ul class='xr-sections'><li class='xr-section-item'><div class='xr-array-wrap'><input id='section-e7ac16fb-dccd-4cbb-a877-6175b055670f' class='xr-array-in' type='checkbox' checked><label for='section-e7ac16fb-dccd-4cbb-a877-6175b055670f' title='Show/hide data repr'><svg class='icon xr-icon-database'><use xlink:href='#icon-database'></use></svg></label><div class='xr-array-preview xr-preview'><span>0.9883</span></div><div class='xr-array-data'><pre>array(0.98834997)</pre></div></div></li><li class='xr-section-item'><input id='section-01d3263f-5733-438b-a947-a601ca356184' class='xr-section-summary-in' type='checkbox'  checked><label for='section-01d3263f-5733-438b-a947-a601ca356184' class='xr-section-summary' >Coordinates: <span>(1)</span></label><div class='xr-section-inline-details'></div><div class='xr-section-details'><ul class='xr-var-list'><li class='xr-var-item'><div class='xr-var-name'><span>Lambda</span></div><div class='xr-var-dims'>()</div><div class='xr-var-dtype'>float32</div><div class='xr-var-preview xr-preview'>350.0</div><input id='attrs-013e0724-6179-4b73-9b64-c354a18fb53f' class='xr-var-attrs-in' type='checkbox' disabled><label for='attrs-013e0724-6179-4b73-9b64-c354a18fb53f' title='Show/Hide attributes'><svg class='icon xr-icon-file-text2'><use xlink:href='#icon-file-text2'></use></svg></label><input id='data-9bf62788-9f42-43d5-9d87-79a35becb902' class='xr-var-data-in' type='checkbox'><label for='data-9bf62788-9f42-43d5-9d87-79a35becb902' title='Show/Hide data repr'><svg class='icon xr-icon-database'><use xlink:href='#icon-database'></use></svg></label><div class='xr-var-attrs'><dl class='xr-attrs'></dl></div><div class='xr-var-data'><pre>array(350., dtype=float32)</pre></div></li></ul></div></li><li class='xr-section-item'><input id='section-3ced64ce-aa03-4f55-9cdd-6ddfbd6cce0a' class='xr-section-summary-in' type='checkbox' disabled ><label for='section-3ced64ce-aa03-4f55-9cdd-6ddfbd6cce0a' class='xr-section-summary'  title='Expand/collapse section'>Indexes: <span>(0)</span></label><div class='xr-section-inline-details'></div><div class='xr-section-details'><ul class='xr-var-list'></ul></div></li><li class='xr-section-item'><input id='section-f6245488-6873-4d3f-b58d-bd9d837ce0e2' class='xr-section-summary-in' type='checkbox' disabled ><label for='section-f6245488-6873-4d3f-b58d-bd9d837ce0e2' class='xr-section-summary'  title='Expand/collapse section'>Attributes: <span>(0)</span></label><div class='xr-section-inline-details'></div><div class='xr-section-details'><dl class='xr-attrs'></dl></div></li></ul></div></div>"
      ],
      "text/plain": [
       "<xarray.DataArray 'b' ()>\n",
       "array(0.98834997)\n",
       "Coordinates:\n",
       "    Lambda   float32 350.0"
      ]
     },
     "execution_count": 32,
     "metadata": {},
     "output_type": "execute_result"
    }
   ],
   "source": [
    "np.max(var.b[:,0])"
   ]
  }
 ],
 "metadata": {
  "kernelspec": {
   "display_name": "Python 3 (ipykernel)",
   "language": "python",
   "name": "python3"
  },
  "language_info": {
   "codemirror_mode": {
    "name": "ipython",
    "version": 3
   },
   "file_extension": ".py",
   "mimetype": "text/x-python",
   "name": "python",
   "nbconvert_exporter": "python",
   "pygments_lexer": "ipython3",
   "version": "3.10.11"
  }
 },
 "nbformat": 4,
 "nbformat_minor": 5
}
