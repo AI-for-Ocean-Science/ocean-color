{
 "cells": [
  {
   "cell_type": "markdown",
   "id": "b383782f-3362-44b8-9778-34997609e952",
   "metadata": {},
   "source": [
    "# GLORIA OOD"
   ]
  },
  {
   "cell_type": "code",
   "execution_count": null,
   "id": "3776211c-0db4-41f2-a382-ec5818265e46",
   "metadata": {},
   "outputs": [],
   "source": [
    "# imports\n"
   ]
  }
 ],
 "metadata": {
  "kernelspec": {
   "display_name": "Python 3 (ipykernel)",
   "language": "python",
   "name": "python3"
  },
  "language_info": {
   "codemirror_mode": {
    "name": "ipython",
    "version": 3
   },
   "file_extension": ".py",
   "mimetype": "text/x-python",
   "name": "python",
   "nbconvert_exporter": "python",
   "pygments_lexer": "ipython3",
   "version": "3.11.6"
  }
 },
 "nbformat": 4,
 "nbformat_minor": 5
}
