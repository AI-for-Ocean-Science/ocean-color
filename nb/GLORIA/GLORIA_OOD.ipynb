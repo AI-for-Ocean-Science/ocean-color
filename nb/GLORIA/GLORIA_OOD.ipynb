{
 "cells": [
  {
   "cell_type": "markdown",
   "id": "b383782f-3362-44b8-9778-34997609e952",
   "metadata": {},
   "source": [
    "# GLORIA OOD"
   ]
  },
  {
   "cell_type": "code",
   "execution_count": 7,
   "id": "3776211c-0db4-41f2-a382-ec5818265e46",
   "metadata": {},
   "outputs": [],
   "source": [
    "# imports\n",
    "import numpy as np\n",
    "from importlib import reload\n",
    "\n",
    "import matplotlib.pyplot as plt\n",
    "import matplotlib.gridspec as gridspec\n",
    "\n",
    "from datetime import datetime, time\n",
    "import random \n",
    "\n",
    "import pandas\n",
    "import seaborn as sns\n",
    "\n",
    "from scipy.spatial import Delaunay\n",
    "\n",
    "from oceancolor.hydrolight import loisel23\n",
    "from oceancolor.insitu import gloria\n",
    "from oceancolor.utils import spectra"
   ]
  },
  {
   "cell_type": "code",
   "execution_count": 2,
   "id": "5189705c-d311-443a-bb71-d6b8f2f5fc28",
   "metadata": {},
   "outputs": [],
   "source": [
    "%matplotlib ipympl"
   ]
  },
  {
   "cell_type": "markdown",
   "id": "a03238c5-2a22-4b42-a5e3-a776342bf5ec",
   "metadata": {},
   "source": [
    "# Load up"
   ]
  },
  {
   "cell_type": "markdown",
   "id": "1d874898-8f8e-47e0-a244-0e79e34854dd",
   "metadata": {},
   "source": [
    "## GLORIA"
   ]
  },
  {
   "cell_type": "code",
   "execution_count": 3,
   "id": "bd215810-844d-4c18-a159-f099119d1803",
   "metadata": {},
   "outputs": [
    {
     "name": "stdout",
     "output_type": "stream",
     "text": [
      "Loading GLORIA dataset...\n"
     ]
    }
   ],
   "source": [
    "reload(gloria)\n",
    "df_meta, df_Rrs, df_Rrs_std, df_qc_flags = gloria.load_gloria()"
   ]
  },
  {
   "cell_type": "code",
   "execution_count": 4,
   "id": "fb52d729-c7be-4b83-9b37-1daa992ecd4f",
   "metadata": {},
   "outputs": [],
   "source": [
    "gloria_wv, gloria_Rrs, _ = gloria.parse_table(df_Rrs, 'Rrs')\n",
    "_, gloria_Rrs_std, _ = gloria.parse_table(df_Rrs_std, 'Rrs_std')"
   ]
  },
  {
   "cell_type": "markdown",
   "id": "fcc75a72-8f56-4fb2-99b3-4d16754d6af8",
   "metadata": {},
   "source": [
    "## L23"
   ]
  },
  {
   "cell_type": "code",
   "execution_count": 5,
   "id": "e841871e-84bc-42e7-9dcd-2e9c615a2f9b",
   "metadata": {},
   "outputs": [],
   "source": [
    "X,Y = 4,0\n",
    "l23_ds = loisel23.load_ds(X, Y)\n",
    "\n",
    "# Wavelengths, restricted to > 400 nm\n",
    "#cut = (l23_ds.Lambda > min_wv) & (l23_ds.Lambda < high_cut)\n",
    "l23_a = l23_ds.a.data[:]\n",
    "l23_wave = l23_ds.Lambda.data\n",
    "\n",
    "l23_Rs = l23_ds.Rrs.data[:]"
   ]
  },
  {
   "cell_type": "markdown",
   "id": "708d79d0-7a03-4c5b-a8e7-66134f671094",
   "metadata": {},
   "source": [
    "# Rebin/cut GLORIA to L23"
   ]
  },
  {
   "cell_type": "code",
   "execution_count": 6,
   "id": "7a7efcec-4a8f-47c0-a49f-ea066885b3f1",
   "metadata": {},
   "outputs": [
    {
     "name": "stderr",
     "output_type": "stream",
     "text": [
      "/home/xavier/Projects/Oceanography/python/ocean-color/oceancolor/utils/spectra.py:66: RuntimeWarning: invalid value encountered in divide\n",
      "  isum = np.nansum(values[gd]*mask[gd], axis=0) / mask_sum\n",
      "/home/xavier/Projects/Oceanography/python/ocean-color/oceancolor/utils/spectra.py:67: RuntimeWarning: invalid value encountered in divide\n",
      "  esum = np.nansum(err_vals[gd]*mask[gd], axis=0) / mask_sum\n"
     ]
    }
   ],
   "source": [
    "new_gloria_wv = np.append(l23_wave, [l23_wave.max()+5.]) - 2.5 # Because the rebinning is not interpolation\n",
    "#\n",
    "rwv_nm, gloria_rebin, gloria_rebin_sig = spectra.rebin_to_grid(gloria_wv, gloria_Rrs, gloria_Rrs_std, new_gloria_wv)"
   ]
  },
  {
   "cell_type": "code",
   "execution_count": 8,
   "id": "80e69c76-832f-4e32-9682-9eeb2addd92b",
   "metadata": {},
   "outputs": [
    {
     "data": {
      "text/plain": [
       "(3320, 81)"
      ]
     },
     "execution_count": 8,
     "metadata": {},
     "output_type": "execute_result"
    }
   ],
   "source": [
    "l23_Rs.shape"
   ]
  },
  {
   "cell_type": "markdown",
   "id": "f3a62714-6cc1-4108-a1aa-902c60276e3d",
   "metadata": {},
   "source": [
    "# Delaunay Hull"
   ]
  },
  {
   "cell_type": "markdown",
   "id": "d8a87fb2-08b6-4348-832d-7351986f8338",
   "metadata": {},
   "source": [
    "## Build the hull"
   ]
  },
  {
   "cell_type": "code",
   "execution_count": 9,
   "id": "3d2270bc-da5e-468b-9c0e-3163426605c8",
   "metadata": {},
   "outputs": [
    {
     "ename": "QhullError",
     "evalue": "QH6235 qhull error (qh_memalloc): negative request size (-1211282984).  Did int overflow due to high-D?\n\nWhile executing:  | qhull d Qc Qx Qt Qbb Qz Q12\nOptions selected for Qhull 2019.1.r 2019/06/21:\n  run-id 636390655  delaunay  Qcoplanar-keep  Qxact-merge  Qtriangulate\n  Qbbound-last  Qz-infinity-point  Q12-allow-wide  _zero-centrum\n  Qinterior-keep  Q3-no-merge-vertices-dim-high  Pgood  _max-width 0.029\n  Error-roundoff 4.9e-15  _one-merge 8.1e-13  Visible-distance 2.9e-14\n  U-max-coplanar 2.9e-14  Width-outside 5.9e-14  _wide-facet 1.8e-13\n  _maxoutside 8.1e-13\nLast point added to hull was p2117.\n\nAt error exit:\n\nDelaunay triangulation by the convex hull of 3321 points in 82-d:\n\n  Number of input sites and at-infinity: 87\n  Total number of nearly incident points: 3234\n  Number of Delaunay regions: 2479008\n\nStatistics for:  | qhull d Qc Qx Qt Qbb Qz Q12\n\n  Number of points processed: 86\n  Number of hyperplanes created: 293439\n  Number of facets in hull: 2526988\n  Number of distance tests for qhull: 318428\n\n\nprecision problems (corrected unless 'Q0' or an error)\n      1 nearly singular or axis-parallel hyperplanes\n",
     "output_type": "error",
     "traceback": [
      "\u001b[0;31m---------------------------------------------------------------------------\u001b[0m",
      "\u001b[0;31mQhullError\u001b[0m                                Traceback (most recent call last)",
      "Cell \u001b[0;32mIn[9], line 1\u001b[0m\n\u001b[0;32m----> 1\u001b[0m hull \u001b[38;5;241m=\u001b[39m \u001b[43mDelaunay\u001b[49m\u001b[43m(\u001b[49m\u001b[43ml23_Rs\u001b[49m\u001b[43m)\u001b[49m\n",
      "File \u001b[0;32m_qhull.pyx:1827\u001b[0m, in \u001b[0;36mscipy.spatial._qhull.Delaunay.__init__\u001b[0;34m()\u001b[0m\n",
      "File \u001b[0;32m_qhull.pyx:353\u001b[0m, in \u001b[0;36mscipy.spatial._qhull._Qhull.__init__\u001b[0;34m()\u001b[0m\n",
      "\u001b[0;31mQhullError\u001b[0m: QH6235 qhull error (qh_memalloc): negative request size (-1211282984).  Did int overflow due to high-D?\n\nWhile executing:  | qhull d Qc Qx Qt Qbb Qz Q12\nOptions selected for Qhull 2019.1.r 2019/06/21:\n  run-id 636390655  delaunay  Qcoplanar-keep  Qxact-merge  Qtriangulate\n  Qbbound-last  Qz-infinity-point  Q12-allow-wide  _zero-centrum\n  Qinterior-keep  Q3-no-merge-vertices-dim-high  Pgood  _max-width 0.029\n  Error-roundoff 4.9e-15  _one-merge 8.1e-13  Visible-distance 2.9e-14\n  U-max-coplanar 2.9e-14  Width-outside 5.9e-14  _wide-facet 1.8e-13\n  _maxoutside 8.1e-13\nLast point added to hull was p2117.\n\nAt error exit:\n\nDelaunay triangulation by the convex hull of 3321 points in 82-d:\n\n  Number of input sites and at-infinity: 87\n  Total number of nearly incident points: 3234\n  Number of Delaunay regions: 2479008\n\nStatistics for:  | qhull d Qc Qx Qt Qbb Qz Q12\n\n  Number of points processed: 86\n  Number of hyperplanes created: 293439\n  Number of facets in hull: 2526988\n  Number of distance tests for qhull: 318428\n\n\nprecision problems (corrected unless 'Q0' or an error)\n      1 nearly singular or axis-parallel hyperplanes\n"
     ]
    }
   ],
   "source": [
    "hull = Delaunay(l23_Rs)"
   ]
  },
  {
   "cell_type": "code",
   "execution_count": null,
   "id": "a30dc32d-682a-42ef-8332-6aa4546fcda0",
   "metadata": {},
   "outputs": [],
   "source": []
  }
 ],
 "metadata": {
  "kernelspec": {
   "display_name": "Python 3 (ipykernel)",
   "language": "python",
   "name": "python3"
  },
  "language_info": {
   "codemirror_mode": {
    "name": "ipython",
    "version": 3
   },
   "file_extension": ".py",
   "mimetype": "text/x-python",
   "name": "python",
   "nbconvert_exporter": "python",
   "pygments_lexer": "ipython3",
   "version": "3.11.6"
  }
 },
 "nbformat": 4,
 "nbformat_minor": 5
}
