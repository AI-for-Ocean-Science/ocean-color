{
 "cells": [
  {
   "cell_type": "markdown",
   "id": "c304fa96-1db6-431c-ae00-5bbd72fd9f17",
   "metadata": {},
   "source": [
    "# MCMC Fussing"
   ]
  },
  {
   "cell_type": "code",
   "execution_count": 16,
   "id": "a8f26921-1ed5-4d77-9657-48038de7cd4e",
   "metadata": {
    "tags": []
   },
   "outputs": [],
   "source": [
    "import os\n",
    "from importlib import resources\n",
    "\n",
    "import numpy as np\n",
    "\n",
    "import matplotlib.pyplot as plt\n",
    "\n",
    "import emcee\n",
    "\n",
    "import torch\n",
    "\n",
    "from oceancolor.remote.nn import SimpleNet\n",
    "from oceancolor.remote import io as remote_io"
   ]
  },
  {
   "cell_type": "code",
   "execution_count": 2,
   "id": "17aa27ea-753e-4439-a320-c25a7b702dd2",
   "metadata": {
    "tags": []
   },
   "outputs": [],
   "source": [
    "device = torch.device('cuda' if torch.cuda.is_available() else 'cpu')"
   ]
  },
  {
   "cell_type": "markdown",
   "id": "18553f8a-44b4-4b7f-b35f-32d43172568b",
   "metadata": {},
   "source": [
    "# Load data"
   ]
  },
  {
   "cell_type": "code",
   "execution_count": 3,
   "id": "575bedb2-75ba-489d-8826-2850503d8f71",
   "metadata": {
    "tags": []
   },
   "outputs": [],
   "source": [
    "ab, Rs = remote_io.load_loisel_2023_pca()"
   ]
  },
  {
   "cell_type": "markdown",
   "id": "7e9c454e-deea-424a-93e8-10ecf4ebbefe",
   "metadata": {},
   "source": [
    "# Load NN"
   ]
  },
  {
   "cell_type": "code",
   "execution_count": 37,
   "id": "31c09550-5aa0-47a4-83a4-b791e904a490",
   "metadata": {
    "tags": []
   },
   "outputs": [],
   "source": [
    "#model_file = os.path.join(resources.files('oceancolor'), 'remote', 'model_100.pth')\n",
    "model_file = os.path.join(resources.files('oceancolor'), 'remote', 'model_20000.pth')\n",
    "model = torch.load(model_file)"
   ]
  },
  {
   "cell_type": "code",
   "execution_count": 38,
   "id": "0dbc2aa3-34f2-4e21-9cec-845a90d1d2bc",
   "metadata": {
    "tags": []
   },
   "outputs": [
    {
     "data": {
      "text/plain": [
       "SimpleNet(\n",
       "  (fc1): Linear(in_features=6, out_features=128, bias=True)\n",
       "  (fc2): Linear(in_features=128, out_features=81, bias=True)\n",
       "  (fc2b): Linear(in_features=128, out_features=128, bias=True)\n",
       "  (fc3): Linear(in_features=128, out_features=81, bias=True)\n",
       ")"
      ]
     },
     "execution_count": 38,
     "metadata": {},
     "output_type": "execute_result"
    }
   ],
   "source": [
    "model"
   ]
  },
  {
   "cell_type": "code",
   "execution_count": 39,
   "id": "711e1e3c-b723-475f-8a81-b6fc0d9cd1d9",
   "metadata": {
    "tags": []
   },
   "outputs": [
    {
     "data": {
      "text/plain": [
       "(array([ 2.08096449e+00,  3.35454145e+00, -1.11057161e+00, -9.55170578e-08,\n",
       "        -7.59786187e-08, -1.97944187e-08]),\n",
       " array([0.2783498 , 0.26010558, 0.07432061, 0.73464354, 0.09643113,\n",
       "        0.01878721]))"
      ]
     },
     "execution_count": 39,
     "metadata": {},
     "output_type": "execute_result"
    }
   ],
   "source": [
    "model.ab_parm"
   ]
  },
  {
   "cell_type": "markdown",
   "id": "4a72c83c-5538-486e-a664-f02e0c75cc8c",
   "metadata": {},
   "source": [
    "# Probability"
   ]
  },
  {
   "cell_type": "code",
   "execution_count": 65,
   "id": "a90c1739-64a0-4127-b3f8-6d6b7fcf8d15",
   "metadata": {
    "tags": []
   },
   "outputs": [],
   "source": [
    "def log_prob(ab, Rs, model, device):\n",
    "    #ab_norm = (ab - model.ab_parm[0]) / model.ab_parm[1]\n",
    "    #pred = model.prediction(ab_norm, device)\n",
    "    pred = model.prediction(ab, device)\n",
    "    #\n",
    "    sig = 0.05 * Rs\n",
    "    #\n",
    "    return 0.5 * np.sum( (pred-Rs)**2 / sig**2)"
   ]
  },
  {
   "cell_type": "markdown",
   "id": "ccb82501-fda3-456f-8395-9ed16615cb39",
   "metadata": {},
   "source": [
    "# Random Walkers"
   ]
  },
  {
   "cell_type": "code",
   "execution_count": 41,
   "id": "44dfb7fb-b3d1-4c7b-bee4-7b78b3ff7efd",
   "metadata": {
    "tags": []
   },
   "outputs": [],
   "source": [
    "ndim = model.ninput\n",
    "nwalkers = 32\n",
    "p0 = np.random.rand(nwalkers, ndim)"
   ]
  },
  {
   "cell_type": "markdown",
   "id": "970c9a73-177e-4c3c-8a9d-1d60a7066333",
   "metadata": {},
   "source": [
    "# Target"
   ]
  },
  {
   "cell_type": "code",
   "execution_count": 42,
   "id": "bd363c8f-6496-4afe-b05a-6d03389a01ce",
   "metadata": {
    "tags": []
   },
   "outputs": [
    {
     "data": {
      "text/plain": [
       "array([2.9911e-03, 3.1619e-03, 3.3126e-03, 3.4136e-03, 3.5734e-03,\n",
       "       3.6922e-03, 3.7773e-03, 3.9994e-03, 4.0598e-03, 4.2426e-03,\n",
       "       4.1596e-03, 4.2443e-03, 4.3370e-03, 4.4459e-03, 4.5436e-03,\n",
       "       4.6101e-03, 4.6944e-03, 4.6518e-03, 4.5565e-03, 4.4649e-03,\n",
       "       4.3524e-03, 4.3817e-03, 4.4984e-03, 4.6112e-03, 4.6439e-03,\n",
       "       4.6186e-03, 4.4849e-03, 4.3980e-03, 4.2135e-03, 3.9199e-03,\n",
       "       3.6235e-03, 3.1635e-03, 2.6997e-03, 2.3472e-03, 2.2645e-03,\n",
       "       2.2066e-03, 2.1013e-03, 2.0034e-03, 1.8958e-03, 1.7414e-03,\n",
       "       1.5697e-03, 1.4651e-03, 1.3896e-03, 1.3167e-03, 1.1993e-03,\n",
       "       1.0574e-03, 8.9690e-04, 7.2372e-04, 5.9155e-04, 4.6866e-04,\n",
       "       3.4712e-04, 2.9184e-04, 2.7758e-04, 2.6786e-04, 2.5178e-04,\n",
       "       2.3948e-04, 2.2719e-04, 2.1523e-04, 2.0450e-04, 1.9285e-04,\n",
       "       1.8139e-04, 1.6482e-04, 1.4628e-04, 1.4112e-04, 1.4358e-04,\n",
       "       1.5056e-04, 1.5518e-04, 1.5736e-04, 1.4550e-04, 1.2064e-04,\n",
       "       9.6823e-05, 7.7407e-05, 6.1742e-05, 4.9557e-05, 4.0445e-05,\n",
       "       3.2650e-05, 2.4123e-05, 1.8205e-05, 1.6096e-05, 1.5427e-05,\n",
       "       1.5065e-05], dtype=float32)"
      ]
     },
     "execution_count": 42,
     "metadata": {},
     "output_type": "execute_result"
    }
   ],
   "source": [
    "idx = 200\n",
    "means = Rs[idx]\n",
    "means"
   ]
  },
  {
   "cell_type": "code",
   "execution_count": 56,
   "id": "70934711-344d-40b1-80f9-510bc8ad200f",
   "metadata": {
    "tags": []
   },
   "outputs": [
    {
     "data": {
      "text/plain": [
       "array([ 2.09002280e+00,  3.30304408e+00, -1.17998254e+00, -2.11087331e-01,\n",
       "        5.14956564e-03,  9.47382825e-04])"
      ]
     },
     "execution_count": 56,
     "metadata": {},
     "output_type": "execute_result"
    }
   ],
   "source": [
    "ab[idx]"
   ]
  },
  {
   "cell_type": "code",
   "execution_count": 66,
   "id": "dda62667-95e4-4644-b76a-ba1c8688ca51",
   "metadata": {
    "tags": []
   },
   "outputs": [],
   "source": [
    "sampler = emcee.EnsembleSampler(nwalkers, ndim, log_prob, args=[means, model, device])"
   ]
  },
  {
   "cell_type": "markdown",
   "id": "2e077da2-5aed-4fd3-887d-10a1dfccc0ce",
   "metadata": {},
   "source": [
    "# Burn in"
   ]
  },
  {
   "cell_type": "code",
   "execution_count": 67,
   "id": "524a9267-e093-4f82-9b43-937d967a98a9",
   "metadata": {
    "tags": []
   },
   "outputs": [],
   "source": [
    "state = sampler.run_mcmc(p0, 100)\n",
    "sampler.reset()"
   ]
  },
  {
   "cell_type": "code",
   "execution_count": 68,
   "id": "dab40c8a-e8e4-425a-9ed8-86476ae1feb5",
   "metadata": {
    "tags": []
   },
   "outputs": [
    {
     "data": {
      "text/plain": [
       "array([0.91106486, 0.29238987, 0.13402843, 0.13623739, 0.92272885,\n",
       "       0.53192527])"
      ]
     },
     "execution_count": 68,
     "metadata": {},
     "output_type": "execute_result"
    }
   ],
   "source": [
    "p0[0]"
   ]
  },
  {
   "cell_type": "markdown",
   "id": "55338c4c-cd65-49ae-9a36-c8f6a51736e9",
   "metadata": {},
   "source": [
    "# Run"
   ]
  },
  {
   "cell_type": "code",
   "execution_count": 69,
   "id": "d8b7cef8-8fe0-4b7f-89d6-a114653df818",
   "metadata": {
    "tags": []
   },
   "outputs": [
    {
     "name": "stderr",
     "output_type": "stream",
     "text": [
      "/tmp/ipykernel_968516/3182884355.py:8: RuntimeWarning: overflow encountered in divide\n",
      "  return 0.5 * np.sum( (pred-Rs)**2 / sig**2)\n"
     ]
    }
   ],
   "source": [
    "sampler.run_mcmc(state, 10000);"
   ]
  },
  {
   "cell_type": "code",
   "execution_count": 70,
   "id": "710c9869-32b8-4e1a-8829-e042b98a3717",
   "metadata": {
    "tags": []
   },
   "outputs": [],
   "source": [
    "samples = sampler.get_chain(flat=True)"
   ]
  },
  {
   "cell_type": "code",
   "execution_count": 71,
   "id": "b521867f-76fa-44c6-b726-4b771fa182eb",
   "metadata": {
    "tags": []
   },
   "outputs": [
    {
     "data": {
      "text/plain": [
       "(320000, 6)"
      ]
     },
     "execution_count": 71,
     "metadata": {},
     "output_type": "execute_result"
    }
   ],
   "source": [
    "samples.shape"
   ]
  },
  {
   "cell_type": "code",
   "execution_count": 78,
   "id": "c8b6a17c-00e5-4eb3-84ff-7be094d4292e",
   "metadata": {
    "tags": []
   },
   "outputs": [
    {
     "data": {
      "text/plain": [
       "array([ 4.17486374e+15, -2.65438210e+15,  5.91823870e+15,  2.29814365e+16,\n",
       "       -1.54161489e+16,  1.95807828e+16])"
      ]
     },
     "execution_count": 78,
     "metadata": {},
     "output_type": "execute_result"
    }
   ],
   "source": [
    "samples[-1,:]"
   ]
  },
  {
   "cell_type": "markdown",
   "id": "71f5575f-adc1-40f3-b8a7-725d8dec4ea7",
   "metadata": {},
   "source": [
    "# Plot"
   ]
  },
  {
   "cell_type": "code",
   "execution_count": 73,
   "id": "9cf54d8a-c68c-4aa1-8c54-7a9b3f96cf70",
   "metadata": {
    "tags": []
   },
   "outputs": [
    {
     "data": {
      "image/png": "[encoded data removed]",
      "text/plain": [
       "<Figure size 640x480 with 1 Axes>"
      ]
     },
     "metadata": {},
     "output_type": "display_data"
    }
   ],
   "source": [
    "plt.clf()\n",
    "plt.hist(samples[:,0], 100, color='k', histtype='step')\n",
    "#\n",
    "plt.show()"
   ]
  },
  {
   "cell_type": "markdown",
   "id": "015907e9-2359-4df1-ba19-5178ea742e9a",
   "metadata": {
    "tags": []
   },
   "source": [
    "----"
   ]
  },
  {
   "cell_type": "code",
   "execution_count": 77,
   "id": "0ac7049e-7e64-43f4-882f-177cd5a391f4",
   "metadata": {
    "tags": []
   },
   "outputs": [
    {
     "data": {
      "text/plain": [
       "(320000,)"
      ]
     },
     "execution_count": 77,
     "metadata": {},
     "output_type": "execute_result"
    }
   ],
   "source": [
    "samples[:,-1].shape"
   ]
  },
  {
   "cell_type": "code",
   "execution_count": 75,
   "id": "81cd19fb-9bee-4aef-b4b7-9b570f1db0f1",
   "metadata": {
    "tags": []
   },
   "outputs": [
    {
     "ename": "ValueError",
     "evalue": "operands could not be broadcast together with shapes (320000,) (6,) ",
     "output_type": "error",
     "traceback": [
      "\u001b[0;31m---------------------------------------------------------------------------\u001b[0m",
      "\u001b[0;31mValueError\u001b[0m                                Traceback (most recent call last)",
      "Cell \u001b[0;32mIn[75], line 1\u001b[0m\n\u001b[0;32m----> 1\u001b[0m pred \u001b[38;5;241m=\u001b[39m \u001b[43mmodel\u001b[49m\u001b[38;5;241;43m.\u001b[39;49m\u001b[43mprediction\u001b[49m\u001b[43m(\u001b[49m\u001b[43msamples\u001b[49m\u001b[43m[\u001b[49m\u001b[43m:\u001b[49m\u001b[43m,\u001b[49m\u001b[38;5;241;43m-\u001b[39;49m\u001b[38;5;241;43m1\u001b[39;49m\u001b[43m]\u001b[49m\u001b[43m,\u001b[49m\u001b[43m \u001b[49m\u001b[43mdevice\u001b[49m\u001b[43m)\u001b[49m\n",
      "File \u001b[0;32m~/Projects/Oceanography/python/ocean-color/oceancolor/remote/nn.py:79\u001b[0m, in \u001b[0;36mSimpleNet.prediction\u001b[0;34m(self, sample, device)\u001b[0m\n\u001b[1;32m     77\u001b[0m \u001b[38;5;28;01mdef\u001b[39;00m \u001b[38;5;21mprediction\u001b[39m(\u001b[38;5;28mself\u001b[39m, sample, device):\n\u001b[1;32m     78\u001b[0m     \u001b[38;5;66;03m# Normalize the inputs\u001b[39;00m\n\u001b[0;32m---> 79\u001b[0m     norm_sample \u001b[38;5;241m=\u001b[39m (\u001b[43msample\u001b[49m\u001b[43m \u001b[49m\u001b[38;5;241;43m-\u001b[39;49m\u001b[43m \u001b[49m\u001b[38;5;28;43mself\u001b[39;49m\u001b[38;5;241;43m.\u001b[39;49m\u001b[43mab_parm\u001b[49m\u001b[43m[\u001b[49m\u001b[38;5;241;43m0\u001b[39;49m\u001b[43m]\u001b[49m)\u001b[38;5;241m/\u001b[39m\u001b[38;5;28mself\u001b[39m\u001b[38;5;241m.\u001b[39mab_parm[\u001b[38;5;241m1\u001b[39m]\n\u001b[1;32m     80\u001b[0m     tensor \u001b[38;5;241m=\u001b[39m torch\u001b[38;5;241m.\u001b[39mTensor(norm_sample)\n\u001b[1;32m     82\u001b[0m     \u001b[38;5;28mself\u001b[39m\u001b[38;5;241m.\u001b[39meval()\n",
      "\u001b[0;31mValueError\u001b[0m: operands could not be broadcast together with shapes (320000,) (6,) "
     ]
    }
   ],
   "source": [
    "pred = model.prediction(samples[:,-1], device)"
   ]
  },
  {
   "cell_type": "code",
   "execution_count": 62,
   "id": "936d633e-7637-47be-b733-9b9c6d38c9b7",
   "metadata": {
    "tags": []
   },
   "outputs": [
    {
     "data": {
      "text/plain": [
       "array([2.7662888e-03, 2.9148874e-03, 3.1095059e-03, 3.2807994e-03,\n",
       "       3.4793075e-03, 3.6345324e-03, 3.8075321e-03, 4.2071999e-03,\n",
       "       4.2475709e-03, 4.3116277e-03, 4.3672975e-03, 4.3981508e-03,\n",
       "       4.6101152e-03, 4.7363145e-03, 4.9556545e-03, 5.0201593e-03,\n",
       "       4.9696993e-03, 4.9452782e-03, 4.8327963e-03, 4.7496040e-03,\n",
       "       4.5772241e-03, 4.5990199e-03, 4.7164117e-03, 4.7902218e-03,\n",
       "       4.7043664e-03, 4.7598151e-03, 4.5940895e-03, 4.5192931e-03,\n",
       "       4.3631233e-03, 4.1075298e-03, 3.7774225e-03, 3.3359034e-03,\n",
       "       2.8534126e-03, 2.4767679e-03, 2.3943624e-03, 2.3368045e-03,\n",
       "       2.2400504e-03, 2.1517875e-03, 2.0384933e-03, 1.8627306e-03,\n",
       "       1.6717898e-03, 1.5682479e-03, 1.5053246e-03, 1.4153229e-03,\n",
       "       1.2821828e-03, 1.1473484e-03, 9.7208802e-04, 7.8203535e-04,\n",
       "       6.3114212e-04, 5.0090143e-04, 3.7118566e-04, 3.0890590e-04,\n",
       "       2.9425047e-04, 2.8834958e-04, 2.7163781e-04, 2.5169531e-04,\n",
       "       2.4110237e-04, 2.2814394e-04, 2.1956247e-04, 2.0556622e-04,\n",
       "       1.9416775e-04, 1.7582046e-04, 1.5676049e-04, 1.5646598e-04,\n",
       "       1.5987214e-04, 1.6732317e-04, 1.7392283e-04, 1.7836985e-04,\n",
       "       1.7086107e-04, 1.3544891e-04, 1.0383480e-04, 8.4408581e-05,\n",
       "       6.5260610e-05, 5.2779258e-05, 4.2261549e-05, 3.4376379e-05,\n",
       "       2.5426532e-05, 1.9333573e-05, 1.6925436e-05, 1.6656499e-05,\n",
       "       1.6363581e-05], dtype=float32)"
      ]
     },
     "execution_count": 62,
     "metadata": {},
     "output_type": "execute_result"
    }
   ],
   "source": [
    "pred = model.prediction(ab[idx], device)\n",
    "pred"
   ]
  },
  {
   "cell_type": "code",
   "execution_count": 63,
   "id": "9ca0b2a3-8a01-4bde-83cf-f7c100f1da06",
   "metadata": {
    "tags": []
   },
   "outputs": [
    {
     "ename": "NameError",
     "evalue": "name 'ab_norm' is not defined",
     "output_type": "error",
     "traceback": [
      "\u001b[0;31m---------------------------------------------------------------------------\u001b[0m",
      "\u001b[0;31mNameError\u001b[0m                                 Traceback (most recent call last)",
      "Cell \u001b[0;32mIn[63], line 1\u001b[0m\n\u001b[0;32m----> 1\u001b[0m \u001b[43mlog_prob\u001b[49m\u001b[43m(\u001b[49m\u001b[43mab\u001b[49m\u001b[43m[\u001b[49m\u001b[43midx\u001b[49m\u001b[43m]\u001b[49m\u001b[43m,\u001b[49m\u001b[43m \u001b[49m\u001b[43mmeans\u001b[49m\u001b[43m,\u001b[49m\u001b[43m \u001b[49m\u001b[43mmodel\u001b[49m\u001b[43m,\u001b[49m\u001b[43m \u001b[49m\u001b[43mdevice\u001b[49m\u001b[43m)\u001b[49m\n",
      "Cell \u001b[0;32mIn[61], line 3\u001b[0m, in \u001b[0;36mlog_prob\u001b[0;34m(ab, Rs, model, device)\u001b[0m\n\u001b[1;32m      1\u001b[0m \u001b[38;5;28;01mdef\u001b[39;00m \u001b[38;5;21mlog_prob\u001b[39m(ab, Rs, model, device):\n\u001b[1;32m      2\u001b[0m     \u001b[38;5;66;03m#ab_norm = (ab - model.ab_parm[0]) / model.ab_parm[1]\u001b[39;00m\n\u001b[0;32m----> 3\u001b[0m     pred \u001b[38;5;241m=\u001b[39m model\u001b[38;5;241m.\u001b[39mprediction(\u001b[43mab_norm\u001b[49m, device)\n\u001b[1;32m      4\u001b[0m     \u001b[38;5;66;03m#\u001b[39;00m\n\u001b[1;32m      5\u001b[0m     sig \u001b[38;5;241m=\u001b[39m \u001b[38;5;241m0.05\u001b[39m \u001b[38;5;241m*\u001b[39m Rs\n",
      "\u001b[0;31mNameError\u001b[0m: name 'ab_norm' is not defined"
     ]
    }
   ],
   "source": [
    "log_prob(ab[idx], means, model, device)"
   ]
  },
  {
   "cell_type": "code",
   "execution_count": 51,
   "id": "75d7656b-2d1d-44e7-80bf-4a776037b7c8",
   "metadata": {
    "tags": []
   },
   "outputs": [
    {
     "data": {
      "text/plain": [
       "array([-0.08126818, -0.08474173, -0.06531398, -0.04047811, -0.02704344,\n",
       "       -0.01586655,  0.00794008,  0.04939151,  0.04420666,  0.01600968,\n",
       "        0.04755744,  0.03498079,  0.05924255,  0.06131652,  0.08314832,\n",
       "        0.08168256,  0.05539559,  0.05934517,  0.05717112,  0.05994266,\n",
       "        0.04911799,  0.04725353,  0.0462241 ,  0.0373723 ,  0.01285329,\n",
       "        0.02966818,  0.02376742,  0.02683896,  0.03429275,  0.04567948,\n",
       "        0.04074802,  0.05168118,  0.05386977,  0.05231331,  0.05423676,\n",
       "        0.05571903,  0.06194071,  0.06896017,  0.06999939,  0.06513589,\n",
       "        0.06106619,  0.06577272,  0.07687686,  0.06968224,  0.06464188,\n",
       "        0.07839677,  0.07734691,  0.07456868,  0.06273087,  0.06436681,\n",
       "        0.06483458,  0.05524629,  0.05665401,  0.07105806,  0.07310398,\n",
       "        0.04853215,  0.05770318,  0.05660434,  0.0686022 ,  0.06185948,\n",
       "        0.06580777,  0.06256645,  0.06685673,  0.09807864,  0.10190737,\n",
       "        0.10018446,  0.10776525,  0.11778813,  0.14843091,  0.10933207,\n",
       "        0.06752839,  0.08294869,  0.05391628,  0.06105163,  0.04298348,\n",
       "        0.05021987,  0.05126666,  0.05837369,  0.04900527,  0.07381495,\n",
       "        0.079358  ], dtype=float32)"
      ]
     },
     "execution_count": 51,
     "metadata": {},
     "output_type": "execute_result"
    }
   ],
   "source": [
    "(pred-means)/pred"
   ]
  },
  {
   "cell_type": "code",
   "execution_count": null,
   "id": "05c1f3dd-06ff-47a6-a06e-9a9ce92969b6",
   "metadata": {},
   "outputs": [],
   "source": []
  }
 ],
 "metadata": {
  "kernelspec": {
   "display_name": "Python 3 (ipykernel)",
   "language": "python",
   "name": "python3"
  },
  "language_info": {
   "codemirror_mode": {
    "name": "ipython",
    "version": 3
   },
   "file_extension": ".py",
   "mimetype": "text/x-python",
   "name": "python",
   "nbconvert_exporter": "python",
   "pygments_lexer": "ipython3",
   "version": "3.10.9"
  }
 },
 "nbformat": 4,
 "nbformat_minor": 5
}
