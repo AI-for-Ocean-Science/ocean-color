{
 "cells": [
  {
   "cell_type": "markdown",
   "id": "9ca66436-eb2b-4928-9051-6b6e01a62409",
   "metadata": {},
   "source": [
    "# Playing around with the Tara DB"
   ]
  },
  {
   "cell_type": "code",
   "execution_count": 2,
   "id": "e2390d5d-3a45-45ba-9cd3-9c989c5872e4",
   "metadata": {},
   "outputs": [],
   "source": [
    "# imports\n",
    "import pandas\n",
    "\n",
    "from oceancolor.tara import io"
   ]
  },
  {
   "cell_type": "markdown",
   "id": "ca370fe7-6694-4cb2-9318-143237bfbea1",
   "metadata": {},
   "source": [
    "# Load the DB"
   ]
  },
  {
   "cell_type": "code",
   "execution_count": 3,
   "id": "ad028e27-a24c-43a9-a454-8ee3884d195f",
   "metadata": {},
   "outputs": [],
   "source": [
    "tara_db = io.load_tara_db()"
   ]
  },
  {
   "cell_type": "code",
   "execution_count": 4,
   "id": "9d72ec54-a3d4-49c4-a6da-c2e2ec06ce27",
   "metadata": {},
   "outputs": [
    {
     "data": {
      "text/html": [
       "<div>\n",
       "<style scoped>\n",
       "    .dataframe tbody tr th:only-of-type {\n",
       "        vertical-align: middle;\n",
       "    }\n",
       "\n",
       "    .dataframe tbody tr th {\n",
       "        vertical-align: top;\n",
       "    }\n",
       "\n",
       "    .dataframe thead th {\n",
       "        text-align: right;\n",
       "    }\n",
       "</style>\n",
       "<table border=\"1\" class=\"dataframe\">\n",
       "  <thead>\n",
       "    <tr style=\"text-align: right;\">\n",
       "      <th></th>\n",
       "      <th>date</th>\n",
       "      <th>time</th>\n",
       "      <th>lat</th>\n",
       "      <th>lon</th>\n",
       "      <th>Wt</th>\n",
       "      <th>sal</th>\n",
       "      <th>ap405.5</th>\n",
       "      <th>ap410.1</th>\n",
       "      <th>ap414.4</th>\n",
       "      <th>ap419</th>\n",
       "      <th>...</th>\n",
       "      <th>sig_cp694.9</th>\n",
       "      <th>sig_cp707.8</th>\n",
       "      <th>sig_cp711</th>\n",
       "      <th>sig_cp714.2</th>\n",
       "      <th>sig_cp720.5</th>\n",
       "      <th>sig_cp723.2</th>\n",
       "      <th>sig_cp726</th>\n",
       "      <th>sig_cp728.8</th>\n",
       "      <th>sig_cp731.6</th>\n",
       "      <th>sig_cp734.5</th>\n",
       "    </tr>\n",
       "  </thead>\n",
       "  <tbody>\n",
       "    <tr>\n",
       "      <th>0</th>\n",
       "      <td>20101127</td>\n",
       "      <td>00:48:00</td>\n",
       "      <td>-35.9020</td>\n",
       "      <td>-55.0559</td>\n",
       "      <td>19.9823</td>\n",
       "      <td>27.9347</td>\n",
       "      <td>0.0946</td>\n",
       "      <td>0.0945</td>\n",
       "      <td>0.0951</td>\n",
       "      <td>0.0936</td>\n",
       "      <td>...</td>\n",
       "      <td>NaN</td>\n",
       "      <td>NaN</td>\n",
       "      <td>NaN</td>\n",
       "      <td>NaN</td>\n",
       "      <td>NaN</td>\n",
       "      <td>NaN</td>\n",
       "      <td>NaN</td>\n",
       "      <td>NaN</td>\n",
       "      <td>NaN</td>\n",
       "      <td>NaN</td>\n",
       "    </tr>\n",
       "    <tr>\n",
       "      <th>1</th>\n",
       "      <td>20101127</td>\n",
       "      <td>00:49:00</td>\n",
       "      <td>-35.9039</td>\n",
       "      <td>-55.0557</td>\n",
       "      <td>19.9328</td>\n",
       "      <td>27.9828</td>\n",
       "      <td>0.0937</td>\n",
       "      <td>0.0942</td>\n",
       "      <td>0.0940</td>\n",
       "      <td>0.0935</td>\n",
       "      <td>...</td>\n",
       "      <td>NaN</td>\n",
       "      <td>NaN</td>\n",
       "      <td>NaN</td>\n",
       "      <td>NaN</td>\n",
       "      <td>NaN</td>\n",
       "      <td>NaN</td>\n",
       "      <td>NaN</td>\n",
       "      <td>NaN</td>\n",
       "      <td>NaN</td>\n",
       "      <td>NaN</td>\n",
       "    </tr>\n",
       "    <tr>\n",
       "      <th>2</th>\n",
       "      <td>20101127</td>\n",
       "      <td>00:50:00</td>\n",
       "      <td>-35.9057</td>\n",
       "      <td>-55.0555</td>\n",
       "      <td>19.9248</td>\n",
       "      <td>27.9704</td>\n",
       "      <td>0.0950</td>\n",
       "      <td>0.0946</td>\n",
       "      <td>0.0956</td>\n",
       "      <td>0.0936</td>\n",
       "      <td>...</td>\n",
       "      <td>NaN</td>\n",
       "      <td>NaN</td>\n",
       "      <td>NaN</td>\n",
       "      <td>NaN</td>\n",
       "      <td>NaN</td>\n",
       "      <td>NaN</td>\n",
       "      <td>NaN</td>\n",
       "      <td>NaN</td>\n",
       "      <td>NaN</td>\n",
       "      <td>NaN</td>\n",
       "    </tr>\n",
       "    <tr>\n",
       "      <th>3</th>\n",
       "      <td>20101127</td>\n",
       "      <td>00:51:00</td>\n",
       "      <td>-35.9076</td>\n",
       "      <td>-55.0552</td>\n",
       "      <td>19.9006</td>\n",
       "      <td>28.0009</td>\n",
       "      <td>0.0931</td>\n",
       "      <td>0.0939</td>\n",
       "      <td>0.0950</td>\n",
       "      <td>0.0937</td>\n",
       "      <td>...</td>\n",
       "      <td>NaN</td>\n",
       "      <td>NaN</td>\n",
       "      <td>NaN</td>\n",
       "      <td>NaN</td>\n",
       "      <td>NaN</td>\n",
       "      <td>NaN</td>\n",
       "      <td>NaN</td>\n",
       "      <td>NaN</td>\n",
       "      <td>NaN</td>\n",
       "      <td>NaN</td>\n",
       "    </tr>\n",
       "    <tr>\n",
       "      <th>4</th>\n",
       "      <td>20101127</td>\n",
       "      <td>00:52:00</td>\n",
       "      <td>-35.9095</td>\n",
       "      <td>-55.0550</td>\n",
       "      <td>19.8383</td>\n",
       "      <td>28.1017</td>\n",
       "      <td>0.0932</td>\n",
       "      <td>0.0928</td>\n",
       "      <td>0.0936</td>\n",
       "      <td>0.0924</td>\n",
       "      <td>...</td>\n",
       "      <td>NaN</td>\n",
       "      <td>NaN</td>\n",
       "      <td>NaN</td>\n",
       "      <td>NaN</td>\n",
       "      <td>NaN</td>\n",
       "      <td>NaN</td>\n",
       "      <td>NaN</td>\n",
       "      <td>NaN</td>\n",
       "      <td>NaN</td>\n",
       "      <td>NaN</td>\n",
       "    </tr>\n",
       "  </tbody>\n",
       "</table>\n",
       "<p>5 rows × 2332 columns</p>\n",
       "</div>"
      ],
      "text/plain": [
       "       date      time      lat      lon       Wt      sal  ap405.5  ap410.1   \n",
       "0  20101127  00:48:00 -35.9020 -55.0559  19.9823  27.9347   0.0946   0.0945  \\\n",
       "1  20101127  00:49:00 -35.9039 -55.0557  19.9328  27.9828   0.0937   0.0942   \n",
       "2  20101127  00:50:00 -35.9057 -55.0555  19.9248  27.9704   0.0950   0.0946   \n",
       "3  20101127  00:51:00 -35.9076 -55.0552  19.9006  28.0009   0.0931   0.0939   \n",
       "4  20101127  00:52:00 -35.9095 -55.0550  19.8383  28.1017   0.0932   0.0928   \n",
       "\n",
       "   ap414.4   ap419  ...  sig_cp694.9  sig_cp707.8  sig_cp711  sig_cp714.2   \n",
       "0   0.0951  0.0936  ...          NaN          NaN        NaN          NaN  \\\n",
       "1   0.0940  0.0935  ...          NaN          NaN        NaN          NaN   \n",
       "2   0.0956  0.0936  ...          NaN          NaN        NaN          NaN   \n",
       "3   0.0950  0.0937  ...          NaN          NaN        NaN          NaN   \n",
       "4   0.0936  0.0924  ...          NaN          NaN        NaN          NaN   \n",
       "\n",
       "   sig_cp720.5  sig_cp723.2  sig_cp726  sig_cp728.8  sig_cp731.6  sig_cp734.5  \n",
       "0          NaN          NaN        NaN          NaN          NaN          NaN  \n",
       "1          NaN          NaN        NaN          NaN          NaN          NaN  \n",
       "2          NaN          NaN        NaN          NaN          NaN          NaN  \n",
       "3          NaN          NaN        NaN          NaN          NaN          NaN  \n",
       "4          NaN          NaN        NaN          NaN          NaN          NaN  \n",
       "\n",
       "[5 rows x 2332 columns]"
      ]
     },
     "execution_count": 4,
     "metadata": {},
     "output_type": "execute_result"
    }
   ],
   "source": [
    "tara_db.head()"
   ]
  },
  {
   "cell_type": "markdown",
   "id": "760dce16-182d-42ed-abb6-d91c60edc95b",
   "metadata": {},
   "source": [
    "# Plot one spectrum"
   ]
  },
  {
   "cell_type": "code",
   "execution_count": 7,
   "id": "be2b04e4-40de-47e3-bf44-ee9bba1eecdd",
   "metadata": {},
   "outputs": [],
   "source": [
    "row = tara_db.iloc[0]"
   ]
  },
  {
   "cell_type": "code",
   "execution_count": 10,
   "id": "93e7f1fc-275b-4b48-a456-30da9fccf83f",
   "metadata": {},
   "outputs": [
    {
     "data": {
      "text/plain": [
       "0.0945"
      ]
     },
     "execution_count": 10,
     "metadata": {},
     "output_type": "execute_result"
    }
   ],
   "source": [
    "row['ap410.1']"
   ]
  },
  {
   "cell_type": "code",
   "execution_count": null,
   "id": "4e03c41a-f339-482d-8d33-5fa3e004afbd",
   "metadata": {},
   "outputs": [],
   "source": []
  }
 ],
 "metadata": {
  "kernelspec": {
   "display_name": "Python 3 (ipykernel)",
   "language": "python",
   "name": "python3"
  },
  "language_info": {
   "codemirror_mode": {
    "name": "ipython",
    "version": 3
   },
   "file_extension": ".py",
   "mimetype": "text/x-python",
   "name": "python",
   "nbconvert_exporter": "python",
   "pygments_lexer": "ipython3",
   "version": "3.10.10"
  }
 },
 "nbformat": 4,
 "nbformat_minor": 5
}
