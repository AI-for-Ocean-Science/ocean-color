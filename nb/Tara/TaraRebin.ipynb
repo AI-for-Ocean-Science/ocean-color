{
 "cells": [
  {
   "cell_type": "markdown",
   "id": "c23bbed4-a0b3-4598-a9e3-fdfe972d2ec1",
   "metadata": {},
   "source": [
    "# Tara Rebin"
   ]
  },
  {
   "cell_type": "code",
   "execution_count": 1,
   "id": "bb52a6d8-23a5-4370-b1a8-df2e14f601e9",
   "metadata": {},
   "outputs": [],
   "source": [
    "# imports\n",
    "from importlib import reload\n",
    "import numpy as np\n",
    "import pandas\n",
    "import datetime\n",
    "\n",
    "from matplotlib import pyplot as plt\n",
    "from cartopy.mpl.gridliner import LONGITUDE_FORMATTER, LATITUDE_FORMATTER\n",
    "import cartopy.crs as ccrs\n",
    "import cartopy\n",
    "\n",
    "import seaborn as sns\n",
    "\n",
    "from oceancolor.tara import io\n",
    "from oceancolor.tara import spectra"
   ]
  },
  {
   "cell_type": "markdown",
   "id": "56f1c6a2-27a8-4642-948c-0e39f2057197",
   "metadata": {},
   "source": [
    "# Load the Table"
   ]
  },
  {
   "cell_type": "code",
   "execution_count": 2,
   "id": "1ffad72b-8555-48eb-a106-30260ab0d13e",
   "metadata": {},
   "outputs": [],
   "source": [
    "tara_db = io.load_tara_db()"
   ]
  },
  {
   "cell_type": "code",
   "execution_count": 3,
   "id": "82da1ed2-24c7-4421-a7c4-349a62019c7d",
   "metadata": {},
   "outputs": [
    {
     "data": {
      "text/plain": [
       "Index(['date', 'time', 'lat', 'lon', 'Wt', 'sal', 'ap405.5', 'ap410.1',\n",
       "       'ap414.4', 'ap419',\n",
       "       ...\n",
       "       'sig_cp694.9', 'sig_cp707.8', 'sig_cp711', 'sig_cp714.2', 'sig_cp720.5',\n",
       "       'sig_cp723.2', 'sig_cp726', 'sig_cp728.8', 'sig_cp731.6',\n",
       "       'sig_cp734.5'],\n",
       "      dtype='object', length=2332)"
      ]
     },
     "execution_count": 3,
     "metadata": {},
     "output_type": "execute_result"
    }
   ],
   "source": [
    "tara_db.keys()"
   ]
  },
  {
   "cell_type": "markdown",
   "id": "5383265d-5c5d-4b70-bced-7c76a295184b",
   "metadata": {},
   "source": [
    "# Load the Spectra"
   ]
  },
  {
   "cell_type": "code",
   "execution_count": 4,
   "id": "1bd05300-2cea-4f94-9699-24a89152cc2b",
   "metadata": {},
   "outputs": [],
   "source": [
    "wv_nm, values, err_vals = spectra.spectra_from_table(tara_db)"
   ]
  },
  {
   "cell_type": "code",
   "execution_count": 5,
   "id": "3c8accca-c4a7-48ee-a1e9-376b48f7bb80",
   "metadata": {},
   "outputs": [
    {
     "data": {
      "text/plain": [
       "(578, 302779)"
      ]
     },
     "execution_count": 5,
     "metadata": {},
     "output_type": "execute_result"
    }
   ],
   "source": [
    "values.shape"
   ]
  },
  {
   "cell_type": "code",
   "execution_count": 6,
   "id": "8d4f7c93-0949-45d4-a867-27cc177a736f",
   "metadata": {},
   "outputs": [
    {
     "data": {
      "text/plain": [
       "(array([400.7, 400.9, 403.7, 403.9, 404.6, 404.8, 405.1, 405.3, 405.5,\n",
       "        406. , 407.6, 407.8, 408.2, 408.7, 409.4, 410.1, 410.9, 411.2,\n",
       "        412.5, 413.5]),\n",
       " array([744.3, 744.9, 745.4, 745.6, 746.4, 747.3, 747.6, 748.1, 748.4,\n",
       "        750. ]))"
      ]
     },
     "execution_count": 6,
     "metadata": {},
     "output_type": "execute_result"
    }
   ],
   "source": [
    "wv_nm[0:20], wv_nm[-10:]"
   ]
  },
  {
   "cell_type": "markdown",
   "id": "7c043b9f-77ed-4e9c-982e-34f6a2908487",
   "metadata": {},
   "source": [
    "## How well populated are the spectra?"
   ]
  },
  {
   "cell_type": "code",
   "execution_count": 7,
   "id": "8f98a7e8-dfd0-4884-b40c-ac0aea6b21d7",
   "metadata": {},
   "outputs": [],
   "source": [
    "gd_value_b = np.isfinite(values) & (values>0)\n",
    "gd_value = gd_value_b.astype(int)"
   ]
  },
  {
   "cell_type": "code",
   "execution_count": 8,
   "id": "fc5ae76f-3c3c-4361-a0a6-df309206748b",
   "metadata": {},
   "outputs": [
    {
     "data": {
      "text/plain": [
       "array([[0, 0, 0, ..., 0, 0, 0],\n",
       "       [0, 0, 0, ..., 0, 0, 0],\n",
       "       [0, 0, 0, ..., 0, 0, 0],\n",
       "       ...,\n",
       "       [0, 0, 0, ..., 0, 0, 0],\n",
       "       [0, 0, 0, ..., 0, 0, 0],\n",
       "       [0, 0, 0, ..., 0, 0, 0]])"
      ]
     },
     "execution_count": 8,
     "metadata": {},
     "output_type": "execute_result"
    }
   ],
   "source": [
    "gd_value"
   ]
  },
  {
   "cell_type": "code",
   "execution_count": 9,
   "id": "221e9d59-7e82-435e-8674-4114661c2280",
   "metadata": {},
   "outputs": [
    {
     "data": {
      "text/plain": [
       "array([[    nan,     nan,     nan, ...,     nan,     nan,     nan],\n",
       "       [    nan,     nan,     nan, ...,     nan,     nan,     nan],\n",
       "       [    nan,     nan,     nan, ...,     nan,     nan,     nan],\n",
       "       ...,\n",
       "       [-0.0024, -0.0034, -0.003 , ...,     nan,     nan,     nan],\n",
       "       [    nan,     nan,     nan, ...,     nan,     nan,     nan],\n",
       "       [-0.0027, -0.0031, -0.0029, ...,     nan,     nan,     nan]])"
      ]
     },
     "execution_count": 9,
     "metadata": {},
     "output_type": "execute_result"
    }
   ],
   "source": [
    "values"
   ]
  },
  {
   "cell_type": "markdown",
   "id": "c6106007-ae9e-477a-94a3-f4a1aae19c41",
   "metadata": {},
   "source": [
    "## Inspect"
   ]
  },
  {
   "cell_type": "code",
   "execution_count": 10,
   "id": "af5d7272-b414-41af-ba31-70b506bc9209",
   "metadata": {},
   "outputs": [
    {
     "data": {
      "image/png": "[encoded data removed]",
      "text/plain": [
       "<Figure size 640x480 with 1 Axes>"
      ]
     },
     "metadata": {},
     "output_type": "display_data"
    }
   ],
   "source": [
    "plt.clf()\n",
    "ax = plt.gca()\n",
    "ax.imshow(gd_value[:,0:2000], origin='lower')\n",
    "plt.show()"
   ]
  },
  {
   "cell_type": "code",
   "execution_count": 11,
   "id": "e5ef15b2-3e08-44f8-8fcf-1f85788c0b57",
   "metadata": {},
   "outputs": [
    {
     "data": {
      "text/plain": [
       "79"
      ]
     },
     "execution_count": 11,
     "metadata": {},
     "output_type": "execute_result"
    }
   ],
   "source": [
    "np.sum(gd_value[:,301500])"
   ]
  },
  {
   "cell_type": "code",
   "execution_count": 12,
   "id": "aab3de5f-7ae6-45a9-b144-f8c50689db04",
   "metadata": {},
   "outputs": [
    {
     "data": {
      "text/plain": [
       "array([400.7, 405.1, 409.4, 413.5, 417.8, 422.6, 427.6, 432. , 436.4,\n",
       "       440.7, 445.1, 450. , 454.8, 459.2, 463.6, 468.2, 473.1, 478.2,\n",
       "       483.1, 487.8, 492.1, 496.7, 501.2, 506.1, 510.7, 515.8, 520.8,\n",
       "       525.3, 529.9, 534.4, 538.7, 543. , 547.6, 551.9, 556.5, 560.8,\n",
       "       565. , 569. , 574.1, 578.1, 582.4, 586.6, 591. , 595.2, 599.9,\n",
       "       604.5, 608.8, 613.5, 618.2, 622.5, 626.9, 631.2, 635.5, 639.8,\n",
       "       644.3, 648.6, 652.9, 657.3, 661.6, 666. , 670.3, 674.5, 678.6,\n",
       "       682.7, 686.6, 690.5, 694.1, 697.9, 701.5, 705. , 708.4])"
      ]
     },
     "execution_count": 12,
     "metadata": {},
     "output_type": "execute_result"
    }
   ],
   "source": [
    "wv_nm[gd_value_b[:,30000]]"
   ]
  },
  {
   "cell_type": "code",
   "execution_count": 13,
   "id": "383bfb21-d8fb-482f-a377-0b9a839a7c7e",
   "metadata": {},
   "outputs": [
    {
     "data": {
      "text/plain": [
       "array([-307.7,    4.4,    4.3,    4.1,    4.3,    4.8,    5. ,    4.4,\n",
       "          4.4,    4.3,    4.4,    4.9,    4.8,    4.4,    4.4,    4.6,\n",
       "          4.9,    5.1,    4.9,    4.7,    4.3,    4.6,    4.5,    4.9,\n",
       "          4.6,    5.1,    5. ,    4.5,    4.6,    4.5,    4.3,    4.3,\n",
       "          4.6,    4.3,    4.6,    4.3,    4.2,    4. ,    5.1,    4. ,\n",
       "          4.3,    4.2,    4.4,    4.2,    4.7,    4.6,    4.3,    4.7,\n",
       "          4.7,    4.3,    4.4,    4.3,    4.3,    4.3,    4.5,    4.3,\n",
       "          4.3,    4.4,    4.3,    4.4,    4.3,    4.2,    4.1,    4.1,\n",
       "          3.9,    3.9,    3.6,    3.8,    3.6,    3.5,    3.4])"
      ]
     },
     "execution_count": 13,
     "metadata": {},
     "output_type": "execute_result"
    }
   ],
   "source": [
    "wvs = wv_nm[gd_value_b[:,30000]]\n",
    "dwv = wvs - np.roll(wvs,1)\n",
    "dwv"
   ]
  },
  {
   "cell_type": "markdown",
   "id": "eca4e413-5455-4028-808c-09e4bec47eaf",
   "metadata": {},
   "source": [
    "----"
   ]
  },
  {
   "cell_type": "markdown",
   "id": "7c029e69-92c2-44bb-b8a2-9bf168a50b15",
   "metadata": {},
   "source": [
    "# Test"
   ]
  },
  {
   "cell_type": "code",
   "execution_count": 14,
   "id": "40affdd9-1d89-4b52-af3e-fad32da34ffa",
   "metadata": {},
   "outputs": [
    {
     "name": "stderr",
     "output_type": "stream",
     "text": [
      "/home/xavier/Projects/Oceanography/python/ocean-color/oceancolor/tara/spectra.py:247: RuntimeWarning: invalid value encountered in divide\n",
      "  isum = np.nansum(values[gd]*mask[gd], axis=0) / np.sum(mask[gd],axis=0)\n"
     ]
    }
   ],
   "source": [
    "reload(spectra)\n",
    "wv_grid = np.arange(400., 705., 5.)\n",
    "rebin_wave,rebin_spectra = spectra.rebin_to_grid(wv_nm, values, err_vals, wv_grid)"
   ]
  },
  {
   "cell_type": "code",
   "execution_count": 16,
   "id": "d890426e-9610-4a88-af6b-c44411c7912c",
   "metadata": {},
   "outputs": [
    {
     "data": {
      "image/png": "[encoded data removed]",
      "text/plain": [
       "<Figure size 640x480 with 1 Axes>"
      ]
     },
     "metadata": {},
     "output_type": "display_data"
    }
   ],
   "source": [
    "plt.clf()\n",
    "ax = plt.gca()\n",
    "#\n",
    "for ii in range(10):\n",
    "    ax.plot(rebin_wave, rebin_spectra[:,ii])\n",
    "plt.show()"
   ]
  },
  {
   "cell_type": "code",
   "execution_count": 17,
   "id": "7694d349-48c8-400c-b8b0-b0e26d7fbafe",
   "metadata": {},
   "outputs": [
    {
     "data": {
      "text/plain": [
       "60"
      ]
     },
     "execution_count": 17,
     "metadata": {},
     "output_type": "execute_result"
    }
   ],
   "source": [
    "rebin_wave.size"
   ]
  },
  {
   "cell_type": "code",
   "execution_count": null,
   "id": "8415bebd-a331-4edd-9dab-85169a2dd509",
   "metadata": {},
   "outputs": [],
   "source": []
  }
 ],
 "metadata": {
  "kernelspec": {
   "display_name": "Python 3 (ipykernel)",
   "language": "python",
   "name": "python3"
  },
  "language_info": {
   "codemirror_mode": {
    "name": "ipython",
    "version": 3
   },
   "file_extension": ".py",
   "mimetype": "text/x-python",
   "name": "python",
   "nbconvert_exporter": "python",
   "pygments_lexer": "ipython3",
   "version": "3.10.10"
  }
 },
 "nbformat": 4,
 "nbformat_minor": 5
}
