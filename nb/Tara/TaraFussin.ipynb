{
 "cells": [
  {
   "cell_type": "markdown",
   "id": "ec2480b4-97b7-459a-bdbc-91e44c5016be",
   "metadata": {},
   "source": [
    "# Fussing About with Tara"
   ]
  },
  {
   "cell_type": "code",
   "execution_count": 47,
   "id": "69df5d95-8585-4743-93a9-50de4ed977e8",
   "metadata": {
    "tags": []
   },
   "outputs": [],
   "source": [
    "# imports\n",
    "import os\n",
    "\n",
    "import numpy as np\n",
    "#from seaborn import sns\n",
    "from matplotlib import pyplot as plt\n",
    "\n",
    "import pandas"
   ]
  },
  {
   "cell_type": "markdown",
   "id": "b2086079-4dbd-44fe-940a-ce47de4312d1",
   "metadata": {},
   "source": [
    "# Load one"
   ]
  },
  {
   "cell_type": "code",
   "execution_count": 3,
   "id": "1fb4cfba-8ee9-4c80-a7d7-a3bae726c4d2",
   "metadata": {
    "tags": []
   },
   "outputs": [],
   "source": [
    "tara_path = '/home/xavier/Projects/Oceanography/Color/data/Tara'"
   ]
  },
  {
   "cell_type": "code",
   "execution_count": 4,
   "id": "1e53125f-3e86-4d82-8ebc-718b1c960722",
   "metadata": {
    "tags": []
   },
   "outputs": [],
   "source": [
    "ex_file = os.path.join(tara_path, 'CT-Rio', 'Tara_ACS_apcp2010_286cp.txt')"
   ]
  },
  {
   "cell_type": "markdown",
   "id": "de73144b-389d-4122-a4e2-15f55725fb2f",
   "metadata": {},
   "source": [
    "## Grab the fields"
   ]
  },
  {
   "cell_type": "code",
   "execution_count": 12,
   "id": "dda2c97f-8ed5-4cd8-897c-9d4e5f5a767e",
   "metadata": {
    "tags": []
   },
   "outputs": [],
   "source": [
    "f = open(ex_file)\n",
    "lines = f.readlines()\n",
    "f.close()"
   ]
  },
  {
   "cell_type": "code",
   "execution_count": 35,
   "id": "df0267ed-95a2-4602-8503-1946d89f0531",
   "metadata": {
    "tags": []
   },
   "outputs": [],
   "source": [
    "#\n",
    "for line in lines:\n",
    "    if line[0] != '/':\n",
    "        continue\n",
    "    # Fields?\n",
    "    if 'fields' in line:\n",
    "        fields = line.strip().split('=')[1].split(',')\n",
    "    # Units\n",
    "    if 'units' in line:\n",
    "        units = line.strip().split('=')[1].split(',')\n",
    "# Ignore the dummy\n",
    "fields = fields\n",
    "units = units[:-1]"
   ]
  },
  {
   "cell_type": "code",
   "execution_count": 36,
   "id": "26b1fc46-6079-4038-842c-8929b2f2804e",
   "metadata": {
    "tags": []
   },
   "outputs": [
    {
     "data": {
      "text/plain": [
       "(['date', 'time', 'lat', 'lon', 'Wt'],\n",
       " ['cp745.6', 'cp748.1', 'cp750.8', 'cp753.5', ''])"
      ]
     },
     "execution_count": 36,
     "metadata": {},
     "output_type": "execute_result"
    }
   ],
   "source": [
    "fields[0:5], fields[-5:]"
   ]
  },
  {
   "cell_type": "code",
   "execution_count": 37,
   "id": "7cdc7ce7-00f0-4771-b471-96fb2953afe0",
   "metadata": {
    "tags": []
   },
   "outputs": [
    {
     "data": {
      "text/plain": [
       "(['yyyymmdd', 'hh:mm:ss', 'degrees', 'degrees', 'degreesC'],\n",
       " ['1/m', '1/m', '1/m', '1/m', '1/m'])"
      ]
     },
     "execution_count": 37,
     "metadata": {},
     "output_type": "execute_result"
    }
   ],
   "source": [
    "units[0:5], units[-5:]"
   ]
  },
  {
   "cell_type": "markdown",
   "id": "8030fa49-0775-4784-97b3-3e91874da11d",
   "metadata": {
    "tags": []
   },
   "source": [
    "## pandas time"
   ]
  },
  {
   "cell_type": "code",
   "execution_count": 43,
   "id": "c06d10ca-aaf9-4cb5-902e-6270cb74f92f",
   "metadata": {
    "tags": []
   },
   "outputs": [
    {
     "data": {
      "text/html": [
       "<div>\n",
       "<style scoped>\n",
       "    .dataframe tbody tr th:only-of-type {\n",
       "        vertical-align: middle;\n",
       "    }\n",
       "\n",
       "    .dataframe tbody tr th {\n",
       "        vertical-align: top;\n",
       "    }\n",
       "\n",
       "    .dataframe thead th {\n",
       "        text-align: right;\n",
       "    }\n",
       "</style>\n",
       "<table border=\"1\" class=\"dataframe\">\n",
       "  <thead>\n",
       "    <tr style=\"text-align: right;\">\n",
       "      <th></th>\n",
       "      <th>date</th>\n",
       "      <th>time</th>\n",
       "      <th>lat</th>\n",
       "      <th>lon</th>\n",
       "      <th>Wt</th>\n",
       "      <th>sal</th>\n",
       "      <th>cp405.5</th>\n",
       "      <th>cp410.1</th>\n",
       "      <th>cp414.4</th>\n",
       "      <th>cp419</th>\n",
       "      <th>...</th>\n",
       "      <th>cp730</th>\n",
       "      <th>cp733.4</th>\n",
       "      <th>cp736.7</th>\n",
       "      <th>cp739.6</th>\n",
       "      <th>cp742.4</th>\n",
       "      <th>cp745.6</th>\n",
       "      <th>cp748.1</th>\n",
       "      <th>cp750.8</th>\n",
       "      <th>cp753.5</th>\n",
       "      <th></th>\n",
       "    </tr>\n",
       "  </thead>\n",
       "  <tbody>\n",
       "    <tr>\n",
       "      <th>0</th>\n",
       "      <td>20101013</td>\n",
       "      <td>01:08:00</td>\n",
       "      <td>-16.4806</td>\n",
       "      <td>-29.6012</td>\n",
       "      <td>25.0676</td>\n",
       "      <td>37.1607</td>\n",
       "      <td>0.0566</td>\n",
       "      <td>0.0560</td>\n",
       "      <td>0.0562</td>\n",
       "      <td>0.0557</td>\n",
       "      <td>...</td>\n",
       "      <td>0.0344</td>\n",
       "      <td>0.0344</td>\n",
       "      <td>0.0340</td>\n",
       "      <td>0.0340</td>\n",
       "      <td>0.0338</td>\n",
       "      <td>0.0336</td>\n",
       "      <td>0.0337</td>\n",
       "      <td>0.0337</td>\n",
       "      <td>0.0336</td>\n",
       "      <td>NaN</td>\n",
       "    </tr>\n",
       "    <tr>\n",
       "      <th>1</th>\n",
       "      <td>20101013</td>\n",
       "      <td>01:09:00</td>\n",
       "      <td>-16.4814</td>\n",
       "      <td>-29.6029</td>\n",
       "      <td>25.0637</td>\n",
       "      <td>37.1588</td>\n",
       "      <td>0.0575</td>\n",
       "      <td>0.0560</td>\n",
       "      <td>0.0561</td>\n",
       "      <td>0.0550</td>\n",
       "      <td>...</td>\n",
       "      <td>0.0344</td>\n",
       "      <td>0.0343</td>\n",
       "      <td>0.0340</td>\n",
       "      <td>0.0341</td>\n",
       "      <td>0.0340</td>\n",
       "      <td>0.0337</td>\n",
       "      <td>0.0336</td>\n",
       "      <td>0.0336</td>\n",
       "      <td>0.0336</td>\n",
       "      <td>NaN</td>\n",
       "    </tr>\n",
       "    <tr>\n",
       "      <th>2</th>\n",
       "      <td>20101013</td>\n",
       "      <td>01:10:00</td>\n",
       "      <td>-16.4824</td>\n",
       "      <td>-29.6046</td>\n",
       "      <td>25.0609</td>\n",
       "      <td>37.1594</td>\n",
       "      <td>0.0564</td>\n",
       "      <td>0.0560</td>\n",
       "      <td>0.0553</td>\n",
       "      <td>0.0554</td>\n",
       "      <td>...</td>\n",
       "      <td>0.0344</td>\n",
       "      <td>0.0343</td>\n",
       "      <td>0.0339</td>\n",
       "      <td>0.0340</td>\n",
       "      <td>0.0337</td>\n",
       "      <td>0.0337</td>\n",
       "      <td>0.0336</td>\n",
       "      <td>0.0337</td>\n",
       "      <td>0.0335</td>\n",
       "      <td>NaN</td>\n",
       "    </tr>\n",
       "    <tr>\n",
       "      <th>3</th>\n",
       "      <td>20101013</td>\n",
       "      <td>01:11:00</td>\n",
       "      <td>-16.4832</td>\n",
       "      <td>-29.6063</td>\n",
       "      <td>25.0578</td>\n",
       "      <td>37.1574</td>\n",
       "      <td>0.0582</td>\n",
       "      <td>0.0568</td>\n",
       "      <td>0.0573</td>\n",
       "      <td>0.0567</td>\n",
       "      <td>...</td>\n",
       "      <td>0.0352</td>\n",
       "      <td>0.0352</td>\n",
       "      <td>0.0349</td>\n",
       "      <td>0.0348</td>\n",
       "      <td>0.0348</td>\n",
       "      <td>0.0346</td>\n",
       "      <td>0.0344</td>\n",
       "      <td>0.0345</td>\n",
       "      <td>0.0342</td>\n",
       "      <td>NaN</td>\n",
       "    </tr>\n",
       "    <tr>\n",
       "      <th>4</th>\n",
       "      <td>20101013</td>\n",
       "      <td>01:12:00</td>\n",
       "      <td>-16.4841</td>\n",
       "      <td>-29.6080</td>\n",
       "      <td>25.0582</td>\n",
       "      <td>37.1586</td>\n",
       "      <td>0.0573</td>\n",
       "      <td>0.0559</td>\n",
       "      <td>0.0560</td>\n",
       "      <td>0.0560</td>\n",
       "      <td>...</td>\n",
       "      <td>0.0349</td>\n",
       "      <td>0.0349</td>\n",
       "      <td>0.0345</td>\n",
       "      <td>0.0345</td>\n",
       "      <td>0.0341</td>\n",
       "      <td>0.0342</td>\n",
       "      <td>0.0338</td>\n",
       "      <td>0.0343</td>\n",
       "      <td>0.0342</td>\n",
       "      <td>NaN</td>\n",
       "    </tr>\n",
       "  </tbody>\n",
       "</table>\n",
       "<p>5 rows × 89 columns</p>\n",
       "</div>"
      ],
      "text/plain": [
       "       date      time      lat      lon       Wt      sal  cp405.5  cp410.1  \\\n",
       "0  20101013  01:08:00 -16.4806 -29.6012  25.0676  37.1607   0.0566   0.0560   \n",
       "1  20101013  01:09:00 -16.4814 -29.6029  25.0637  37.1588   0.0575   0.0560   \n",
       "2  20101013  01:10:00 -16.4824 -29.6046  25.0609  37.1594   0.0564   0.0560   \n",
       "3  20101013  01:11:00 -16.4832 -29.6063  25.0578  37.1574   0.0582   0.0568   \n",
       "4  20101013  01:12:00 -16.4841 -29.6080  25.0582  37.1586   0.0573   0.0559   \n",
       "\n",
       "   cp414.4   cp419  ...   cp730  cp733.4  cp736.7  cp739.6  cp742.4  cp745.6  \\\n",
       "0   0.0562  0.0557  ...  0.0344   0.0344   0.0340   0.0340   0.0338   0.0336   \n",
       "1   0.0561  0.0550  ...  0.0344   0.0343   0.0340   0.0341   0.0340   0.0337   \n",
       "2   0.0553  0.0554  ...  0.0344   0.0343   0.0339   0.0340   0.0337   0.0337   \n",
       "3   0.0573  0.0567  ...  0.0352   0.0352   0.0349   0.0348   0.0348   0.0346   \n",
       "4   0.0560  0.0560  ...  0.0349   0.0349   0.0345   0.0345   0.0341   0.0342   \n",
       "\n",
       "   cp748.1  cp750.8  cp753.5      \n",
       "0   0.0337   0.0337   0.0336 NaN  \n",
       "1   0.0336   0.0336   0.0336 NaN  \n",
       "2   0.0336   0.0337   0.0335 NaN  \n",
       "3   0.0344   0.0345   0.0342 NaN  \n",
       "4   0.0338   0.0343   0.0342 NaN  \n",
       "\n",
       "[5 rows x 89 columns]"
      ]
     },
     "execution_count": 43,
     "metadata": {},
     "output_type": "execute_result"
    }
   ],
   "source": [
    "df = pandas.read_table(ex_file, comment='/', names=fields, delimiter=' ', index_col=False)\n",
    "df.head()"
   ]
  },
  {
   "cell_type": "markdown",
   "id": "8792d58e-5930-4b0b-8759-43d5a14c8dbb",
   "metadata": {},
   "source": [
    "## Uncertainty"
   ]
  },
  {
   "cell_type": "markdown",
   "id": "fd01a9cd-1caf-4aa0-9e93-8f3b8d8359f0",
   "metadata": {},
   "source": [
    "# Parse all the spectra"
   ]
  },
  {
   "cell_type": "code",
   "execution_count": 53,
   "id": "207f86bb-4d3c-44e6-9512-a586d1c7ccf2",
   "metadata": {
    "tags": []
   },
   "outputs": [],
   "source": [
    "dum = np.zeros((len(df), 1000))\n",
    "wv_nm = []\n",
    "ii = 0\n",
    "for key in df.keys():\n",
    "    if key[0:2] == 'cp':\n",
    "        # Wavelength\n",
    "        wv_nm.append(float(key[2:]))\n",
    "        # Slurp\n",
    "        dum[:,ii] = df[key].values\n",
    "        ii += 1\n",
    "# Cut down\n",
    "spec = dum[:, :ii]\n",
    "# Wavelengths\n",
    "wv_nm = np.array(wv_nm)"
   ]
  },
  {
   "cell_type": "code",
   "execution_count": 54,
   "id": "8e7ffe57-f747-47ad-a7c6-5c156b20ce5c",
   "metadata": {
    "tags": []
   },
   "outputs": [
    {
     "data": {
      "text/plain": [
       "array([405.5, 410.1, 414.4, 419. , 423.7, 428.6, 433.1, 437.7, 442.5,\n",
       "       447. , 452. , 456.6, 461.1, 465.5, 470.6, 475.7, 480.6, 485.5,\n",
       "       489.9, 494.4, 499.1, 503.8, 508.5, 513.5, 518.4, 523.2, 527.7,\n",
       "       532.3, 537.2, 541.5, 545.9, 550.7, 555.3, 559.8, 563.2, 567.6,\n",
       "       572. , 576.3, 580.5, 584.9, 589.3, 593.9, 598.4, 603. , 607.6,\n",
       "       612.7, 617.4, 622. , 626.5, 630.9, 635.4, 640. , 644.8, 649.3,\n",
       "       654.2, 658.6, 663.4, 668.2, 672.6, 676.8, 680.9, 685.5, 689.7,\n",
       "       693.7, 697.6, 701.7, 705.4, 709.4, 712.8, 716.4, 720. , 723.3,\n",
       "       726.8, 730. , 733.4, 736.7, 739.6, 742.4, 745.6, 748.1, 750.8,\n",
       "       753.5])"
      ]
     },
     "execution_count": 54,
     "metadata": {},
     "output_type": "execute_result"
    }
   ],
   "source": [
    "wv_nm"
   ]
  },
  {
   "cell_type": "code",
   "execution_count": 55,
   "id": "4c0caf2f-e054-4fc2-afea-5c74e77dcab7",
   "metadata": {
    "tags": []
   },
   "outputs": [
    {
     "data": {
      "text/plain": [
       "array([0.0336, 0.0336, 0.0335, 0.0342, 0.0342, 0.0336, 0.0335, 0.0339,\n",
       "       0.0336, 0.0331])"
      ]
     },
     "execution_count": 55,
     "metadata": {},
     "output_type": "execute_result"
    }
   ],
   "source": [
    "spec[0:10,ii-1]"
   ]
  },
  {
   "cell_type": "markdown",
   "id": "7a6bd918-0aa3-4526-8586-8e1ec4202f76",
   "metadata": {},
   "source": [
    "----"
   ]
  },
  {
   "cell_type": "markdown",
   "id": "1748c1b4-a520-4d98-9221-a619c5c899a0",
   "metadata": {
    "tags": []
   },
   "source": [
    "# Plot a bit"
   ]
  },
  {
   "cell_type": "markdown",
   "id": "5eab047d-ff6b-4159-8880-5b75f62af346",
   "metadata": {},
   "source": [
    "## Histogram of one field"
   ]
  },
  {
   "cell_type": "code",
   "execution_count": 44,
   "id": "4855daa6-3e29-47db-b4cf-c8391f03d8e0",
   "metadata": {
    "tags": []
   },
   "outputs": [
    {
     "data": {
      "text/plain": [
       "<Axes: >"
      ]
     },
     "execution_count": 44,
     "metadata": {},
     "output_type": "execute_result"
    },
    {
     "data": {
      "image/png": "[encoded data removed]",
      "text/plain": [
       "<Figure size 640x480 with 1 Axes>"
      ]
     },
     "metadata": {},
     "output_type": "display_data"
    }
   ],
   "source": [
    "df['cp405.5'].hist()"
   ]
  },
  {
   "cell_type": "markdown",
   "id": "4db62251-7887-4976-8d53-b2d520fc4df8",
   "metadata": {},
   "source": [
    "## Spectrum"
   ]
  },
  {
   "cell_type": "code",
   "execution_count": 45,
   "id": "1e917b18-1b2d-41e1-9e88-e05cc68d8d82",
   "metadata": {
    "tags": []
   },
   "outputs": [
    {
     "data": {
      "text/plain": [
       "date       20101013\n",
       "time       01:08:00\n",
       "lat        -16.4806\n",
       "lon        -29.6012\n",
       "Wt          25.0676\n",
       "             ...   \n",
       "cp745.6      0.0336\n",
       "cp748.1      0.0337\n",
       "cp750.8      0.0337\n",
       "cp753.5      0.0336\n",
       "                NaN\n",
       "Name: 0, Length: 89, dtype: object"
      ]
     },
     "execution_count": 45,
     "metadata": {},
     "output_type": "execute_result"
    }
   ],
   "source": [
    "df.iloc[0]"
   ]
  },
  {
   "cell_type": "code",
   "execution_count": 61,
   "id": "5d7871d7-7311-4807-883c-11ff7531958b",
   "metadata": {
    "tags": []
   },
   "outputs": [
    {
     "data": {
      "image/png": "[encoded data removed]",
      "text/plain": [
       "<Figure size 640x480 with 1 Axes>"
      ]
     },
     "metadata": {},
     "output_type": "display_data"
    }
   ],
   "source": [
    "plt.clf()\n",
    "ax = plt.gca()\n",
    "for jj in range(3):\n",
    "    ax.plot(wv_nm, spec[jj*100, :])\n",
    "#\n",
    "ax.set_xlabel('Wavelength (nm)')\n",
    "ax.set_ylabel('cp (1/m)')\n",
    "plt.show()"
   ]
  },
  {
   "cell_type": "code",
   "execution_count": null,
   "id": "706dd6a6-e4f9-43cd-8694-4fd29dd1cc1f",
   "metadata": {},
   "outputs": [],
   "source": []
  }
 ],
 "metadata": {
  "kernelspec": {
   "display_name": "Python 3 (ipykernel)",
   "language": "python",
   "name": "python3"
  },
  "language_info": {
   "codemirror_mode": {
    "name": "ipython",
    "version": 3
   },
   "file_extension": ".py",
   "mimetype": "text/x-python",
   "name": "python",
   "nbconvert_exporter": "python",
   "pygments_lexer": "ipython3",
   "version": "3.10.10"
  }
 },
 "nbformat": 4,
 "nbformat_minor": 5
}
