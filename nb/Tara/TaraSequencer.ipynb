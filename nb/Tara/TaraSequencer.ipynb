{
 "cells": [
  {
   "cell_type": "markdown",
   "id": "05beea78-5e9f-453f-9e3a-6529e7923d72",
   "metadata": {},
   "source": [
    "# Tara Sequencer"
   ]
  },
  {
   "cell_type": "code",
   "execution_count": 1,
   "id": "71677154-15b6-48d6-9d67-7e0ef98b2895",
   "metadata": {},
   "outputs": [],
   "source": [
    "# imports\n",
    "from importlib import reload\n",
    "import numpy as np\n",
    "import pandas\n",
    "import datetime\n",
    "\n",
    "from matplotlib import pyplot as plt\n",
    "from cartopy.mpl.gridliner import LONGITUDE_FORMATTER, LATITUDE_FORMATTER\n",
    "import cartopy.crs as ccrs\n",
    "import cartopy\n",
    "\n",
    "import seaborn as sns\n",
    "\n",
    "from oceancolor.tara import io\n",
    "from oceancolor.tara import spectra\n",
    "\n",
    "import sequencer\n",
    "from sequencer import sequencer_"
   ]
  },
  {
   "cell_type": "markdown",
   "id": "dc8b4643-223e-4c74-94c1-a736c18ce5a8",
   "metadata": {},
   "source": [
    "# Load the Table"
   ]
  },
  {
   "cell_type": "code",
   "execution_count": 2,
   "id": "fd347bf9-f891-429f-a404-3dea31ca80a4",
   "metadata": {},
   "outputs": [],
   "source": [
    "tara_db = io.load_tara_db()"
   ]
  },
  {
   "cell_type": "markdown",
   "id": "e60a7fcc-7612-457a-98f9-99e6192b7070",
   "metadata": {},
   "source": [
    "# Process the spectra"
   ]
  },
  {
   "cell_type": "code",
   "execution_count": 3,
   "id": "867863e8-73ae-43d2-8517-34a78741553c",
   "metadata": {},
   "outputs": [
    {
     "name": "stderr",
     "output_type": "stream",
     "text": [
      "/home/xavier/Projects/Oceanography/python/ocean-color/oceancolor/tara/spectra.py:248: RuntimeWarning: invalid value encountered in divide\n",
      "  isum = np.nansum(values[gd]*mask[gd], axis=0) / np.sum(mask[gd],axis=0)\n",
      "/home/xavier/Projects/Oceanography/python/ocean-color/oceancolor/tara/spectra.py:249: RuntimeWarning: invalid value encountered in divide\n",
      "  esum = np.nansum(err_vals[gd]*mask[gd], axis=0) / np.sum(mask[gd],axis=0)\n"
     ]
    }
   ],
   "source": [
    "reload(spectra)\n",
    "wv_nm, all_a_ph, all_a_ph_sig = spectra.spectra_from_table(tara_db)\n",
    "wv_grid = np.arange(402.5, 707.5, 5.)\n",
    "rwv_nm, r_aph, r_sig = spectra.rebin_to_grid(wv_nm, all_a_ph, all_a_ph_sig, wv_grid)"
   ]
  },
  {
   "cell_type": "code",
   "execution_count": 4,
   "id": "6010fc76-33a8-4a36-8b04-43ed7500cc7f",
   "metadata": {},
   "outputs": [
    {
     "data": {
      "text/plain": [
       "(302779, 60)"
      ]
     },
     "execution_count": 4,
     "metadata": {},
     "output_type": "execute_result"
    }
   ],
   "source": [
    "r_aph.shape"
   ]
  },
  {
   "cell_type": "markdown",
   "id": "bbe86b87-76cb-47c8-b4d1-829daf8c158a",
   "metadata": {},
   "source": [
    "# Remove bad spectra"
   ]
  },
  {
   "cell_type": "code",
   "execution_count": 5,
   "id": "47aa84f0-bcb2-4deb-bbac-f1a2a0a6d376",
   "metadata": {},
   "outputs": [],
   "source": [
    "tot_spec = np.nansum(r_aph, axis=-1)\n",
    "gd_tot = tot_spec > 0."
   ]
  },
  {
   "cell_type": "markdown",
   "id": "98595be2-6cc4-417c-bbf5-df1ae8808df5",
   "metadata": {},
   "source": [
    "## cut"
   ]
  },
  {
   "cell_type": "code",
   "execution_count": 6,
   "id": "26d21154-269e-4e6e-b39c-9475ba43d98e",
   "metadata": {},
   "outputs": [],
   "source": [
    "cull_raph = r_aph[gd_tot, :]\n",
    "cull_rsig = r_sig[gd_tot, :]"
   ]
  },
  {
   "cell_type": "markdown",
   "id": "91399d53-aad2-4159-beeb-a0c4ec037cb4",
   "metadata": {},
   "source": [
    "# Deal with NaN"
   ]
  },
  {
   "cell_type": "code",
   "execution_count": 7,
   "id": "dfcf4aba-cd11-4528-8785-e5b7d6e8b121",
   "metadata": {},
   "outputs": [
    {
     "name": "stdout",
     "output_type": "stream",
     "text": [
      "Nbad = 81851\n"
     ]
    }
   ],
   "source": [
    "bad = np.isnan(cull_raph) | (cull_rsig <= 0.) | (cull_raph <0.)\n",
    "print(f'Nbad = {np.sum(bad)}')\n",
    "# Replace\n",
    "cull_raph[bad] = 0.\n",
    "cull_rsig[bad] = 1e5"
   ]
  },
  {
   "cell_type": "markdown",
   "id": "7e862797-13c4-4f72-a6ac-0081aeeaa03a",
   "metadata": {},
   "source": [
    "# Start with a random set of spectra"
   ]
  },
  {
   "cell_type": "code",
   "execution_count": 8,
   "id": "01e580a5-d0d3-462d-a0be-b7fcedeca7c2",
   "metadata": {},
   "outputs": [],
   "source": [
    "rand = np.random.choice(np.arange(cull_raph.shape[0]), size=100, replace=False)\n",
    "rand_raph = cull_raph[rand,:]"
   ]
  },
  {
   "cell_type": "markdown",
   "id": "73063948-64e7-47fb-bcc6-2ed4493b8941",
   "metadata": {},
   "source": [
    "# Init the Sequencer"
   ]
  },
  {
   "cell_type": "code",
   "execution_count": 9,
   "id": "44a820d0-2834-4a2d-9ab8-02d702b7be06",
   "metadata": {},
   "outputs": [],
   "source": [
    "reload(sequencer_)\n",
    "estimator_list = ['EMD', 'energy', 'L2'] # Removed KL because of the 0 values\n",
    "seq = sequencer.Sequencer(rwv_nm, rand_raph, estimator_list)"
   ]
  },
  {
   "cell_type": "markdown",
   "id": "02bb27de-1f89-48fa-ae5d-dbf96e31f353",
   "metadata": {},
   "source": [
    "# Run it"
   ]
  },
  {
   "cell_type": "markdown",
   "id": "bb971e24-4b25-4695-b4ff-620e41d63bea",
   "metadata": {},
   "source": [
    "## Output directory"
   ]
  },
  {
   "cell_type": "code",
   "execution_count": 10,
   "id": "cdf6ef79-5ff1-4f81-8492-b6b6aef9942a",
   "metadata": {},
   "outputs": [
    {
     "name": "stdout",
     "output_type": "stream",
     "text": [
      "calculating the distance matrices for estimator: EMD, scale: 1\n",
      "finished calculating this distance matrix list, it took: 0.309450626373291 seconds\n",
      "calculating the distance matrices for estimator: EMD, scale: 2\n",
      "finished calculating this distance matrix list, it took: 0.4994215965270996 seconds\n",
      "calculating the distance matrices for estimator: energy, scale: 1\n",
      "finished calculating this distance matrix list, it took: 0.269620418548584 seconds\n",
      "calculating the distance matrices for estimator: energy, scale: 2\n",
      "finished calculating this distance matrix list, it took: 0.5101320743560791 seconds\n",
      "calculating the distance matrices for estimator: L2, scale: 1\n",
      "finished calculating this distance matrix list, it took: 0.023654460906982422 seconds\n",
      "calculating the distance matrices for estimator: L2, scale: 2\n",
      "finished calculating this distance matrix list, it took: 0.04581856727600098 seconds\n",
      "dumped the distance matrix dictionaries to the file: /home/xavier/Projects/Oceanography/Color/Sequencer/Tara/distance_matrices.pkl\n",
      "strating to sequence the different scales and estimators\n",
      "in estimator: EMD, scale: 1\n",
      "in estimator: EMD, scale: 2\n",
      "in estimator: energy, scale: 1\n",
      "in estimator: energy, scale: 2\n",
      "in estimator: L2, scale: 1\n",
      "in estimator: L2, scale: 2\n",
      "dumped the elongations to the file: /home/xavier/Projects/Oceanography/Color/Sequencer/Tara/elongations.pkl\n",
      "dumped the full weighted distance matrix to the file: /home/xavier/Projects/Oceanography/Color/Sequencer/Tara/weighted_distance_matrix.pkl\n",
      "dumped the sparse distance matrix to the file: <_io.BufferedWriter name='/home/xavier/Projects/Oceanography/Color/Sequencer/Tara/sparse_distance_matrix.pkl'>\n",
      "dumped the final sequences and elongation to the file: <_io.BufferedWriter name='/home/xavier/Projects/Oceanography/Color/Sequencer/Tara/final_products.pkl'>\n"
     ]
    },
    {
     "name": "stderr",
     "output_type": "stream",
     "text": [
      "/home/xavier/Python/Sequencer/sequencer/sequencer_.py:1032: RuntimeWarning: divide by zero encountered in divide\n",
      "  distance_matrix = 1.0 / proximity_matrix_copy\n"
     ]
    }
   ],
   "source": [
    "# to execute the sequencer, we first need to define the output directory to which the different \n",
    "# outputs will be saved\n",
    "output_path = \"/home/xavier/Projects/Oceanography/Color/Sequencer/Tara\"\n",
    "final_elongation, final_sequence = seq.execute(output_path)"
   ]
  },
  {
   "cell_type": "markdown",
   "id": "a6877ce6-cde4-4d99-b690-4148dbea3d67",
   "metadata": {},
   "source": [
    "----"
   ]
  },
  {
   "cell_type": "markdown",
   "id": "09b3eb0f-8c01-405a-96a0-af4091744542",
   "metadata": {},
   "source": [
    "# Debuggin"
   ]
  },
  {
   "cell_type": "code",
   "execution_count": 23,
   "id": "cc6695e0-f6f8-4e46-82e2-faf9674e3213",
   "metadata": {},
   "outputs": [
    {
     "data": {
      "text/plain": [
       "302779"
      ]
     },
     "execution_count": 23,
     "metadata": {},
     "output_type": "execute_result"
    }
   ],
   "source": [
    "norm = np.sum(r_aph, axis=-1)\n",
    "norm.size"
   ]
  },
  {
   "cell_type": "code",
   "execution_count": 25,
   "id": "74a593a0-1c62-4a0b-8b3d-8c65d57be806",
   "metadata": {},
   "outputs": [
    {
     "data": {
      "text/plain": [
       "15"
      ]
     },
     "execution_count": 25,
     "metadata": {},
     "output_type": "execute_result"
    }
   ],
   "source": [
    "bad = norm <= 0.\n",
    "np.sum(bad)"
   ]
  },
  {
   "cell_type": "code",
   "execution_count": null,
   "id": "8713d09f-8e6f-4f70-b9b4-be1696a1e983",
   "metadata": {},
   "outputs": [],
   "source": []
  }
 ],
 "metadata": {
  "kernelspec": {
   "display_name": "Python 3 (ipykernel)",
   "language": "python",
   "name": "python3"
  },
  "language_info": {
   "codemirror_mode": {
    "name": "ipython",
    "version": 3
   },
   "file_extension": ".py",
   "mimetype": "text/x-python",
   "name": "python",
   "nbconvert_exporter": "python",
   "pygments_lexer": "ipython3",
   "version": "3.10.10"
  }
 },
 "nbformat": 4,
 "nbformat_minor": 5
}
