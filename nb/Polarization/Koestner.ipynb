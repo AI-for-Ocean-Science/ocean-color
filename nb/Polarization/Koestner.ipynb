{
 "cells": [
  {
   "cell_type": "markdown",
   "id": "47d9410a-4a4d-4b0a-8852-c8636eb087ff",
   "metadata": {},
   "source": [
    "# Fussing with Koestner data"
   ]
  },
  {
   "cell_type": "code",
   "execution_count": 26,
   "id": "2ba9bdb8-0a62-4b17-9082-f40b8436e0ad",
   "metadata": {},
   "outputs": [],
   "source": [
    "# imports\n",
    "import os\n",
    "from pkg_resources import resource_filename\n",
    "\n",
    "import numpy as np \n",
    "import pandas\n",
    "\n",
    "import seaborn as sns\n",
    "from matplotlib import pyplot as plt"
   ]
  },
  {
   "cell_type": "markdown",
   "id": "37ffad4a-aa2c-42ac-99b9-40caeeff948f",
   "metadata": {},
   "source": [
    "# 2021"
   ]
  },
  {
   "cell_type": "markdown",
   "id": "191bd977-1a17-4fc5-83c0-3f80c75d7b8a",
   "metadata": {},
   "source": [
    "## Load"
   ]
  },
  {
   "cell_type": "code",
   "execution_count": 2,
   "id": "2bb10c7a-8f9f-480d-9f7e-1bcd598f64ab",
   "metadata": {},
   "outputs": [],
   "source": [
    "file_2021 = os.path.join(resource_filename('oceancolor', 'data'), 'polarization',\n",
    "                         'Koestner-et-al-2021_AO_VSFs.xlsx')"
   ]
  },
  {
   "cell_type": "code",
   "execution_count": 3,
   "id": "66ed6696-7693-4b35-99d2-98f135375df6",
   "metadata": {},
   "outputs": [],
   "source": [
    "k2021 = pandas.read_excel(file_2021, sheet_name=None)"
   ]
  },
  {
   "cell_type": "code",
   "execution_count": 4,
   "id": "35a9db45-852d-4c6e-a4fa-c8c2de342d94",
   "metadata": {},
   "outputs": [
    {
     "data": {
      "text/plain": [
       "dict"
      ]
     },
     "execution_count": 4,
     "metadata": {},
     "output_type": "execute_result"
    }
   ],
   "source": [
    "type(k2021)"
   ]
  },
  {
   "cell_type": "code",
   "execution_count": 5,
   "id": "4d5ece0b-a804-446a-b09f-0493f38fc85a",
   "metadata": {},
   "outputs": [
    {
     "data": {
      "text/plain": [
       "dict_keys(['Header', 'Lagoon', 'Minerals', 'Beaufort Sea - uncorrected', 'Beaufort Sea - corrected'])"
      ]
     },
     "execution_count": 5,
     "metadata": {},
     "output_type": "execute_result"
    }
   ],
   "source": [
    "k2021.keys()"
   ]
  },
  {
   "cell_type": "markdown",
   "id": "098e19eb-eba0-438e-8ac9-b8031e7bd58f",
   "metadata": {},
   "source": [
    "## Inspect"
   ]
  },
  {
   "cell_type": "code",
   "execution_count": 7,
   "id": "6888daf0-ebf9-49c4-a3f5-1300a57b21f7",
   "metadata": {},
   "outputs": [
    {
     "data": {
      "text/html": [
       "<div>\n",
       "<style scoped>\n",
       "    .dataframe tbody tr th:only-of-type {\n",
       "        vertical-align: middle;\n",
       "    }\n",
       "\n",
       "    .dataframe tbody tr th {\n",
       "        vertical-align: top;\n",
       "    }\n",
       "\n",
       "    .dataframe thead th {\n",
       "        text-align: right;\n",
       "    }\n",
       "</style>\n",
       "<table border=\"1\" class=\"dataframe\">\n",
       "  <thead>\n",
       "    <tr style=\"text-align: right;\">\n",
       "      <th></th>\n",
       "      <th>Unnamed: 0</th>\n",
       "      <th>DF</th>\n",
       "      <th>cp</th>\n",
       "      <th>bp</th>\n",
       "      <th>psi [deg]</th>\n",
       "      <th>0.0835672279422598</th>\n",
       "      <th>0.0986149963388654</th>\n",
       "      <th>0.116372360352576</th>\n",
       "      <th>0.137327211847728</th>\n",
       "      <th>0.162055283268576</th>\n",
       "      <th>...</th>\n",
       "      <th>146</th>\n",
       "      <th>147</th>\n",
       "      <th>148</th>\n",
       "      <th>149</th>\n",
       "      <th>150</th>\n",
       "      <th>151</th>\n",
       "      <th>152</th>\n",
       "      <th>153</th>\n",
       "      <th>154</th>\n",
       "      <th>155</th>\n",
       "    </tr>\n",
       "  </thead>\n",
       "  <tbody>\n",
       "    <tr>\n",
       "      <th>0</th>\n",
       "      <td>D1</td>\n",
       "      <td>10.000000</td>\n",
       "      <td>0.864469</td>\n",
       "      <td>0.519050</td>\n",
       "      <td>VSF</td>\n",
       "      <td>3854.486643</td>\n",
       "      <td>471.231643</td>\n",
       "      <td>320.400826</td>\n",
       "      <td>238.069404</td>\n",
       "      <td>189.937964</td>\n",
       "      <td>...</td>\n",
       "      <td>0.001652</td>\n",
       "      <td>0.001656</td>\n",
       "      <td>0.001661</td>\n",
       "      <td>0.001673</td>\n",
       "      <td>0.001690</td>\n",
       "      <td>0.001680</td>\n",
       "      <td>0.001669</td>\n",
       "      <td>0.001661</td>\n",
       "      <td>0.001541</td>\n",
       "      <td>0.001427</td>\n",
       "    </tr>\n",
       "    <tr>\n",
       "      <th>1</th>\n",
       "      <td>D2</td>\n",
       "      <td>5.000000</td>\n",
       "      <td>1.664396</td>\n",
       "      <td>1.079682</td>\n",
       "      <td>VSF</td>\n",
       "      <td>4071.868969</td>\n",
       "      <td>421.098896</td>\n",
       "      <td>334.024962</td>\n",
       "      <td>240.319114</td>\n",
       "      <td>266.436003</td>\n",
       "      <td>...</td>\n",
       "      <td>0.003644</td>\n",
       "      <td>0.003662</td>\n",
       "      <td>0.003687</td>\n",
       "      <td>0.003723</td>\n",
       "      <td>0.003762</td>\n",
       "      <td>0.003778</td>\n",
       "      <td>0.003818</td>\n",
       "      <td>0.003627</td>\n",
       "      <td>0.003405</td>\n",
       "      <td>0.003163</td>\n",
       "    </tr>\n",
       "    <tr>\n",
       "      <th>2</th>\n",
       "      <td>D3</td>\n",
       "      <td>2.500000</td>\n",
       "      <td>3.188510</td>\n",
       "      <td>2.233466</td>\n",
       "      <td>VSF</td>\n",
       "      <td>4864.553904</td>\n",
       "      <td>516.288611</td>\n",
       "      <td>467.208488</td>\n",
       "      <td>325.908436</td>\n",
       "      <td>443.013777</td>\n",
       "      <td>...</td>\n",
       "      <td>0.007839</td>\n",
       "      <td>0.007857</td>\n",
       "      <td>0.007855</td>\n",
       "      <td>0.007833</td>\n",
       "      <td>0.007797</td>\n",
       "      <td>0.007842</td>\n",
       "      <td>0.007803</td>\n",
       "      <td>0.007506</td>\n",
       "      <td>0.007115</td>\n",
       "      <td>0.006749</td>\n",
       "    </tr>\n",
       "    <tr>\n",
       "      <th>3</th>\n",
       "      <td>D4</td>\n",
       "      <td>1.681818</td>\n",
       "      <td>4.418871</td>\n",
       "      <td>3.458363</td>\n",
       "      <td>VSF</td>\n",
       "      <td>4506.665870</td>\n",
       "      <td>594.217607</td>\n",
       "      <td>568.291285</td>\n",
       "      <td>478.260934</td>\n",
       "      <td>529.745295</td>\n",
       "      <td>...</td>\n",
       "      <td>0.012305</td>\n",
       "      <td>0.012314</td>\n",
       "      <td>0.012328</td>\n",
       "      <td>0.012338</td>\n",
       "      <td>0.012344</td>\n",
       "      <td>0.012419</td>\n",
       "      <td>0.012379</td>\n",
       "      <td>0.011866</td>\n",
       "      <td>0.011365</td>\n",
       "      <td>0.010615</td>\n",
       "    </tr>\n",
       "    <tr>\n",
       "      <th>4</th>\n",
       "      <td>D5</td>\n",
       "      <td>1.000000</td>\n",
       "      <td>7.449091</td>\n",
       "      <td>6.997051</td>\n",
       "      <td>VSF</td>\n",
       "      <td>3046.452909</td>\n",
       "      <td>938.691231</td>\n",
       "      <td>881.460326</td>\n",
       "      <td>858.135735</td>\n",
       "      <td>889.976728</td>\n",
       "      <td>...</td>\n",
       "      <td>0.026307</td>\n",
       "      <td>0.026435</td>\n",
       "      <td>0.026605</td>\n",
       "      <td>0.026824</td>\n",
       "      <td>0.027066</td>\n",
       "      <td>0.027067</td>\n",
       "      <td>0.027005</td>\n",
       "      <td>0.026084</td>\n",
       "      <td>0.025011</td>\n",
       "      <td>0.023467</td>\n",
       "    </tr>\n",
       "  </tbody>\n",
       "</table>\n",
       "<p>5 rows × 178 columns</p>\n",
       "</div>"
      ],
      "text/plain": [
       "  Unnamed: 0         DF        cp        bp psi [deg]  0.0835672279422598   \n",
       "0         D1  10.000000  0.864469  0.519050       VSF         3854.486643  \\\n",
       "1         D2   5.000000  1.664396  1.079682       VSF         4071.868969   \n",
       "2         D3   2.500000  3.188510  2.233466       VSF         4864.553904   \n",
       "3         D4   1.681818  4.418871  3.458363       VSF         4506.665870   \n",
       "4         D5   1.000000  7.449091  6.997051       VSF         3046.452909   \n",
       "\n",
       "   0.0986149963388654  0.116372360352576  0.137327211847728   \n",
       "0          471.231643         320.400826         238.069404  \\\n",
       "1          421.098896         334.024962         240.319114   \n",
       "2          516.288611         467.208488         325.908436   \n",
       "3          594.217607         568.291285         478.260934   \n",
       "4          938.691231         881.460326         858.135735   \n",
       "\n",
       "   0.162055283268576  ...       146       147       148       149       150   \n",
       "0         189.937964  ...  0.001652  0.001656  0.001661  0.001673  0.001690  \\\n",
       "1         266.436003  ...  0.003644  0.003662  0.003687  0.003723  0.003762   \n",
       "2         443.013777  ...  0.007839  0.007857  0.007855  0.007833  0.007797   \n",
       "3         529.745295  ...  0.012305  0.012314  0.012328  0.012338  0.012344   \n",
       "4         889.976728  ...  0.026307  0.026435  0.026605  0.026824  0.027066   \n",
       "\n",
       "        151       152       153       154       155  \n",
       "0  0.001680  0.001669  0.001661  0.001541  0.001427  \n",
       "1  0.003778  0.003818  0.003627  0.003405  0.003163  \n",
       "2  0.007842  0.007803  0.007506  0.007115  0.006749  \n",
       "3  0.012419  0.012379  0.011866  0.011365  0.010615  \n",
       "4  0.027067  0.027005  0.026084  0.025011  0.023467  \n",
       "\n",
       "[5 rows x 178 columns]"
      ]
     },
     "execution_count": 7,
     "metadata": {},
     "output_type": "execute_result"
    }
   ],
   "source": [
    "k2021['Lagoon']"
   ]
  },
  {
   "cell_type": "code",
   "execution_count": 9,
   "id": "91502f90-02fb-48d6-9792-e7a6d2ef1def",
   "metadata": {},
   "outputs": [
    {
     "data": {
      "text/plain": [
       "Index([      'Unnamed: 0',               'DF',               'cp',\n",
       "                     'bp',        'psi [deg]', 0.0835672279422598,\n",
       "       0.0986149963388654,  0.116372360352576,  0.137327211847728,\n",
       "        0.162055283268576,\n",
       "       ...\n",
       "                      146,                147,                148,\n",
       "                      149,                150,                151,\n",
       "                      152,                153,                154,\n",
       "                      155],\n",
       "      dtype='object', length=178)"
      ]
     },
     "execution_count": 9,
     "metadata": {},
     "output_type": "execute_result"
    }
   ],
   "source": [
    "k2021['Lagoon'].keys()"
   ]
  },
  {
   "cell_type": "markdown",
   "id": "46051894-7e76-4d9e-ac2f-c398b3f32c99",
   "metadata": {},
   "source": [
    "## Plot something"
   ]
  },
  {
   "cell_type": "markdown",
   "id": "16128921-bcea-4d15-8246-7e08dacc49f2",
   "metadata": {},
   "source": [
    "### Slurp $\\psi$"
   ]
  },
  {
   "cell_type": "code",
   "execution_count": 35,
   "id": "ae562f53-ef85-4016-addb-d95ad1343053",
   "metadata": {},
   "outputs": [],
   "source": [
    "psis = []\n",
    "psi_cols = []\n",
    "cols = []\n",
    "for key in k2021['Lagoon'].keys():\n",
    "    try:\n",
    "        psis.append(float(key))\n",
    "    except:\n",
    "        pass\n",
    "    else:\n",
    "        psi_cols.append(key)\n",
    "        cols.append(k2021['Lagoon'][key])\n",
    "                    \n",
    "# Recast\n",
    "psis = np.array(psis)\n",
    "psi_data = np.concatenate(cols).reshape(len(psi_cols),(len(k2021['Lagoon'])))"
   ]
  },
  {
   "cell_type": "code",
   "execution_count": 36,
   "id": "0d68bfe5-14f8-4c72-8279-febe16c354ca",
   "metadata": {},
   "outputs": [
    {
     "data": {
      "text/plain": [
       "(array([0.08356723, 0.098615  , 0.11637236, 0.13732721, 0.16205528]),\n",
       " [0.0835672279422598,\n",
       "  0.0986149963388654,\n",
       "  0.116372360352576,\n",
       "  0.137327211847728,\n",
       "  0.162055283268576])"
      ]
     },
     "execution_count": 36,
     "metadata": {},
     "output_type": "execute_result"
    }
   ],
   "source": [
    "psis[0:5], psi_cols[0:5]"
   ]
  },
  {
   "cell_type": "code",
   "execution_count": 37,
   "id": "697c2933-e386-4455-aaca-cc33022a8fe9",
   "metadata": {},
   "outputs": [
    {
     "data": {
      "text/plain": [
       "((173, 5), 173)"
      ]
     },
     "execution_count": 37,
     "metadata": {},
     "output_type": "execute_result"
    }
   ],
   "source": [
    "psi_data.shape, psis.size"
   ]
  },
  {
   "cell_type": "code",
   "execution_count": 33,
   "id": "1c4036e7-1af1-4742-beaa-39491eee0d1d",
   "metadata": {},
   "outputs": [
    {
     "data": {
      "text/plain": [
       "0    3854.486643\n",
       "1    4071.868969\n",
       "2    4864.553904\n",
       "3    4506.665870\n",
       "4    3046.452909\n",
       "Name: 0.0835672279422598, dtype: float64"
      ]
     },
     "execution_count": 33,
     "metadata": {},
     "output_type": "execute_result"
    }
   ],
   "source": [
    "cols[0]"
   ]
  },
  {
   "cell_type": "code",
   "execution_count": 38,
   "id": "99882b68-c47c-48c2-85ec-8dd47d029051",
   "metadata": {},
   "outputs": [
    {
     "data": {
      "text/plain": [
       "array([3854.48664325, 4071.86896927, 4864.55390413, 4506.66587034,\n",
       "       3046.45290906])"
      ]
     },
     "execution_count": 38,
     "metadata": {},
     "output_type": "execute_result"
    }
   ],
   "source": [
    "psi_data[0,:]"
   ]
  },
  {
   "cell_type": "code",
   "execution_count": 42,
   "id": "480e7279-7be1-4d44-90f1-b6dfe477bb6c",
   "metadata": {},
   "outputs": [
    {
     "data": {
      "image/png": "[encoded data removed]",
      "text/plain": [
       "<Figure size 640x480 with 1 Axes>"
      ]
     },
     "metadata": {},
     "output_type": "display_data"
    }
   ],
   "source": [
    "# D1, D2\n",
    "idxs = [0,1,2,3,4]\n",
    "plt.clf()\n",
    "ax = plt.gca()\n",
    "for idx in idxs:\n",
    "    ax.plot(psis, psi_data[:,idx], label=f\"DF={k2021['Lagoon'].iloc[idx].DF}\")\n",
    "#\n",
    "# Axes\n",
    "ax.set_xlabel(r'$\\psi$ [deg]')\n",
    "#ax.set_xlim(10, 155.)\n",
    "ax.set_yscale('log')\n",
    "ax.legend()\n",
    "plt.show()"
   ]
  },
  {
   "cell_type": "code",
   "execution_count": null,
   "id": "a706932a-7f49-49ea-a2e3-02e62dd3a3a3",
   "metadata": {},
   "outputs": [],
   "source": []
  }
 ],
 "metadata": {
  "kernelspec": {
   "display_name": "Python 3 (ipykernel)",
   "language": "python",
   "name": "python3"
  },
  "language_info": {
   "codemirror_mode": {
    "name": "ipython",
    "version": 3
   },
   "file_extension": ".py",
   "mimetype": "text/x-python",
   "name": "python",
   "nbconvert_exporter": "python",
   "pygments_lexer": "ipython3",
   "version": "3.10.10"
  }
 },
 "nbformat": 4,
 "nbformat_minor": 5
}
